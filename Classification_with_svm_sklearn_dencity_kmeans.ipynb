{
  "cells": [
    {
      "cell_type": "markdown",
      "metadata": {
        "id": "view-in-github",
        "colab_type": "text"
      },
      "source": [
        "<a href=\"https://colab.research.google.com/github/mahhhdy/thesis/blob/main/Classification_with_svm_sklearn_dencity_kmeans.ipynb\" target=\"_parent\"><img src=\"https://colab.research.google.com/assets/colab-badge.svg\" alt=\"Open In Colab\"/></a>"
      ]
    },
    {
      "cell_type": "markdown",
      "metadata": {
        "id": "KYJS8G728Wtl"
      },
      "source": [
        "\n",
        "this post has been used </br>\n",
        "https://github.com/NourozR/Stock-Price-Prediction-LSTM/blob/1829ad5c8b3ece7b0e9c16fd76cf2550142683b2/StockPricePrediction.py#L11"
      ]
    },
    {
      "cell_type": "code",
      "execution_count": 152,
      "metadata": {
        "id": "-UvOhWK64Fnj",
        "colab": {
          "base_uri": "https://localhost:8080/"
        },
        "outputId": "5afec151-f8e7-49c3-988c-024bc96eea4a"
      },
      "outputs": [
        {
          "output_type": "stream",
          "name": "stdout",
          "text": [
            "Drive already mounted at /content/drive; to attempt to forcibly remount, call drive.mount(\"/content/drive\", force_remount=True).\n"
          ]
        }
      ],
      "source": [
        "import numpy as np\n",
        "import matplotlib.pyplot as plt\n",
        "import pandas as pd\n",
        "import math\n",
        "from keras.models import Sequential\n",
        "from keras.layers import Dense , Activation, Dropout\n",
        "from keras.layers import LSTM , SimpleRNN\n",
        "from keras.layers import BatchNormalization\n",
        "from sklearn.metrics import mean_squared_error\n",
        "from google.colab import drive\n",
        "from google.colab import files\n",
        "# from keras.layers.normalization import batch_normalization\n",
        "\n",
        "from scipy.spatial.distance import euclidean\n",
        "from fastdtw import fastdtw\n",
        "\n",
        "np.random.seed(7)\n",
        "\n",
        "########## import dataset ##########\n",
        "drive.mount('/content/drive')\n",
        "path='/content/drive/MyDrive/DataSets/BTCPrediction/15XAUUSD.csv'\n",
        "dataset = pd.read_csv(path,usecols=[1,2,3,4])\n",
        "# dataset = pd.read_csv(path)\n",
        "\n",
        "########## import Guass rank scaler ##########\n",
        "!cp /content/drive/MyDrive/Colab\\ Notebooks/Thesis/gauss_rank_scaler.py /content/\n"
      ]
    },
    {
      "cell_type": "code",
      "source": [
        "dataset = dataset.rename({'Time':'Date','|PD|':'PD'},axis=1)"
      ],
      "metadata": {
        "id": "0xHYtowVi0Ed"
      },
      "execution_count": 153,
      "outputs": []
    },
    {
      "cell_type": "code",
      "execution_count": 154,
      "metadata": {
        "id": "ZBG9pDSeXp08"
      },
      "outputs": [],
      "source": [
        "dataset = dataset.reindex(index = dataset.index[::-1])"
      ]
    },
    {
      "cell_type": "code",
      "execution_count": 155,
      "metadata": {
        "id": "f9k2UmjcXrcE",
        "colab": {
          "base_uri": "https://localhost:8080/"
        },
        "outputId": "05440bba-8e18-421e-90a5-f71e76fe3142"
      },
      "outputs": [
        {
          "output_type": "execute_result",
          "data": {
            "text/plain": [
              "array([   1,    2,    3, ..., 1998, 1999, 2000])"
            ]
          },
          "metadata": {},
          "execution_count": 155
        }
      ],
      "source": [
        "obs = np.arange(1, len(dataset) + 1, 1)\n",
        "obs"
      ]
    },
    {
      "cell_type": "code",
      "source": [
        "dataset['Average'] = dataset[['Open','Close','Low','High']].mean(axis=1)\n",
        "dataset"
      ],
      "metadata": {
        "colab": {
          "base_uri": "https://localhost:8080/",
          "height": 424
        },
        "id": "Gq-Z8d3aFeeV",
        "outputId": "92bfa3d9-05a6-40b6-dd44-c82934a90b65"
      },
      "execution_count": 156,
      "outputs": [
        {
          "output_type": "execute_result",
          "data": {
            "text/plain": [
              "         Open     High      Low    Close    Average\n",
              "1999  1969.85  1969.89  1968.79  1969.83  1969.5900\n",
              "1998  1969.83  1970.20  1968.71  1969.82  1969.6400\n",
              "1997  1969.82  1970.53  1969.43  1969.59  1969.8425\n",
              "1996  1969.62  1969.63  1967.69  1968.26  1968.8000\n",
              "1995  1968.26  1969.20  1967.60  1969.19  1968.5625\n",
              "...       ...      ...      ...      ...        ...\n",
              "4     1807.78  1809.65  1807.64  1809.45  1808.6300\n",
              "3     1809.45  1810.18  1808.86  1809.46  1809.4875\n",
              "2     1809.43  1810.43  1809.42  1810.31  1809.8975\n",
              "1     1810.26  1811.15  1810.07  1811.13  1810.6525\n",
              "0     1811.15  1812.04  1810.50  1811.58  1811.3175\n",
              "\n",
              "[2000 rows x 5 columns]"
            ],
            "text/html": [
              "\n",
              "  <div id=\"df-40d7d352-b364-474a-84a0-0c2b0f1e47fb\">\n",
              "    <div class=\"colab-df-container\">\n",
              "      <div>\n",
              "<style scoped>\n",
              "    .dataframe tbody tr th:only-of-type {\n",
              "        vertical-align: middle;\n",
              "    }\n",
              "\n",
              "    .dataframe tbody tr th {\n",
              "        vertical-align: top;\n",
              "    }\n",
              "\n",
              "    .dataframe thead th {\n",
              "        text-align: right;\n",
              "    }\n",
              "</style>\n",
              "<table border=\"1\" class=\"dataframe\">\n",
              "  <thead>\n",
              "    <tr style=\"text-align: right;\">\n",
              "      <th></th>\n",
              "      <th>Open</th>\n",
              "      <th>High</th>\n",
              "      <th>Low</th>\n",
              "      <th>Close</th>\n",
              "      <th>Average</th>\n",
              "    </tr>\n",
              "  </thead>\n",
              "  <tbody>\n",
              "    <tr>\n",
              "      <th>1999</th>\n",
              "      <td>1969.85</td>\n",
              "      <td>1969.89</td>\n",
              "      <td>1968.79</td>\n",
              "      <td>1969.83</td>\n",
              "      <td>1969.5900</td>\n",
              "    </tr>\n",
              "    <tr>\n",
              "      <th>1998</th>\n",
              "      <td>1969.83</td>\n",
              "      <td>1970.20</td>\n",
              "      <td>1968.71</td>\n",
              "      <td>1969.82</td>\n",
              "      <td>1969.6400</td>\n",
              "    </tr>\n",
              "    <tr>\n",
              "      <th>1997</th>\n",
              "      <td>1969.82</td>\n",
              "      <td>1970.53</td>\n",
              "      <td>1969.43</td>\n",
              "      <td>1969.59</td>\n",
              "      <td>1969.8425</td>\n",
              "    </tr>\n",
              "    <tr>\n",
              "      <th>1996</th>\n",
              "      <td>1969.62</td>\n",
              "      <td>1969.63</td>\n",
              "      <td>1967.69</td>\n",
              "      <td>1968.26</td>\n",
              "      <td>1968.8000</td>\n",
              "    </tr>\n",
              "    <tr>\n",
              "      <th>1995</th>\n",
              "      <td>1968.26</td>\n",
              "      <td>1969.20</td>\n",
              "      <td>1967.60</td>\n",
              "      <td>1969.19</td>\n",
              "      <td>1968.5625</td>\n",
              "    </tr>\n",
              "    <tr>\n",
              "      <th>...</th>\n",
              "      <td>...</td>\n",
              "      <td>...</td>\n",
              "      <td>...</td>\n",
              "      <td>...</td>\n",
              "      <td>...</td>\n",
              "    </tr>\n",
              "    <tr>\n",
              "      <th>4</th>\n",
              "      <td>1807.78</td>\n",
              "      <td>1809.65</td>\n",
              "      <td>1807.64</td>\n",
              "      <td>1809.45</td>\n",
              "      <td>1808.6300</td>\n",
              "    </tr>\n",
              "    <tr>\n",
              "      <th>3</th>\n",
              "      <td>1809.45</td>\n",
              "      <td>1810.18</td>\n",
              "      <td>1808.86</td>\n",
              "      <td>1809.46</td>\n",
              "      <td>1809.4875</td>\n",
              "    </tr>\n",
              "    <tr>\n",
              "      <th>2</th>\n",
              "      <td>1809.43</td>\n",
              "      <td>1810.43</td>\n",
              "      <td>1809.42</td>\n",
              "      <td>1810.31</td>\n",
              "      <td>1809.8975</td>\n",
              "    </tr>\n",
              "    <tr>\n",
              "      <th>1</th>\n",
              "      <td>1810.26</td>\n",
              "      <td>1811.15</td>\n",
              "      <td>1810.07</td>\n",
              "      <td>1811.13</td>\n",
              "      <td>1810.6525</td>\n",
              "    </tr>\n",
              "    <tr>\n",
              "      <th>0</th>\n",
              "      <td>1811.15</td>\n",
              "      <td>1812.04</td>\n",
              "      <td>1810.50</td>\n",
              "      <td>1811.58</td>\n",
              "      <td>1811.3175</td>\n",
              "    </tr>\n",
              "  </tbody>\n",
              "</table>\n",
              "<p>2000 rows × 5 columns</p>\n",
              "</div>\n",
              "      <button class=\"colab-df-convert\" onclick=\"convertToInteractive('df-40d7d352-b364-474a-84a0-0c2b0f1e47fb')\"\n",
              "              title=\"Convert this dataframe to an interactive table.\"\n",
              "              style=\"display:none;\">\n",
              "        \n",
              "  <svg xmlns=\"http://www.w3.org/2000/svg\" height=\"24px\"viewBox=\"0 0 24 24\"\n",
              "       width=\"24px\">\n",
              "    <path d=\"M0 0h24v24H0V0z\" fill=\"none\"/>\n",
              "    <path d=\"M18.56 5.44l.94 2.06.94-2.06 2.06-.94-2.06-.94-.94-2.06-.94 2.06-2.06.94zm-11 1L8.5 8.5l.94-2.06 2.06-.94-2.06-.94L8.5 2.5l-.94 2.06-2.06.94zm10 10l.94 2.06.94-2.06 2.06-.94-2.06-.94-.94-2.06-.94 2.06-2.06.94z\"/><path d=\"M17.41 7.96l-1.37-1.37c-.4-.4-.92-.59-1.43-.59-.52 0-1.04.2-1.43.59L10.3 9.45l-7.72 7.72c-.78.78-.78 2.05 0 2.83L4 21.41c.39.39.9.59 1.41.59.51 0 1.02-.2 1.41-.59l7.78-7.78 2.81-2.81c.8-.78.8-2.07 0-2.86zM5.41 20L4 18.59l7.72-7.72 1.47 1.35L5.41 20z\"/>\n",
              "  </svg>\n",
              "      </button>\n",
              "      \n",
              "  <style>\n",
              "    .colab-df-container {\n",
              "      display:flex;\n",
              "      flex-wrap:wrap;\n",
              "      gap: 12px;\n",
              "    }\n",
              "\n",
              "    .colab-df-convert {\n",
              "      background-color: #E8F0FE;\n",
              "      border: none;\n",
              "      border-radius: 50%;\n",
              "      cursor: pointer;\n",
              "      display: none;\n",
              "      fill: #1967D2;\n",
              "      height: 32px;\n",
              "      padding: 0 0 0 0;\n",
              "      width: 32px;\n",
              "    }\n",
              "\n",
              "    .colab-df-convert:hover {\n",
              "      background-color: #E2EBFA;\n",
              "      box-shadow: 0px 1px 2px rgba(60, 64, 67, 0.3), 0px 1px 3px 1px rgba(60, 64, 67, 0.15);\n",
              "      fill: #174EA6;\n",
              "    }\n",
              "\n",
              "    [theme=dark] .colab-df-convert {\n",
              "      background-color: #3B4455;\n",
              "      fill: #D2E3FC;\n",
              "    }\n",
              "\n",
              "    [theme=dark] .colab-df-convert:hover {\n",
              "      background-color: #434B5C;\n",
              "      box-shadow: 0px 1px 3px 1px rgba(0, 0, 0, 0.15);\n",
              "      filter: drop-shadow(0px 1px 2px rgba(0, 0, 0, 0.3));\n",
              "      fill: #FFFFFF;\n",
              "    }\n",
              "  </style>\n",
              "\n",
              "      <script>\n",
              "        const buttonEl =\n",
              "          document.querySelector('#df-40d7d352-b364-474a-84a0-0c2b0f1e47fb button.colab-df-convert');\n",
              "        buttonEl.style.display =\n",
              "          google.colab.kernel.accessAllowed ? 'block' : 'none';\n",
              "\n",
              "        async function convertToInteractive(key) {\n",
              "          const element = document.querySelector('#df-40d7d352-b364-474a-84a0-0c2b0f1e47fb');\n",
              "          const dataTable =\n",
              "            await google.colab.kernel.invokeFunction('convertToInteractive',\n",
              "                                                     [key], {});\n",
              "          if (!dataTable) return;\n",
              "\n",
              "          const docLinkHtml = 'Like what you see? Visit the ' +\n",
              "            '<a target=\"_blank\" href=https://colab.research.google.com/notebooks/data_table.ipynb>data table notebook</a>'\n",
              "            + ' to learn more about interactive tables.';\n",
              "          element.innerHTML = '';\n",
              "          dataTable['output_type'] = 'display_data';\n",
              "          await google.colab.output.renderOutput(dataTable, element);\n",
              "          const docLink = document.createElement('div');\n",
              "          docLink.innerHTML = docLinkHtml;\n",
              "          element.appendChild(docLink);\n",
              "        }\n",
              "      </script>\n",
              "    </div>\n",
              "  </div>\n",
              "  "
            ]
          },
          "metadata": {},
          "execution_count": 156
        }
      ]
    },
    {
      "cell_type": "code",
      "source": [
        "dataset['State'] =( dataset['Close'] > dataset['Open']).astype(int)\n",
        "dataset"
      ],
      "metadata": {
        "colab": {
          "base_uri": "https://localhost:8080/",
          "height": 424
        },
        "id": "1idd0XvWA1Bl",
        "outputId": "7a7d79a7-1459-4f8b-a946-ed0bf9fc89aa"
      },
      "execution_count": 157,
      "outputs": [
        {
          "output_type": "execute_result",
          "data": {
            "text/plain": [
              "         Open     High      Low    Close    Average  State\n",
              "1999  1969.85  1969.89  1968.79  1969.83  1969.5900      0\n",
              "1998  1969.83  1970.20  1968.71  1969.82  1969.6400      0\n",
              "1997  1969.82  1970.53  1969.43  1969.59  1969.8425      0\n",
              "1996  1969.62  1969.63  1967.69  1968.26  1968.8000      0\n",
              "1995  1968.26  1969.20  1967.60  1969.19  1968.5625      1\n",
              "...       ...      ...      ...      ...        ...    ...\n",
              "4     1807.78  1809.65  1807.64  1809.45  1808.6300      1\n",
              "3     1809.45  1810.18  1808.86  1809.46  1809.4875      1\n",
              "2     1809.43  1810.43  1809.42  1810.31  1809.8975      1\n",
              "1     1810.26  1811.15  1810.07  1811.13  1810.6525      1\n",
              "0     1811.15  1812.04  1810.50  1811.58  1811.3175      1\n",
              "\n",
              "[2000 rows x 6 columns]"
            ],
            "text/html": [
              "\n",
              "  <div id=\"df-3283656c-a2bf-44de-8054-9fc94845a9be\">\n",
              "    <div class=\"colab-df-container\">\n",
              "      <div>\n",
              "<style scoped>\n",
              "    .dataframe tbody tr th:only-of-type {\n",
              "        vertical-align: middle;\n",
              "    }\n",
              "\n",
              "    .dataframe tbody tr th {\n",
              "        vertical-align: top;\n",
              "    }\n",
              "\n",
              "    .dataframe thead th {\n",
              "        text-align: right;\n",
              "    }\n",
              "</style>\n",
              "<table border=\"1\" class=\"dataframe\">\n",
              "  <thead>\n",
              "    <tr style=\"text-align: right;\">\n",
              "      <th></th>\n",
              "      <th>Open</th>\n",
              "      <th>High</th>\n",
              "      <th>Low</th>\n",
              "      <th>Close</th>\n",
              "      <th>Average</th>\n",
              "      <th>State</th>\n",
              "    </tr>\n",
              "  </thead>\n",
              "  <tbody>\n",
              "    <tr>\n",
              "      <th>1999</th>\n",
              "      <td>1969.85</td>\n",
              "      <td>1969.89</td>\n",
              "      <td>1968.79</td>\n",
              "      <td>1969.83</td>\n",
              "      <td>1969.5900</td>\n",
              "      <td>0</td>\n",
              "    </tr>\n",
              "    <tr>\n",
              "      <th>1998</th>\n",
              "      <td>1969.83</td>\n",
              "      <td>1970.20</td>\n",
              "      <td>1968.71</td>\n",
              "      <td>1969.82</td>\n",
              "      <td>1969.6400</td>\n",
              "      <td>0</td>\n",
              "    </tr>\n",
              "    <tr>\n",
              "      <th>1997</th>\n",
              "      <td>1969.82</td>\n",
              "      <td>1970.53</td>\n",
              "      <td>1969.43</td>\n",
              "      <td>1969.59</td>\n",
              "      <td>1969.8425</td>\n",
              "      <td>0</td>\n",
              "    </tr>\n",
              "    <tr>\n",
              "      <th>1996</th>\n",
              "      <td>1969.62</td>\n",
              "      <td>1969.63</td>\n",
              "      <td>1967.69</td>\n",
              "      <td>1968.26</td>\n",
              "      <td>1968.8000</td>\n",
              "      <td>0</td>\n",
              "    </tr>\n",
              "    <tr>\n",
              "      <th>1995</th>\n",
              "      <td>1968.26</td>\n",
              "      <td>1969.20</td>\n",
              "      <td>1967.60</td>\n",
              "      <td>1969.19</td>\n",
              "      <td>1968.5625</td>\n",
              "      <td>1</td>\n",
              "    </tr>\n",
              "    <tr>\n",
              "      <th>...</th>\n",
              "      <td>...</td>\n",
              "      <td>...</td>\n",
              "      <td>...</td>\n",
              "      <td>...</td>\n",
              "      <td>...</td>\n",
              "      <td>...</td>\n",
              "    </tr>\n",
              "    <tr>\n",
              "      <th>4</th>\n",
              "      <td>1807.78</td>\n",
              "      <td>1809.65</td>\n",
              "      <td>1807.64</td>\n",
              "      <td>1809.45</td>\n",
              "      <td>1808.6300</td>\n",
              "      <td>1</td>\n",
              "    </tr>\n",
              "    <tr>\n",
              "      <th>3</th>\n",
              "      <td>1809.45</td>\n",
              "      <td>1810.18</td>\n",
              "      <td>1808.86</td>\n",
              "      <td>1809.46</td>\n",
              "      <td>1809.4875</td>\n",
              "      <td>1</td>\n",
              "    </tr>\n",
              "    <tr>\n",
              "      <th>2</th>\n",
              "      <td>1809.43</td>\n",
              "      <td>1810.43</td>\n",
              "      <td>1809.42</td>\n",
              "      <td>1810.31</td>\n",
              "      <td>1809.8975</td>\n",
              "      <td>1</td>\n",
              "    </tr>\n",
              "    <tr>\n",
              "      <th>1</th>\n",
              "      <td>1810.26</td>\n",
              "      <td>1811.15</td>\n",
              "      <td>1810.07</td>\n",
              "      <td>1811.13</td>\n",
              "      <td>1810.6525</td>\n",
              "      <td>1</td>\n",
              "    </tr>\n",
              "    <tr>\n",
              "      <th>0</th>\n",
              "      <td>1811.15</td>\n",
              "      <td>1812.04</td>\n",
              "      <td>1810.50</td>\n",
              "      <td>1811.58</td>\n",
              "      <td>1811.3175</td>\n",
              "      <td>1</td>\n",
              "    </tr>\n",
              "  </tbody>\n",
              "</table>\n",
              "<p>2000 rows × 6 columns</p>\n",
              "</div>\n",
              "      <button class=\"colab-df-convert\" onclick=\"convertToInteractive('df-3283656c-a2bf-44de-8054-9fc94845a9be')\"\n",
              "              title=\"Convert this dataframe to an interactive table.\"\n",
              "              style=\"display:none;\">\n",
              "        \n",
              "  <svg xmlns=\"http://www.w3.org/2000/svg\" height=\"24px\"viewBox=\"0 0 24 24\"\n",
              "       width=\"24px\">\n",
              "    <path d=\"M0 0h24v24H0V0z\" fill=\"none\"/>\n",
              "    <path d=\"M18.56 5.44l.94 2.06.94-2.06 2.06-.94-2.06-.94-.94-2.06-.94 2.06-2.06.94zm-11 1L8.5 8.5l.94-2.06 2.06-.94-2.06-.94L8.5 2.5l-.94 2.06-2.06.94zm10 10l.94 2.06.94-2.06 2.06-.94-2.06-.94-.94-2.06-.94 2.06-2.06.94z\"/><path d=\"M17.41 7.96l-1.37-1.37c-.4-.4-.92-.59-1.43-.59-.52 0-1.04.2-1.43.59L10.3 9.45l-7.72 7.72c-.78.78-.78 2.05 0 2.83L4 21.41c.39.39.9.59 1.41.59.51 0 1.02-.2 1.41-.59l7.78-7.78 2.81-2.81c.8-.78.8-2.07 0-2.86zM5.41 20L4 18.59l7.72-7.72 1.47 1.35L5.41 20z\"/>\n",
              "  </svg>\n",
              "      </button>\n",
              "      \n",
              "  <style>\n",
              "    .colab-df-container {\n",
              "      display:flex;\n",
              "      flex-wrap:wrap;\n",
              "      gap: 12px;\n",
              "    }\n",
              "\n",
              "    .colab-df-convert {\n",
              "      background-color: #E8F0FE;\n",
              "      border: none;\n",
              "      border-radius: 50%;\n",
              "      cursor: pointer;\n",
              "      display: none;\n",
              "      fill: #1967D2;\n",
              "      height: 32px;\n",
              "      padding: 0 0 0 0;\n",
              "      width: 32px;\n",
              "    }\n",
              "\n",
              "    .colab-df-convert:hover {\n",
              "      background-color: #E2EBFA;\n",
              "      box-shadow: 0px 1px 2px rgba(60, 64, 67, 0.3), 0px 1px 3px 1px rgba(60, 64, 67, 0.15);\n",
              "      fill: #174EA6;\n",
              "    }\n",
              "\n",
              "    [theme=dark] .colab-df-convert {\n",
              "      background-color: #3B4455;\n",
              "      fill: #D2E3FC;\n",
              "    }\n",
              "\n",
              "    [theme=dark] .colab-df-convert:hover {\n",
              "      background-color: #434B5C;\n",
              "      box-shadow: 0px 1px 3px 1px rgba(0, 0, 0, 0.15);\n",
              "      filter: drop-shadow(0px 1px 2px rgba(0, 0, 0, 0.3));\n",
              "      fill: #FFFFFF;\n",
              "    }\n",
              "  </style>\n",
              "\n",
              "      <script>\n",
              "        const buttonEl =\n",
              "          document.querySelector('#df-3283656c-a2bf-44de-8054-9fc94845a9be button.colab-df-convert');\n",
              "        buttonEl.style.display =\n",
              "          google.colab.kernel.accessAllowed ? 'block' : 'none';\n",
              "\n",
              "        async function convertToInteractive(key) {\n",
              "          const element = document.querySelector('#df-3283656c-a2bf-44de-8054-9fc94845a9be');\n",
              "          const dataTable =\n",
              "            await google.colab.kernel.invokeFunction('convertToInteractive',\n",
              "                                                     [key], {});\n",
              "          if (!dataTable) return;\n",
              "\n",
              "          const docLinkHtml = 'Like what you see? Visit the ' +\n",
              "            '<a target=\"_blank\" href=https://colab.research.google.com/notebooks/data_table.ipynb>data table notebook</a>'\n",
              "            + ' to learn more about interactive tables.';\n",
              "          element.innerHTML = '';\n",
              "          dataTable['output_type'] = 'display_data';\n",
              "          await google.colab.output.renderOutput(dataTable, element);\n",
              "          const docLink = document.createElement('div');\n",
              "          docLink.innerHTML = docLinkHtml;\n",
              "          element.appendChild(docLink);\n",
              "        }\n",
              "      </script>\n",
              "    </div>\n",
              "  </div>\n",
              "  "
            ]
          },
          "metadata": {},
          "execution_count": 157
        }
      ]
    },
    {
      "cell_type": "code",
      "execution_count": 158,
      "metadata": {
        "id": "PVKZ1CGvXsPt"
      },
      "outputs": [],
      "source": [
        "# TAKING DIFFERENT INDICATORS FOR PREDICTION\n",
        "OHLC_avg = dataset[['Average']]\n",
        "# HLC_avg = dataset[['High', 'Low', 'Close']].mean(axis = 1)\n",
        "close_val = dataset[['State']]"
      ]
    },
    {
      "cell_type": "code",
      "execution_count": 160,
      "metadata": {
        "colab": {
          "base_uri": "https://localhost:8080/",
          "height": 374
        },
        "id": "6k37UGVjXtXH",
        "outputId": "f908ce1b-932a-44d8-da7a-be644fda236e"
      },
      "outputs": [
        {
          "output_type": "display_data",
          "data": {
            "text/plain": [
              "<Figure size 1296x432 with 1 Axes>"
            ],
            "image/png": "[encoded data removed]"
          },
          "metadata": {
            "needs_background": "light"
          }
        }
      ],
      "source": [
        "plt.figure(figsize=(18,6))\n",
        "plt.plot(obs, OHLC_avg, 'r', label = 'OHLC avg')\n",
        "plt.plot(obs, close_val, 'g', label = 'Closing price')\n",
        "plt.legend(loc = 'upper right')\n",
        "plt.show()"
      ]
    },
    {
      "cell_type": "code",
      "source": [
        "# from gauss_rank_scaler import GaussRankScaler\n",
        "# scaler = GaussRankScaler()"
      ],
      "metadata": {
        "id": "Dr3dmXRHQy2d"
      },
      "execution_count": 161,
      "outputs": []
    },
    {
      "cell_type": "code",
      "source": [
        "from sklearn.preprocessing import MinMaxScaler"
      ],
      "metadata": {
        "id": "bD7xepG_dxMd"
      },
      "execution_count": 162,
      "outputs": []
    },
    {
      "cell_type": "code",
      "execution_count": 163,
      "metadata": {
        "id": "x8fV2a11XuS_"
      },
      "outputs": [],
      "source": [
        "OHLC_avg = np.reshape(OHLC_avg.values , (len(OHLC_avg),1)) \n",
        "scaler = MinMaxScaler(feature_range=(0, 1))\n",
        "OHLC_avg = scaler.fit_transform(OHLC_avg)"
      ]
    },
    {
      "cell_type": "code",
      "source": [
        "# print(OHLC_avg)"
      ],
      "metadata": {
        "id": "J4TP2WsUqfKG"
      },
      "execution_count": 164,
      "outputs": []
    },
    {
      "cell_type": "code",
      "source": [
        "# OHLC_avg.shape"
      ],
      "metadata": {
        "id": "J4OgdH1jLwLh"
      },
      "execution_count": 165,
      "outputs": []
    },
    {
      "cell_type": "code",
      "execution_count": 166,
      "metadata": {
        "id": "cuXaUmoqXvUt"
      },
      "outputs": [],
      "source": [
        "train_OHLC = int(len(OHLC_avg) * 0.8)\n",
        "test_OHLC = len(OHLC_avg) - train_OHLC\n",
        "train_OHLC, test_OHLC = OHLC_avg[0:train_OHLC,:], OHLC_avg[train_OHLC:len(OHLC_avg),:]"
      ]
    },
    {
      "cell_type": "code",
      "source": [
        "train_OHLC.shape , test_OHLC.shape , train_OHLC.shape[0] + test_OHLC.shape[0]"
      ],
      "metadata": {
        "colab": {
          "base_uri": "https://localhost:8080/"
        },
        "id": "lyY_YOZaLx6I",
        "outputId": "bb64c1eb-c9ea-4bda-8123-69959a37c75c"
      },
      "execution_count": 167,
      "outputs": [
        {
          "output_type": "execute_result",
          "data": {
            "text/plain": [
              "((1600, 1), (400, 1), 2000)"
            ]
          },
          "metadata": {},
          "execution_count": 167
        }
      ]
    },
    {
      "cell_type": "code",
      "source": [
        "train_OHLC"
      ],
      "metadata": {
        "id": "st5mpwK6t9PQ",
        "colab": {
          "base_uri": "https://localhost:8080/"
        },
        "outputId": "ee2b5be5-782b-453a-b3b4-dd4c26bab5c0"
      },
      "execution_count": 172,
      "outputs": [
        {
          "output_type": "execute_result",
          "data": {
            "text/plain": [
              "array([[0.86443931],\n",
              "       [0.86469871],\n",
              "       [0.86574927],\n",
              "       ...,\n",
              "       [0.32132759],\n",
              "       [0.3306529 ],\n",
              "       [0.32415502]])"
            ]
          },
          "metadata": {},
          "execution_count": 172
        }
      ]
    },
    {
      "cell_type": "code",
      "source": [
        "import tensorflow as tf"
      ],
      "metadata": {
        "id": "5ppuumJsSrai"
      },
      "execution_count": 168,
      "outputs": []
    },
    {
      "cell_type": "code",
      "source": [
        "def new_dataset(dataset, step_size):\n",
        "\tdata_X, data_Y = [], []\n",
        "\tfor i in range(len(dataset)-step_size-1):\n",
        "\t\ta = dataset[i:(i+step_size), 0]\n",
        "\t\tdata_X.append(a)\n",
        "\t\tdata_Y.append(dataset[i + step_size, 0])\n",
        "\treturn np.array(data_X), np.array(data_Y)"
      ],
      "metadata": {
        "id": "ExLAMxXKu5J2"
      },
      "execution_count": 169,
      "outputs": []
    },
    {
      "cell_type": "code",
      "execution_count": 72,
      "metadata": {
        "id": "jTTqmdoMXwVt"
      },
      "outputs": [],
      "source": [
        "# TIME-SERIES DATASET (FOR TIME T, VALUES FOR TIME T+1)\n",
        "trainX, trainY = new_dataset(train_OHLC, 1)\n",
        "testX, testY = new_dataset(test_OHLC, 1)"
      ]
    },
    {
      "cell_type": "code",
      "source": [
        "trainX.shape , testX.shape , trainX.shape[0] + testX.shape[0] , '----' , trainY.shape , testY.shape , trainY.shape[0] + testY.shape[0]"
      ],
      "metadata": {
        "colab": {
          "base_uri": "https://localhost:8080/"
        },
        "id": "j0YOB68MMPYv",
        "outputId": "81960d85-a8aa-4f3b-b26e-365c817401db"
      },
      "execution_count": 73,
      "outputs": [
        {
          "output_type": "execute_result",
          "data": {
            "text/plain": [
              "((1598, 1), (398, 1), 1996, '----', (1598,), (398,), 1996)"
            ]
          },
          "metadata": {},
          "execution_count": 73
        }
      ]
    },
    {
      "cell_type": "code",
      "source": [
        "train_OHLC[780:787,:]"
      ],
      "metadata": {
        "colab": {
          "base_uri": "https://localhost:8080/"
        },
        "id": "Okl0vsWRJwMd",
        "outputId": "f2e688ed-7786-4e53-da34-8ed0337bfe0e"
      },
      "execution_count": 74,
      "outputs": [
        {
          "output_type": "execute_result",
          "data": {
            "text/plain": [
              "array([[0.52775544],\n",
              "       [0.52047936],\n",
              "       [0.51676999],\n",
              "       [0.51551192],\n",
              "       [0.51025914],\n",
              "       [0.51182849],\n",
              "       [0.51352753]])"
            ]
          },
          "metadata": {},
          "execution_count": 74
        }
      ]
    },
    {
      "cell_type": "code",
      "source": [
        "# trainX"
      ],
      "metadata": {
        "id": "dJ4WJYFHMjq3"
      },
      "execution_count": 75,
      "outputs": []
    },
    {
      "cell_type": "code",
      "source": [
        "# testX"
      ],
      "metadata": {
        "id": "HwtOPqtBBoNc"
      },
      "execution_count": 76,
      "outputs": []
    },
    {
      "cell_type": "code",
      "execution_count": 77,
      "metadata": {
        "id": "pBxi-DY7XxOV"
      },
      "outputs": [],
      "source": [
        "# trainX = np.reshape(trainX, (trainX.shape[0], 1, trainX.shape[1]))\n",
        "trainX = trainX.reshape(trainX.shape[0], 1, trainX.shape[1])\n",
        "# testX = np.reshape(testX, (testX.shape[0], 1, testX.shape[1]))\n",
        "testX = testX.reshape(testX.shape[0], 1, testX.shape[1])\n",
        "step_size = 1"
      ]
    },
    {
      "cell_type": "code",
      "execution_count": 78,
      "metadata": {
        "id": "q1nd7B6vXydI"
      },
      "outputs": [],
      "source": [
        "# # LSTM MODEL\n",
        "# model = Sequential()\n",
        "# model.add(LSTM(32, input_shape=(1, step_size), return_sequences = True))\n",
        "# model.add(LSTM(16))\n",
        "# model.add(Dense(1))\n",
        "# model.add(Activation('linear'))\n",
        "\n",
        "# # MODEL COMPILING AND TRAINING\n",
        "# model.compile(loss='mean_squared_error', optimizer='adagrad') # Try SGD, adam, adagrad and compare!!!\n",
        "# model.fit(trainX, trainY, epochs=5, batch_size=1, verbose=2)"
      ]
    },
    {
      "cell_type": "code",
      "source": [
        "trainY"
      ],
      "metadata": {
        "colab": {
          "base_uri": "https://localhost:8080/"
        },
        "id": "CNXqF4poHxzM",
        "outputId": "32de68f2-a54f-4368-f437-4fdfd5061771"
      },
      "execution_count": 124,
      "outputs": [
        {
          "output_type": "execute_result",
          "data": {
            "text/plain": [
              "array([[1969.64  ],\n",
              "       [1969.8425],\n",
              "       [1968.8   ],\n",
              "       ...,\n",
              "       [1861.8375],\n",
              "       [1864.9025],\n",
              "       [1866.7   ]])"
            ]
          },
          "metadata": {},
          "execution_count": 124
        }
      ]
    },
    {
      "cell_type": "code",
      "execution_count": 122,
      "metadata": {
        "colab": {
          "base_uri": "https://localhost:8080/"
        },
        "id": "Ck9v1E8DXzlt",
        "outputId": "f0cdca2c-4150-49ac-97ea-dc6082ea468d"
      },
      "outputs": [
        {
          "output_type": "stream",
          "name": "stdout",
          "text": [
            "Epoch 1/100\n",
            "40/40 [==============================] - 9s 56ms/step - loss: -258.0233 - val_loss: -796.6382\n",
            "Epoch 2/100\n",
            "40/40 [==============================] - 0s 9ms/step - loss: -6695.0186 - val_loss: -15829.8652\n",
            "Epoch 3/100\n",
            "40/40 [==============================] - 0s 8ms/step - loss: -22533.7559 - val_loss: -25141.8828\n",
            "Epoch 4/100\n",
            "40/40 [==============================] - 0s 8ms/step - loss: -28207.5625 - val_loss: -29575.3008\n",
            "Epoch 5/100\n",
            "40/40 [==============================] - 0s 8ms/step - loss: -32262.1191 - val_loss: -33412.2734\n",
            "Epoch 6/100\n",
            "40/40 [==============================] - 0s 7ms/step - loss: -36083.7109 - val_loss: -36995.6953\n",
            "Epoch 7/100\n",
            "40/40 [==============================] - 0s 8ms/step - loss: -39605.0625 - val_loss: -40427.9922\n",
            "Epoch 8/100\n",
            "40/40 [==============================] - 0s 8ms/step - loss: -43052.7695 - val_loss: -43762.2930\n",
            "Epoch 9/100\n",
            "40/40 [==============================] - 0s 8ms/step - loss: -46489.9922 - val_loss: -47034.0742\n",
            "Epoch 10/100\n",
            "40/40 [==============================] - 0s 8ms/step - loss: -49799.0312 - val_loss: -50256.1016\n",
            "Epoch 11/100\n",
            "40/40 [==============================] - 0s 7ms/step - loss: -53059.8633 - val_loss: -53434.6680\n",
            "Epoch 12/100\n",
            "40/40 [==============================] - 0s 7ms/step - loss: -56258.8047 - val_loss: -56584.2109\n",
            "Epoch 13/100\n",
            "40/40 [==============================] - 0s 7ms/step - loss: -59534.8438 - val_loss: -59710.7383\n",
            "Epoch 14/100\n",
            "40/40 [==============================] - 0s 8ms/step - loss: -62789.7852 - val_loss: -62814.0703\n",
            "Epoch 15/100\n",
            "40/40 [==============================] - 0s 7ms/step - loss: -66116.3984 - val_loss: -65911.8281\n",
            "Epoch 16/100\n",
            "40/40 [==============================] - 0s 7ms/step - loss: -69073.2891 - val_loss: -68985.2656\n",
            "Epoch 17/100\n",
            "40/40 [==============================] - 0s 7ms/step - loss: -72195.3125 - val_loss: -72050.5625\n",
            "Epoch 18/100\n",
            "40/40 [==============================] - 0s 7ms/step - loss: -75278.0000 - val_loss: -75094.2031\n",
            "Epoch 19/100\n",
            "40/40 [==============================] - 0s 8ms/step - loss: -78739.1953 - val_loss: -78140.2812\n",
            "Epoch 20/100\n",
            "40/40 [==============================] - 0s 7ms/step - loss: -81749.5938 - val_loss: -81177.8906\n",
            "Epoch 21/100\n",
            "40/40 [==============================] - 0s 7ms/step - loss: -84601.7812 - val_loss: -84194.1719\n",
            "Epoch 22/100\n",
            "40/40 [==============================] - 0s 7ms/step - loss: -88107.9766 - val_loss: -87219.8281\n",
            "Epoch 23/100\n",
            "40/40 [==============================] - 0s 7ms/step - loss: -90740.7344 - val_loss: -90226.1406\n",
            "Epoch 24/100\n",
            "40/40 [==============================] - 0s 7ms/step - loss: -94236.8906 - val_loss: -93231.2969\n",
            "Epoch 25/100\n",
            "40/40 [==============================] - 0s 9ms/step - loss: -97048.1406 - val_loss: -96231.8125\n",
            "Epoch 26/100\n",
            "40/40 [==============================] - 0s 8ms/step - loss: -100284.3047 - val_loss: -99229.3281\n",
            "Epoch 27/100\n",
            "40/40 [==============================] - 0s 8ms/step - loss: -103271.3281 - val_loss: -102219.9141\n",
            "Epoch 28/100\n",
            "40/40 [==============================] - 0s 9ms/step - loss: -106085.5234 - val_loss: -105200.0156\n",
            "Epoch 29/100\n",
            "40/40 [==============================] - 0s 7ms/step - loss: -109628.3047 - val_loss: -108185.2109\n",
            "Epoch 30/100\n",
            "40/40 [==============================] - 0s 8ms/step - loss: -112423.7109 - val_loss: -111167.1719\n",
            "Epoch 31/100\n",
            "40/40 [==============================] - 0s 7ms/step - loss: -115727.9844 - val_loss: -114144.6875\n",
            "Epoch 32/100\n",
            "40/40 [==============================] - 0s 8ms/step - loss: -118395.2891 - val_loss: -117116.7031\n",
            "Epoch 33/100\n",
            "40/40 [==============================] - 0s 8ms/step - loss: -121800.6250 - val_loss: -120092.0469\n",
            "Epoch 34/100\n",
            "40/40 [==============================] - 0s 8ms/step - loss: -124784.5234 - val_loss: -123064.5625\n",
            "Epoch 35/100\n",
            "40/40 [==============================] - 0s 8ms/step - loss: -127290.8203 - val_loss: -126026.4609\n",
            "Epoch 36/100\n",
            "40/40 [==============================] - 0s 8ms/step - loss: -130170.8281 - val_loss: -128975.6250\n",
            "Epoch 37/100\n",
            "40/40 [==============================] - 0s 7ms/step - loss: -132975.1719 - val_loss: -131919.9688\n",
            "Epoch 38/100\n",
            "40/40 [==============================] - 0s 7ms/step - loss: -136546.9375 - val_loss: -134871.4688\n",
            "Epoch 39/100\n",
            "40/40 [==============================] - 0s 8ms/step - loss: -139925.8125 - val_loss: -137832.9688\n",
            "Epoch 40/100\n",
            "40/40 [==============================] - 0s 7ms/step - loss: -142884.4062 - val_loss: -140792.5000\n",
            "Epoch 41/100\n",
            "40/40 [==============================] - 0s 7ms/step - loss: -145958.7656 - val_loss: -143749.0469\n",
            "Epoch 42/100\n",
            "40/40 [==============================] - 0s 7ms/step - loss: -148417.3438 - val_loss: -146700.0938\n",
            "Epoch 43/100\n",
            "40/40 [==============================] - 0s 7ms/step - loss: -152123.3438 - val_loss: -149651.0781\n",
            "Epoch 44/100\n",
            "40/40 [==============================] - 0s 7ms/step - loss: -154786.2969 - val_loss: -152601.3750\n",
            "Epoch 45/100\n",
            "40/40 [==============================] - 0s 8ms/step - loss: -157926.7188 - val_loss: -155551.6562\n",
            "Epoch 46/100\n",
            "40/40 [==============================] - 0s 9ms/step - loss: -160594.2812 - val_loss: -158491.9062\n",
            "Epoch 47/100\n",
            "40/40 [==============================] - 0s 8ms/step - loss: -164259.8594 - val_loss: -161443.2344\n",
            "Epoch 48/100\n",
            "40/40 [==============================] - 0s 8ms/step - loss: -167881.5781 - val_loss: -164402.6250\n",
            "Epoch 49/100\n",
            "40/40 [==============================] - 0s 8ms/step - loss: -170136.5938 - val_loss: -167349.0156\n",
            "Epoch 50/100\n",
            "40/40 [==============================] - 0s 7ms/step - loss: -173625.8438 - val_loss: -170303.0312\n",
            "Epoch 51/100\n",
            "40/40 [==============================] - 0s 9ms/step - loss: -175927.7188 - val_loss: -173243.5312\n",
            "Epoch 52/100\n",
            "40/40 [==============================] - 0s 8ms/step - loss: -179600.0469 - val_loss: -176194.2188\n",
            "Epoch 53/100\n",
            "40/40 [==============================] - 0s 8ms/step - loss: -182212.4062 - val_loss: -179134.8281\n",
            "Epoch 54/100\n",
            "40/40 [==============================] - 0s 7ms/step - loss: -185184.0625 - val_loss: -182078.1562\n",
            "Epoch 55/100\n",
            "40/40 [==============================] - 0s 7ms/step - loss: -188775.0938 - val_loss: -185023.4531\n",
            "Epoch 56/100\n",
            "40/40 [==============================] - 0s 7ms/step - loss: -191415.4062 - val_loss: -187965.7969\n",
            "Epoch 57/100\n",
            "40/40 [==============================] - 0s 7ms/step - loss: -193863.4531 - val_loss: -190898.9375\n",
            "Epoch 58/100\n",
            "40/40 [==============================] - 0s 8ms/step - loss: -196589.2656 - val_loss: -193830.0000\n",
            "Epoch 59/100\n",
            "40/40 [==============================] - 0s 8ms/step - loss: -199512.3906 - val_loss: -196757.0312\n",
            "Epoch 60/100\n",
            "40/40 [==============================] - 0s 7ms/step - loss: -203420.4219 - val_loss: -199691.4688\n",
            "Epoch 61/100\n",
            "40/40 [==============================] - 0s 8ms/step - loss: -206231.3906 - val_loss: -202630.7812\n",
            "Epoch 62/100\n",
            "40/40 [==============================] - 0s 8ms/step - loss: -209122.4531 - val_loss: -205563.8906\n",
            "Epoch 63/100\n",
            "40/40 [==============================] - 0s 7ms/step - loss: -212606.8438 - val_loss: -208502.2188\n",
            "Epoch 64/100\n",
            "40/40 [==============================] - 0s 8ms/step - loss: -214831.6562 - val_loss: -211434.5938\n",
            "Epoch 65/100\n",
            "40/40 [==============================] - 0s 7ms/step - loss: -218891.6250 - val_loss: -214374.4062\n",
            "Epoch 66/100\n",
            "40/40 [==============================] - 0s 7ms/step - loss: -221244.6250 - val_loss: -217309.9219\n",
            "Epoch 67/100\n",
            "40/40 [==============================] - 0s 8ms/step - loss: -224087.4062 - val_loss: -220240.9688\n",
            "Epoch 68/100\n",
            "40/40 [==============================] - 0s 7ms/step - loss: -227109.9062 - val_loss: -223170.8438\n",
            "Epoch 69/100\n",
            "40/40 [==============================] - 0s 7ms/step - loss: -230392.8594 - val_loss: -226106.9688\n",
            "Epoch 70/100\n",
            "40/40 [==============================] - 0s 8ms/step - loss: -234165.8281 - val_loss: -229044.6719\n",
            "Epoch 71/100\n",
            "40/40 [==============================] - 0s 8ms/step - loss: -236255.2188 - val_loss: -231977.2812\n",
            "Epoch 72/100\n",
            "40/40 [==============================] - 0s 7ms/step - loss: -238840.8438 - val_loss: -234904.5938\n",
            "Epoch 73/100\n",
            "40/40 [==============================] - 0s 7ms/step - loss: -241918.9688 - val_loss: -237830.0469\n",
            "Epoch 74/100\n",
            "40/40 [==============================] - 0s 8ms/step - loss: -245216.9062 - val_loss: -240760.0312\n",
            "Epoch 75/100\n",
            "40/40 [==============================] - 0s 7ms/step - loss: -247968.2188 - val_loss: -243688.4531\n",
            "Epoch 76/100\n",
            "40/40 [==============================] - 0s 7ms/step - loss: -250937.5625 - val_loss: -246613.4688\n",
            "Epoch 77/100\n",
            "40/40 [==============================] - 0s 8ms/step - loss: -254281.0469 - val_loss: -249540.0781\n",
            "Epoch 78/100\n",
            "40/40 [==============================] - 0s 7ms/step - loss: -256506.7969 - val_loss: -252467.7031\n",
            "Epoch 79/100\n",
            "40/40 [==============================] - 0s 7ms/step - loss: -259561.7344 - val_loss: -255389.0312\n",
            "Epoch 80/100\n",
            "40/40 [==============================] - 0s 7ms/step - loss: -262880.4375 - val_loss: -258314.0938\n",
            "Epoch 81/100\n",
            "40/40 [==============================] - 0s 8ms/step - loss: -266163.6875 - val_loss: -261240.1719\n",
            "Epoch 82/100\n",
            "40/40 [==============================] - 0s 7ms/step - loss: -269373.0625 - val_loss: -264167.9375\n",
            "Epoch 83/100\n",
            "40/40 [==============================] - 0s 7ms/step - loss: -271631.1875 - val_loss: -267097.3750\n",
            "Epoch 84/100\n",
            "40/40 [==============================] - 0s 8ms/step - loss: -274624.2500 - val_loss: -270020.1562\n",
            "Epoch 85/100\n",
            "40/40 [==============================] - 0s 7ms/step - loss: -278524.6875 - val_loss: -272951.0000\n",
            "Epoch 86/100\n",
            "40/40 [==============================] - 0s 7ms/step - loss: -282069.7812 - val_loss: -275883.9375\n",
            "Epoch 87/100\n",
            "40/40 [==============================] - 0s 7ms/step - loss: -283992.7188 - val_loss: -278814.0625\n",
            "Epoch 88/100\n",
            "40/40 [==============================] - 0s 8ms/step - loss: -286732.4688 - val_loss: -281737.8125\n",
            "Epoch 89/100\n",
            "40/40 [==============================] - 0s 8ms/step - loss: -289626.5312 - val_loss: -284660.0000\n",
            "Epoch 90/100\n",
            "40/40 [==============================] - 0s 8ms/step - loss: -292867.0000 - val_loss: -287583.4375\n",
            "Epoch 91/100\n",
            "40/40 [==============================] - 0s 8ms/step - loss: -295564.0312 - val_loss: -290505.4688\n",
            "Epoch 92/100\n",
            "40/40 [==============================] - 0s 7ms/step - loss: -299915.5938 - val_loss: -293439.5625\n",
            "Epoch 93/100\n",
            "40/40 [==============================] - 0s 8ms/step - loss: -302715.0312 - val_loss: -296373.6562\n",
            "Epoch 94/100\n",
            "40/40 [==============================] - 0s 7ms/step - loss: -306310.1875 - val_loss: -299308.6875\n",
            "Epoch 95/100\n",
            "40/40 [==============================] - 0s 7ms/step - loss: -308938.7812 - val_loss: -302242.6875\n",
            "Epoch 96/100\n",
            "40/40 [==============================] - 0s 7ms/step - loss: -311315.8438 - val_loss: -305172.3438\n",
            "Epoch 97/100\n",
            "40/40 [==============================] - 0s 7ms/step - loss: -313316.1250 - val_loss: -308091.8438\n",
            "Epoch 98/100\n",
            "40/40 [==============================] - 0s 7ms/step - loss: -318117.2812 - val_loss: -311024.6875\n",
            "Epoch 99/100\n",
            "40/40 [==============================] - 0s 7ms/step - loss: -319519.5938 - val_loss: -313946.6250\n",
            "Epoch 100/100\n",
            "40/40 [==============================] - 0s 7ms/step - loss: -322545.9062 - val_loss: -316866.0000\n"
          ]
        },
        {
          "output_type": "execute_result",
          "data": {
            "text/plain": [
              "<keras.callbacks.History at 0x7f43c6d2f650>"
            ]
          },
          "metadata": {},
          "execution_count": 122
        }
      ],
      "source": [
        "batchSize=32\n",
        "\n",
        "model = Sequential()\n",
        "model.add(LSTM(units = 50, return_sequences = True, input_shape = (trainX.shape[1], 1)))\n",
        "model.add(Dropout(0.2))\n",
        "model.add(LSTM(units = 50, return_sequences = True))\n",
        "model.add(Dropout(0.2))\n",
        "model.add(LSTM(units = 50, return_sequences = True))\n",
        "model.add(Dropout(0.2))\n",
        "model.add(LSTM(units = 50))\n",
        "model.add(Dropout(0.2))\n",
        "model.add(Dense(units = 1))\n",
        "model.add(Activation('sigmoid'))\n",
        "model.compile(optimizer = 'adam', loss = 'binary_crossentropy')\n",
        "model.fit(trainX, trainY, epochs = 100, batch_size = batchSize, validation_split = 0.2)"
      ]
    },
    {
      "cell_type": "code",
      "execution_count": 80,
      "metadata": {
        "id": "C4XyR_5GX00F"
      },
      "outputs": [],
      "source": [
        "trainPredict = model.predict(trainX)\n",
        "testPredict = model.predict(testX)"
      ]
    },
    {
      "cell_type": "code",
      "source": [
        "trainPredict.shape , trainY.shape"
      ],
      "metadata": {
        "colab": {
          "base_uri": "https://localhost:8080/"
        },
        "id": "2kmSuu5_YWkd",
        "outputId": "c1b6360a-dc51-4e78-d68e-73e5d972047a"
      },
      "execution_count": 81,
      "outputs": [
        {
          "output_type": "execute_result",
          "data": {
            "text/plain": [
              "((1598, 1), (1598,))"
            ]
          },
          "metadata": {},
          "execution_count": 81
        }
      ]
    },
    {
      "cell_type": "code",
      "source": [
        "# trainY[:5]"
      ],
      "metadata": {
        "id": "qKQcQXOrzewG"
      },
      "execution_count": 82,
      "outputs": []
    },
    {
      "cell_type": "code",
      "execution_count": 83,
      "metadata": {
        "id": "qjxDbJI8X1w0"
      },
      "outputs": [],
      "source": [
        "# DE-NORMALIZING FOR PLOTTING\n",
        "\n",
        "trainPredict = scaler.inverse_transform(trainPredict)\n",
        "trainY = scaler.inverse_transform([trainY])\n",
        "\n",
        "testPredict = scaler.inverse_transform(testPredict)\n",
        "testY = scaler.inverse_transform([testY])"
      ]
    },
    {
      "cell_type": "code",
      "execution_count": 84,
      "metadata": {
        "id": "I5tRJCwVX332",
        "colab": {
          "base_uri": "https://localhost:8080/"
        },
        "outputId": "8c431cdf-6c7d-45be-92fd-fd79c40f4b68"
      },
      "outputs": [
        {
          "output_type": "stream",
          "name": "stdout",
          "text": [
            "Train RMSE: 1.90\n"
          ]
        }
      ],
      "source": [
        "# TRAINING RMSE\n",
        "trainScore = math.sqrt(mean_squared_error(trainY[0], trainPredict[:,0]))\n",
        "print('Train RMSE: %.2f' % (trainScore))"
      ]
    },
    {
      "cell_type": "code",
      "source": [
        "\n",
        "\n",
        "# df = pd.DataFrame([trainY[0], columns = ['Name'])"
      ],
      "metadata": {
        "id": "xLSBdjkIHmz7"
      },
      "execution_count": 85,
      "outputs": []
    },
    {
      "cell_type": "code",
      "execution_count": 86,
      "metadata": {
        "id": "bsSK2EZtX4uF",
        "colab": {
          "base_uri": "https://localhost:8080/"
        },
        "outputId": "3d26dea2-1248-4434-d26f-e7e0211576e7"
      },
      "outputs": [
        {
          "output_type": "stream",
          "name": "stdout",
          "text": [
            "Test RMSE: 10.01\n"
          ]
        }
      ],
      "source": [
        "# TEST RMSE\n",
        "testScore = math.sqrt(mean_squared_error(testY[0], testPredict[:,0]))\n",
        "print('Test RMSE: %.2f' % (testScore))"
      ]
    },
    {
      "cell_type": "code",
      "execution_count": 87,
      "metadata": {
        "id": "SKzhiNlMX5v9"
      },
      "outputs": [],
      "source": [
        "# CREATING SIMILAR DATASET TO PLOT TRAINING PREDICTIONS\n",
        "trainPredictPlot = np.empty_like(OHLC_avg)\n",
        "trainPredictPlot[:, :] = np.nan\n",
        "trainPredictPlot[step_size:len(trainPredict)+step_size, :] = trainPredict"
      ]
    },
    {
      "cell_type": "code",
      "execution_count": 88,
      "metadata": {
        "id": "ufOutxHHX7cV"
      },
      "outputs": [],
      "source": [
        "# CREATING SIMILAR DATASSET TO PLOT TEST PREDICTIONS\n",
        "testPredictPlot = np.empty_like(OHLC_avg)\n",
        "testPredictPlot[:, :] = np.nan\n",
        "testPredictPlot[len(trainPredict)+(step_size*2)+1:len(OHLC_avg)-1, :] = testPredict"
      ]
    },
    {
      "cell_type": "code",
      "source": [
        "trainPredict.shape , testPredict.shape"
      ],
      "metadata": {
        "colab": {
          "base_uri": "https://localhost:8080/"
        },
        "id": "AEi755i7xQ4w",
        "outputId": "3573fb82-99d9-4206-f513-b8359c702694"
      },
      "execution_count": 89,
      "outputs": [
        {
          "output_type": "execute_result",
          "data": {
            "text/plain": [
              "((1598, 1), (398, 1))"
            ]
          },
          "metadata": {},
          "execution_count": 89
        }
      ]
    },
    {
      "cell_type": "code",
      "execution_count": 90,
      "metadata": {
        "id": "yMhKZIGlX878"
      },
      "outputs": [],
      "source": [
        "# DE-NORMALIZING MAIN DATASET \n",
        "OHLC_avg = scaler.inverse_transform(OHLC_avg)"
      ]
    },
    {
      "cell_type": "code",
      "execution_count": 91,
      "metadata": {
        "id": "m0HWhbTiX9pV",
        "colab": {
          "base_uri": "https://localhost:8080/",
          "height": 606
        },
        "outputId": "b17474c2-286d-48c6-a744-8ed8d1142007"
      },
      "outputs": [
        {
          "output_type": "display_data",
          "data": {
            "text/plain": [
              "<Figure size 1728x720 with 1 Axes>"
            ],
            "image/png": "[encoded data removed]"
          },
          "metadata": {
            "needs_background": "light"
          }
        }
      ],
      "source": [
        "# PLOT OF MAIN OHLC VALUES, TRAIN PREDICTIONS AND TEST PREDICTIONS\n",
        "plt.figure(figsize=(24, 10))\n",
        "plt.plot(OHLC_avg, 'g', label = 'original dataset')\n",
        "plt.plot(trainPredictPlot, 'r', label = 'training set')\n",
        "plt.plot(testPredictPlot, 'b', label = 'predicted stock price/test set')\n",
        "plt.legend(loc = 'upper left')\n",
        "plt.xlabel('Time in Days')\n",
        "plt.ylabel('OHLC Value of Apple Stocks')\n",
        "plt.show()"
      ]
    },
    {
      "cell_type": "code",
      "execution_count": 92,
      "metadata": {
        "id": "2pcw9mHfV52O",
        "colab": {
          "base_uri": "https://localhost:8080/"
        },
        "outputId": "a6f640fd-0bc9-4025-84c5-ed1ac1fc5396"
      },
      "outputs": [
        {
          "output_type": "stream",
          "name": "stdout",
          "text": [
            "Last Day Value: [1829.9944]\n",
            "Next Day Value: [[1780.2792]]\n"
          ]
        }
      ],
      "source": [
        "# PREDICT FUTURE VALUES\n",
        "last_val = testPredict[-1]\n",
        "last_val_scaled = last_val/last_val\n",
        "next_val = model.predict(np.reshape(last_val_scaled, (1,1,1)))\n",
        "# print \"Last Day Value:\", np.asscalar(last_val)\n",
        "# print \"Next Day Value:\", np.asscalar(last_val*next_val)\n",
        "# print np.append(last_val, next_val)\n",
        "\n",
        "print(\"Last Day Value:\", last_val)\n",
        "print(\"Next Day Value:\", last_val*next_val)\n",
        "# print(np.append(last_val, next_val)"
      ]
    },
    {
      "cell_type": "code",
      "source": [
        "df2 = pd.DataFrame()"
      ],
      "metadata": {
        "id": "tf8u9rlT5wIT"
      },
      "execution_count": 93,
      "outputs": []
    },
    {
      "cell_type": "code",
      "source": [
        "trainY = trainY.T\n",
        "testY = testY.T"
      ],
      "metadata": {
        "id": "kS1ZKJg1fZOI"
      },
      "execution_count": 94,
      "outputs": []
    },
    {
      "cell_type": "code",
      "source": [
        "perdictCol = np.vstack((trainPredict , testPredict))  \n",
        "dataCol = np.vstack((trainY , testY))  \n",
        "\n",
        "perdictCol  = perdictCol.reshape(-1)\n",
        "dataCol  = dataCol.reshape(-1)\n",
        "\n",
        "perdictCol.shape , dataCol.shape"
      ],
      "metadata": {
        "colab": {
          "base_uri": "https://localhost:8080/"
        },
        "id": "p1Suzm0iBaY0",
        "outputId": "e8226965-fe1d-44fe-b05c-3d36beb66a41"
      },
      "execution_count": 95,
      "outputs": [
        {
          "output_type": "execute_result",
          "data": {
            "text/plain": [
              "((1996,), (1996,))"
            ]
          },
          "metadata": {},
          "execution_count": 95
        }
      ]
    },
    {
      "cell_type": "code",
      "source": [
        "my_array = np.array([perdictCol,dataCol]).T"
      ],
      "metadata": {
        "id": "hwgt65ASVJeo"
      },
      "execution_count": 96,
      "outputs": []
    },
    {
      "cell_type": "code",
      "source": [
        "df2 = pd.DataFrame(my_array, columns = ['perdictCol','dataCol'])\n",
        "df2['diff'] = df2['perdictCol'] - df2['dataCol']"
      ],
      "metadata": {
        "id": "tBIiOkjuSuTi"
      },
      "execution_count": 97,
      "outputs": []
    },
    {
      "cell_type": "code",
      "source": [
        "df2.tail()"
      ],
      "metadata": {
        "colab": {
          "base_uri": "https://localhost:8080/",
          "height": 206
        },
        "id": "E91u2gF5aCqa",
        "outputId": "3ac7e568-f7cd-4d20-e4f0-fdd178547ed0"
      },
      "execution_count": 98,
      "outputs": [
        {
          "output_type": "execute_result",
          "data": {
            "text/plain": [
              "       perdictCol    dataCol       diff\n",
              "1991  1828.747681  1807.5975  21.150181\n",
              "1992  1828.776489  1808.6300  20.146489\n",
              "1993  1829.320312  1809.4875  19.832813\n",
              "1994  1829.775635  1809.8975  19.878135\n",
              "1995  1829.994385  1810.6525  19.341885"
            ],
            "text/html": [
              "\n",
              "  <div id=\"df-d0f92f70-939e-410a-be3a-ba8b25995732\">\n",
              "    <div class=\"colab-df-container\">\n",
              "      <div>\n",
              "<style scoped>\n",
              "    .dataframe tbody tr th:only-of-type {\n",
              "        vertical-align: middle;\n",
              "    }\n",
              "\n",
              "    .dataframe tbody tr th {\n",
              "        vertical-align: top;\n",
              "    }\n",
              "\n",
              "    .dataframe thead th {\n",
              "        text-align: right;\n",
              "    }\n",
              "</style>\n",
              "<table border=\"1\" class=\"dataframe\">\n",
              "  <thead>\n",
              "    <tr style=\"text-align: right;\">\n",
              "      <th></th>\n",
              "      <th>perdictCol</th>\n",
              "      <th>dataCol</th>\n",
              "      <th>diff</th>\n",
              "    </tr>\n",
              "  </thead>\n",
              "  <tbody>\n",
              "    <tr>\n",
              "      <th>1991</th>\n",
              "      <td>1828.747681</td>\n",
              "      <td>1807.5975</td>\n",
              "      <td>21.150181</td>\n",
              "    </tr>\n",
              "    <tr>\n",
              "      <th>1992</th>\n",
              "      <td>1828.776489</td>\n",
              "      <td>1808.6300</td>\n",
              "      <td>20.146489</td>\n",
              "    </tr>\n",
              "    <tr>\n",
              "      <th>1993</th>\n",
              "      <td>1829.320312</td>\n",
              "      <td>1809.4875</td>\n",
              "      <td>19.832813</td>\n",
              "    </tr>\n",
              "    <tr>\n",
              "      <th>1994</th>\n",
              "      <td>1829.775635</td>\n",
              "      <td>1809.8975</td>\n",
              "      <td>19.878135</td>\n",
              "    </tr>\n",
              "    <tr>\n",
              "      <th>1995</th>\n",
              "      <td>1829.994385</td>\n",
              "      <td>1810.6525</td>\n",
              "      <td>19.341885</td>\n",
              "    </tr>\n",
              "  </tbody>\n",
              "</table>\n",
              "</div>\n",
              "      <button class=\"colab-df-convert\" onclick=\"convertToInteractive('df-d0f92f70-939e-410a-be3a-ba8b25995732')\"\n",
              "              title=\"Convert this dataframe to an interactive table.\"\n",
              "              style=\"display:none;\">\n",
              "        \n",
              "  <svg xmlns=\"http://www.w3.org/2000/svg\" height=\"24px\"viewBox=\"0 0 24 24\"\n",
              "       width=\"24px\">\n",
              "    <path d=\"M0 0h24v24H0V0z\" fill=\"none\"/>\n",
              "    <path d=\"M18.56 5.44l.94 2.06.94-2.06 2.06-.94-2.06-.94-.94-2.06-.94 2.06-2.06.94zm-11 1L8.5 8.5l.94-2.06 2.06-.94-2.06-.94L8.5 2.5l-.94 2.06-2.06.94zm10 10l.94 2.06.94-2.06 2.06-.94-2.06-.94-.94-2.06-.94 2.06-2.06.94z\"/><path d=\"M17.41 7.96l-1.37-1.37c-.4-.4-.92-.59-1.43-.59-.52 0-1.04.2-1.43.59L10.3 9.45l-7.72 7.72c-.78.78-.78 2.05 0 2.83L4 21.41c.39.39.9.59 1.41.59.51 0 1.02-.2 1.41-.59l7.78-7.78 2.81-2.81c.8-.78.8-2.07 0-2.86zM5.41 20L4 18.59l7.72-7.72 1.47 1.35L5.41 20z\"/>\n",
              "  </svg>\n",
              "      </button>\n",
              "      \n",
              "  <style>\n",
              "    .colab-df-container {\n",
              "      display:flex;\n",
              "      flex-wrap:wrap;\n",
              "      gap: 12px;\n",
              "    }\n",
              "\n",
              "    .colab-df-convert {\n",
              "      background-color: #E8F0FE;\n",
              "      border: none;\n",
              "      border-radius: 50%;\n",
              "      cursor: pointer;\n",
              "      display: none;\n",
              "      fill: #1967D2;\n",
              "      height: 32px;\n",
              "      padding: 0 0 0 0;\n",
              "      width: 32px;\n",
              "    }\n",
              "\n",
              "    .colab-df-convert:hover {\n",
              "      background-color: #E2EBFA;\n",
              "      box-shadow: 0px 1px 2px rgba(60, 64, 67, 0.3), 0px 1px 3px 1px rgba(60, 64, 67, 0.15);\n",
              "      fill: #174EA6;\n",
              "    }\n",
              "\n",
              "    [theme=dark] .colab-df-convert {\n",
              "      background-color: #3B4455;\n",
              "      fill: #D2E3FC;\n",
              "    }\n",
              "\n",
              "    [theme=dark] .colab-df-convert:hover {\n",
              "      background-color: #434B5C;\n",
              "      box-shadow: 0px 1px 3px 1px rgba(0, 0, 0, 0.15);\n",
              "      filter: drop-shadow(0px 1px 2px rgba(0, 0, 0, 0.3));\n",
              "      fill: #FFFFFF;\n",
              "    }\n",
              "  </style>\n",
              "\n",
              "      <script>\n",
              "        const buttonEl =\n",
              "          document.querySelector('#df-d0f92f70-939e-410a-be3a-ba8b25995732 button.colab-df-convert');\n",
              "        buttonEl.style.display =\n",
              "          google.colab.kernel.accessAllowed ? 'block' : 'none';\n",
              "\n",
              "        async function convertToInteractive(key) {\n",
              "          const element = document.querySelector('#df-d0f92f70-939e-410a-be3a-ba8b25995732');\n",
              "          const dataTable =\n",
              "            await google.colab.kernel.invokeFunction('convertToInteractive',\n",
              "                                                     [key], {});\n",
              "          if (!dataTable) return;\n",
              "\n",
              "          const docLinkHtml = 'Like what you see? Visit the ' +\n",
              "            '<a target=\"_blank\" href=https://colab.research.google.com/notebooks/data_table.ipynb>data table notebook</a>'\n",
              "            + ' to learn more about interactive tables.';\n",
              "          element.innerHTML = '';\n",
              "          dataTable['output_type'] = 'display_data';\n",
              "          await google.colab.output.renderOutput(dataTable, element);\n",
              "          const docLink = document.createElement('div');\n",
              "          docLink.innerHTML = docLinkHtml;\n",
              "          element.appendChild(docLink);\n",
              "        }\n",
              "      </script>\n",
              "    </div>\n",
              "  </div>\n",
              "  "
            ]
          },
          "metadata": {},
          "execution_count": 98
        }
      ]
    },
    {
      "cell_type": "code",
      "source": [
        "(df2['diff']>2).sum() + (df2['diff'] < -2).sum() "
      ],
      "metadata": {
        "colab": {
          "base_uri": "https://localhost:8080/"
        },
        "id": "cMrwgItsaD_Q",
        "outputId": "8b943b95-824a-4a30-a60b-9ca5167a9eb3"
      },
      "execution_count": 99,
      "outputs": [
        {
          "output_type": "execute_result",
          "data": {
            "text/plain": [
              "807"
            ]
          },
          "metadata": {},
          "execution_count": 99
        }
      ]
    },
    {
      "cell_type": "code",
      "source": [
        "distance, warp_path = fastdtw(df2['perdictCol'],df2['dataCol'], dist=euclidean)"
      ],
      "metadata": {
        "id": "wNDdyEUoL6Gn"
      },
      "execution_count": 100,
      "outputs": []
    },
    {
      "cell_type": "code",
      "source": [
        "distance"
      ],
      "metadata": {
        "colab": {
          "base_uri": "https://localhost:8080/"
        },
        "id": "SOjA34rBMDiP",
        "outputId": "79b3ae53-6d8a-40bf-dc12-bed58ea76256"
      },
      "execution_count": 101,
      "outputs": [
        {
          "output_type": "execute_result",
          "data": {
            "text/plain": [
              "3080.2871923828325"
            ]
          },
          "metadata": {},
          "execution_count": 101
        }
      ]
    },
    {
      "cell_type": "markdown",
      "source": [
        "DTW Plot"
      ],
      "metadata": {
        "id": "3Zp4piwydmdm"
      }
    },
    {
      "cell_type": "code",
      "source": [
        "# fig, ax = plt.subplots(figsize=(16, 12))\n",
        "\n",
        "# # Remove the border and axes ticks\n",
        "# fig.patch.set_visible(False)\n",
        "# ax.axis('off')\n",
        "\n",
        "# for [map_x, map_y] in warp_path:\n",
        "#     ax.plot([map_x, map_y], [df2['perdictCol'][map_x], df2['dataCol'][map_y]], '-k')\n",
        "\n",
        "# ax.plot(df2['perdictCol'], color='blue', marker='o', markersize=10, linewidth=5)\n",
        "# ax.plot(df2['dataCol'], color='red', marker='o', markersize=10, linewidth=5)\n",
        "# ax.tick_params(axis=\"both\", which=\"major\", labelsize=18)\n",
        "\n",
        "# # fig.savefig(\"ex2_dtw_distance.png\", **savefig_options)"
      ],
      "metadata": {
        "id": "y0KwceayMJx1"
      },
      "execution_count": 102,
      "outputs": []
    },
    {
      "cell_type": "markdown",
      "source": [
        "# KMeans on OHLC_avg for clusetering"
      ],
      "metadata": {
        "id": "y9PT9sHFgLxa"
      }
    },
    {
      "cell_type": "code",
      "source": [
        "from sklearn.cluster import KMeans"
      ],
      "metadata": {
        "id": "y_k2iFwRgTkv"
      },
      "execution_count": 103,
      "outputs": []
    },
    {
      "cell_type": "code",
      "source": [
        "kmeans = KMeans(4)\n",
        "kmeans.fit(OHLC_avg)"
      ],
      "metadata": {
        "colab": {
          "base_uri": "https://localhost:8080/"
        },
        "id": "R4YxGwfsgY6C",
        "outputId": "b94e31b0-59db-4384-af62-2913d91000e1"
      },
      "execution_count": 104,
      "outputs": [
        {
          "output_type": "execute_result",
          "data": {
            "text/plain": [
              "KMeans(n_clusters=4)"
            ]
          },
          "metadata": {},
          "execution_count": 104
        }
      ]
    },
    {
      "cell_type": "code",
      "source": [
        "identified_clusters = kmeans.fit_predict(OHLC_avg)\n",
        "identified_clusters"
      ],
      "metadata": {
        "colab": {
          "base_uri": "https://localhost:8080/"
        },
        "id": "CqKuW3ylgY1p",
        "outputId": "dccb6033-3b3f-4a06-bc1f-b19f81b9606d"
      },
      "execution_count": 105,
      "outputs": [
        {
          "output_type": "execute_result",
          "data": {
            "text/plain": [
              "array([2, 2, 2, ..., 0, 0, 0], dtype=int32)"
            ]
          },
          "metadata": {},
          "execution_count": 105
        }
      ]
    },
    {
      "cell_type": "code",
      "source": [
        "(identified_clusters==0).sum()"
      ],
      "metadata": {
        "colab": {
          "base_uri": "https://localhost:8080/"
        },
        "id": "71QrMdKlkWJP",
        "outputId": "1003bb63-ca1a-4032-d179-305a24c1a2fb"
      },
      "execution_count": 106,
      "outputs": [
        {
          "output_type": "execute_result",
          "data": {
            "text/plain": [
              "187"
            ]
          },
          "metadata": {},
          "execution_count": 106
        }
      ]
    },
    {
      "cell_type": "code",
      "source": [
        "OHLC_avg.shape"
      ],
      "metadata": {
        "colab": {
          "base_uri": "https://localhost:8080/"
        },
        "id": "MLI2oAXXlJnJ",
        "outputId": "138ee4e1-f2ca-4202-aad9-778835f1ed7c"
      },
      "execution_count": 107,
      "outputs": [
        {
          "output_type": "execute_result",
          "data": {
            "text/plain": [
              "(2000, 1)"
            ]
          },
          "metadata": {},
          "execution_count": 107
        }
      ]
    },
    {
      "cell_type": "markdown",
      "source": [
        "# sklearn density\n"
      ],
      "metadata": {
        "id": "byX6qtfttMJr"
      }
    },
    {
      "cell_type": "code",
      "source": [
        "OHLC_avg = OHLC_avg.flatten()\n",
        "OHLC_avg.shape"
      ],
      "metadata": {
        "colab": {
          "base_uri": "https://localhost:8080/"
        },
        "id": "QRGe1nHcvXEa",
        "outputId": "9ccfdca0-405c-450f-ae8e-9626b89e1174"
      },
      "execution_count": 108,
      "outputs": [
        {
          "output_type": "execute_result",
          "data": {
            "text/plain": [
              "(2000,)"
            ]
          },
          "metadata": {},
          "execution_count": 108
        }
      ]
    },
    {
      "cell_type": "code",
      "source": [
        "from sklearn.neighbors import KernelDensity"
      ],
      "metadata": {
        "id": "MJDL0Gv6JaYJ"
      },
      "execution_count": 109,
      "outputs": []
    },
    {
      "cell_type": "code",
      "source": [
        "y_d = np.linspace(OHLC_avg.min(), OHLC_avg.max(), 2000)"
      ],
      "metadata": {
        "id": "dOK39D-yw4WQ"
      },
      "execution_count": 110,
      "outputs": []
    },
    {
      "cell_type": "code",
      "source": [
        "# instantiate and fit the KDE model\n",
        "kde = KernelDensity(bandwidth=1.0, kernel='gaussian')\n",
        "kde.fit([OHLC_avg])\n",
        "\n",
        "# score_samples returns the log of the probability density\n",
        "logprob = kde.score_samples([OHLC_avg])\n",
        "\n",
        "plt.fill_between(y_d, np.exp(logprob), alpha=0.5)\n",
        "plt.plot(np.full_like(OHLC_avg, -0.01), OHLC_avg , '|k', markeredgewidth=1)\n",
        "plt.ylim(OHLC_avg.min(), OHLC_avg.max())\n"
      ],
      "metadata": {
        "colab": {
          "base_uri": "https://localhost:8080/",
          "height": 282
        },
        "id": "oI5rCIt3tPhp",
        "outputId": "bc51a08d-885f-48d8-ba7b-b38abb4cee77"
      },
      "execution_count": 111,
      "outputs": [
        {
          "output_type": "execute_result",
          "data": {
            "text/plain": [
              "(1802.9650000000001, 1995.72)"
            ]
          },
          "metadata": {},
          "execution_count": 111
        },
        {
          "output_type": "display_data",
          "data": {
            "text/plain": [
              "<Figure size 432x288 with 1 Axes>"
            ],
            "image/png": "[encoded data removed]"
          },
          "metadata": {
            "needs_background": "light"
          }
        }
      ]
    },
    {
      "cell_type": "code",
      "source": [
        "x_d = np.linspace(OHLC_avg.min(), OHLC_avg.max(), 2000)"
      ],
      "metadata": {
        "id": "KkHp9MZjL8fJ"
      },
      "execution_count": 112,
      "outputs": []
    },
    {
      "cell_type": "code",
      "source": [
        "# instantiate and fit the KDE model\n",
        "kde = KernelDensity(bandwidth=1.0, kernel='gaussian')\n",
        "kde.fit([OHLC_avg])\n",
        "\n",
        "# score_samples returns the log of the probability density\n",
        "logprob = kde.score_samples([OHLC_avg])\n",
        "\n",
        "plt.fill_between(x_d,np.exp(logprob) , alpha=0.5)\n",
        "plt.plot(OHLC_avg, np.full_like(OHLC_avg, -0.01), '|k', markeredgewidth=1)\n",
        "plt.hist(OHLC_avg, bins=60)\n",
        "plt.xlim(OHLC_avg.min(), OHLC_avg.max())"
      ],
      "metadata": {
        "colab": {
          "base_uri": "https://localhost:8080/",
          "height": 282
        },
        "id": "VKRNAAJv1RW4",
        "outputId": "d0b23ee3-11f2-48ca-84de-f242700553e0"
      },
      "execution_count": 113,
      "outputs": [
        {
          "output_type": "execute_result",
          "data": {
            "text/plain": [
              "(1802.9650000000001, 1995.72)"
            ]
          },
          "metadata": {},
          "execution_count": 113
        },
        {
          "output_type": "display_data",
          "data": {
            "text/plain": [
              "<Figure size 432x288 with 1 Axes>"
            ],
            "image/png": "[encoded data removed]"
          },
          "metadata": {
            "needs_background": "light"
          }
        }
      ]
    },
    {
      "cell_type": "code",
      "source": [
        "# def make_data(N, f=0.3, rseed=1):\n",
        "#     rand = np.random.RandomState(rseed)\n",
        "#     x = rand.randn(N)\n",
        "#     x[int(f * N):] += 5\n",
        "#     return x\n",
        "\n",
        "x = OHLC_avg"
      ],
      "metadata": {
        "id": "iJtOQCNKQoDv"
      },
      "execution_count": 114,
      "outputs": []
    },
    {
      "cell_type": "code",
      "source": [
        "from scipy.stats import norm\n",
        "x_d = np.linspace(OHLC_avg.min(), OHLC_avg.max(), 2000)\n",
        "x_ticks = np.around(np.linspace(OHLC_avg.min(), OHLC_avg.max(), 20),4)"
      ],
      "metadata": {
        "id": "3ysnq7uUQ26m"
      },
      "execution_count": 115,
      "outputs": []
    },
    {
      "cell_type": "code",
      "source": [
        "x_ticks"
      ],
      "metadata": {
        "colab": {
          "base_uri": "https://localhost:8080/"
        },
        "id": "bMZMdbXurvtA",
        "outputId": "642f5e8f-cb6c-4738-9581-4881041adc77"
      },
      "execution_count": 116,
      "outputs": [
        {
          "output_type": "execute_result",
          "data": {
            "text/plain": [
              "array([1802.965, 1813.11 , 1823.255, 1833.4  , 1843.545, 1853.69 ,\n",
              "       1863.835, 1873.98 , 1884.125, 1894.27 , 1904.415, 1914.56 ,\n",
              "       1924.705, 1934.85 , 1944.995, 1955.14 , 1965.285, 1975.43 ,\n",
              "       1985.575, 1995.72 ])"
            ]
          },
          "metadata": {},
          "execution_count": 116
        }
      ]
    },
    {
      "cell_type": "code",
      "source": [
        "from matplotlib.ticker import FormatStrFormatter\n"
      ],
      "metadata": {
        "id": "ACBADz11tJHH"
      },
      "execution_count": 117,
      "outputs": []
    },
    {
      "cell_type": "code",
      "source": [
        "from sklearn.neighbors import KernelDensity\n",
        "\n",
        "kde = KernelDensity(bandwidth=1.0, kernel='gaussian')\n",
        "kde.fit(x[:, None])\n",
        "\n",
        "logprob = kde.score_samples(x_d[:, None])\n",
        "\n",
        "plt.figure(figsize=(25,6))\n",
        "plt.fill_between(x_d, np.exp(logprob), alpha=0.5)\n",
        "plt.plot(x, np.full_like(x, -0.01), '|k', markeredgewidth=1)\n",
        "# plt.ylim(-0.02, 0.22)\n",
        "\n",
        "plt.xticks(x_ticks)\n",
        "plt.xticks(rotation=90)\n"
      ],
      "metadata": {
        "colab": {
          "base_uri": "https://localhost:8080/",
          "height": 458
        },
        "id": "2uxAWmpdQrCA",
        "outputId": "306cf61d-dc25-4af5-f4aa-1fbcad925a07"
      },
      "execution_count": 118,
      "outputs": [
        {
          "output_type": "execute_result",
          "data": {
            "text/plain": [
              "(array([1802.965, 1813.11 , 1823.255, 1833.4  , 1843.545, 1853.69 ,\n",
              "        1863.835, 1873.98 , 1884.125, 1894.27 , 1904.415, 1914.56 ,\n",
              "        1924.705, 1934.85 , 1944.995, 1955.14 , 1965.285, 1975.43 ,\n",
              "        1985.575, 1995.72 ]), <a list of 20 Text major ticklabel objects>)"
            ]
          },
          "metadata": {},
          "execution_count": 118
        },
        {
          "output_type": "display_data",
          "data": {
            "text/plain": [
              "<Figure size 1800x432 with 1 Axes>"
            ],
            "image/png": "[encoded data removed]"
          },
          "metadata": {
            "needs_background": "light"
          }
        }
      ]
    },
    {
      "cell_type": "code",
      "source": [
        ""
      ],
      "metadata": {
        "id": "I7tOecyFGMAb"
      },
      "execution_count": 118,
      "outputs": []
    }
  ],
  "metadata": {
    "colab": {
      "collapsed_sections": [],
      "name": "Classification with svm - sklearn dencity - kmeans.ipynb",
      "provenance": [],
      "mount_file_id": "1L5CjxHfwOske5lCUC-MWW9A-_HluwdFw",
      "authorship_tag": "ABX9TyOk0BmNxE3z02ueKt3/pu9N",
      "include_colab_link": true
    },
    "kernelspec": {
      "display_name": "Python 3",
      "name": "python3"
    },
    "language_info": {
      "name": "python"
    }
  },
  "nbformat": 4,
  "nbformat_minor": 0
}