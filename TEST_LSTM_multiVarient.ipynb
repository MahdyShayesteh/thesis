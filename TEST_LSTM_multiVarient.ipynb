{
  "nbformat": 4,
  "nbformat_minor": 0,
  "metadata": {
    "colab": {
      "name": "TEST_LSTM_multiVarient.ipynb",
      "provenance": [],
      "collapsed_sections": [],
      "authorship_tag": "ABX9TyPPVrx5gxRLxrR0l2TAOpIY",
      "include_colab_link": true
    },
    "kernelspec": {
      "name": "python3",
      "display_name": "Python 3"
    },
    "language_info": {
      "name": "python"
    }
  },
  "cells": [
    {
      "cell_type": "markdown",
      "metadata": {
        "id": "view-in-github",
        "colab_type": "text"
      },
      "source": [
        "<a href=\"https://colab.research.google.com/github/mahhhdy/thesis/blob/main/TEST_LSTM_multiVarient.ipynb\" target=\"_parent\"><img src=\"https://colab.research.google.com/assets/colab-badge.svg\" alt=\"Open In Colab\"/></a>"
      ]
    },
    {
      "cell_type": "code",
      "source": [
        "import numpy as np\n",
        "from keras.models import Sequential\n",
        "from keras.layers import LSTM\n",
        "from keras.layers import Dense, Dropout\n",
        "import pandas as pd\n",
        "from matplotlib import pyplot as plt\n",
        "import seaborn as sns\n",
        "\n",
        "!pip install yfinance\n",
        "import yfinance as yf \n",
        "\n",
        "from google.colab import drive\n",
        "from sklearn.preprocessing import StandardScaler\n",
        "\n",
        "# drive.mount('/content/drive')\n",
        "# path='/content/drive/MyDrive/DataSets/BTCPrediction/BitcoinData.csv'\n",
        "\n",
        "# df = pd.read_csv(path)"
      ],
      "metadata": {
        "colab": {
          "base_uri": "https://localhost:8080/"
        },
        "id": "wTzXg3PCEs5d",
        "outputId": "6b9a74ac-48d4-46c2-b24b-198a37600aab"
      },
      "execution_count": 40,
      "outputs": [
        {
          "output_type": "stream",
          "name": "stdout",
          "text": [
            "Requirement already satisfied: yfinance in /usr/local/lib/python3.7/dist-packages (0.1.70)\n",
            "Requirement already satisfied: pandas>=0.24.0 in /usr/local/lib/python3.7/dist-packages (from yfinance) (1.3.5)\n",
            "Requirement already satisfied: requests>=2.26 in /usr/local/lib/python3.7/dist-packages (from yfinance) (2.27.1)\n",
            "Requirement already satisfied: numpy>=1.15 in /usr/local/lib/python3.7/dist-packages (from yfinance) (1.21.6)\n",
            "Requirement already satisfied: multitasking>=0.0.7 in /usr/local/lib/python3.7/dist-packages (from yfinance) (0.0.10)\n",
            "Requirement already satisfied: lxml>=4.5.1 in /usr/local/lib/python3.7/dist-packages (from yfinance) (4.8.0)\n",
            "Requirement already satisfied: python-dateutil>=2.7.3 in /usr/local/lib/python3.7/dist-packages (from pandas>=0.24.0->yfinance) (2.8.2)\n",
            "Requirement already satisfied: pytz>=2017.3 in /usr/local/lib/python3.7/dist-packages (from pandas>=0.24.0->yfinance) (2022.1)\n",
            "Requirement already satisfied: six>=1.5 in /usr/local/lib/python3.7/dist-packages (from python-dateutil>=2.7.3->pandas>=0.24.0->yfinance) (1.15.0)\n",
            "Requirement already satisfied: urllib3<1.27,>=1.21.1 in /usr/local/lib/python3.7/dist-packages (from requests>=2.26->yfinance) (1.24.3)\n",
            "Requirement already satisfied: charset-normalizer~=2.0.0 in /usr/local/lib/python3.7/dist-packages (from requests>=2.26->yfinance) (2.0.12)\n",
            "Requirement already satisfied: certifi>=2017.4.17 in /usr/local/lib/python3.7/dist-packages (from requests>=2.26->yfinance) (2021.10.8)\n",
            "Requirement already satisfied: idna<4,>=2.5 in /usr/local/lib/python3.7/dist-packages (from requests>=2.26->yfinance) (2.10)\n"
          ]
        }
      ]
    },
    {
      "cell_type": "code",
      "source": [
        "df = yf.download(tickers='GAIL.NS',period='5y' ,interval='1d' )\n",
        "\n",
        "# df = df[::-1].reset_index(drop=True)\n",
        "df.reset_index(inplace=True)\n",
        "\n",
        "# idx = pd.Series(range(0,df.shape[0]))\n",
        "# df = pd.DataFrame(index = idx, data  = df)\n",
        "\n",
        "df.info()"
      ],
      "metadata": {
        "colab": {
          "base_uri": "https://localhost:8080/"
        },
        "id": "FlUcyPULExfD",
        "outputId": "15af22c0-53c1-420d-c4fa-c7012e9cd8d8"
      },
      "execution_count": 41,
      "outputs": [
        {
          "output_type": "stream",
          "name": "stdout",
          "text": [
            "\r[*********************100%***********************]  1 of 1 completed\n",
            "<class 'pandas.core.frame.DataFrame'>\n",
            "RangeIndex: 1236 entries, 0 to 1235\n",
            "Data columns (total 7 columns):\n",
            " #   Column     Non-Null Count  Dtype         \n",
            "---  ------     --------------  -----         \n",
            " 0   Date       1236 non-null   datetime64[ns]\n",
            " 1   Open       1236 non-null   float64       \n",
            " 2   High       1236 non-null   float64       \n",
            " 3   Low        1236 non-null   float64       \n",
            " 4   Close      1236 non-null   float64       \n",
            " 5   Adj Close  1236 non-null   float64       \n",
            " 6   Volume     1236 non-null   int64         \n",
            "dtypes: datetime64[ns](1), float64(5), int64(1)\n",
            "memory usage: 67.7 KB\n"
          ]
        }
      ]
    },
    {
      "cell_type": "code",
      "source": [
        "# # def ConvertDataFrameColumn():\n",
        "# if(df['Change %'].str.contains('%').any()):\n",
        "#   df['Change %'] = df['Change %'].str.slice(0, -1)\n",
        "\n",
        "# if(df['Vol.'].str.contains('K').any() or df['Vol.'].str.contains('M').any()):\n",
        "#   df['Vol.'] = df['Vol.'].str.slice(0, -1)\n",
        "    \n",
        "# for x in ['Price','Open','High','Low']:\n",
        "#   if(df.dtypes[x]==np.object):\n",
        "#     df[x] = df[x].str.replace(',','')\n",
        "#   df[x] = df[x].astype(np.float64)\n",
        "\n",
        "# df['Vol.'] = pd.to_numeric(df['Vol.'], downcast=\"float\")\n",
        "# df['Change %'] = pd.to_numeric(df['Change %'], downcast=\"float\")"
      ],
      "metadata": {
        "id": "Cf_FsiBUIDrl"
      },
      "execution_count": 24,
      "outputs": []
    },
    {
      "cell_type": "code",
      "source": [
        "# ConvertDataFrameColumn()"
      ],
      "metadata": {
        "id": "tkyCTkpNIIpC"
      },
      "execution_count": 25,
      "outputs": []
    },
    {
      "cell_type": "code",
      "source": [
        "#Separate dates for future plotting\n",
        "train_dates = pd.to_datetime(df['Date'])\n",
        "print(train_dates.tail()) #Check last few dates. "
      ],
      "metadata": {
        "colab": {
          "base_uri": "https://localhost:8080/"
        },
        "id": "95YfJk2kE2FF",
        "outputId": "a0f3922e-f3a3-43fd-a150-98255c15f81c"
      },
      "execution_count": 26,
      "outputs": [
        {
          "output_type": "stream",
          "name": "stdout",
          "text": [
            "1231   2022-04-19\n",
            "1232   2022-04-20\n",
            "1233   2022-04-21\n",
            "1234   2022-04-22\n",
            "1235   2022-04-25\n",
            "Name: Date, dtype: datetime64[ns]\n"
          ]
        }
      ]
    },
    {
      "cell_type": "code",
      "source": [
        "#Variables for training\n",
        "cols = list(df)[1:len(df.columns)]\n",
        "#Date and volume columns are not used in training. \n",
        "print(cols) "
      ],
      "metadata": {
        "colab": {
          "base_uri": "https://localhost:8080/"
        },
        "id": "yo2U0GeyE3tR",
        "outputId": "6125449e-f9a0-4985-b1b6-a20762e5e4d6"
      },
      "execution_count": 27,
      "outputs": [
        {
          "output_type": "stream",
          "name": "stdout",
          "text": [
            "['Open', 'High', 'Low', 'Close', 'Adj Close', 'Volume']\n"
          ]
        }
      ]
    },
    {
      "cell_type": "code",
      "source": [
        "#New dataframe with only training data - 5 columns\n",
        "df_for_training = df[cols].astype(float)\n",
        "\n",
        "df_for_plot=df_for_training.tail(5000)\n",
        "df_for_plot.plot.line()"
      ],
      "metadata": {
        "colab": {
          "base_uri": "https://localhost:8080/",
          "height": 294
        },
        "id": "l8c4DAmDFbGT",
        "outputId": "d62e70cb-7279-4c4b-b2f6-66ab02974dde"
      },
      "execution_count": 28,
      "outputs": [
        {
          "output_type": "execute_result",
          "data": {
            "text/plain": [
              "<matplotlib.axes._subplots.AxesSubplot at 0x7fad217c0950>"
            ]
          },
          "metadata": {},
          "execution_count": 28
        },
        {
          "output_type": "display_data",
          "data": {
            "text/plain": [
              "<Figure size 432x288 with 1 Axes>"
            ],
            "image/png": "[encoded data removed]"
          },
          "metadata": {
            "needs_background": "light"
          }
        }
      ]
    },
    {
      "cell_type": "code",
      "source": [
        "#LSTM uses sigmoid and tanh that are sensitive to magnitude so values need to be normalized\n",
        "# normalize the dataset\n",
        "scaler = StandardScaler()\n",
        "scaler = scaler.fit(df_for_training)\n",
        "df_for_training_scaled = scaler.transform(df_for_training)"
      ],
      "metadata": {
        "id": "TOpwB_hbFlmr"
      },
      "execution_count": 29,
      "outputs": []
    },
    {
      "cell_type": "code",
      "source": [
        "\n",
        "#As required for LSTM networks, we require to reshape an input data into n_samples x timesteps x n_features. \n",
        "#In this example, the n_features is 5. We will make timesteps = 14 (past days data used for training). \n",
        "\n",
        "#Empty lists to be populated using formatted training data\n",
        "trainX = []\n",
        "trainY = []\n",
        "\n",
        "n_future = 1   # Number of days we want to look into the future based on the past days.\n",
        "n_past = 14  # Number of past days we want to use to predict the future.\n",
        "\n",
        "#Reformat input data into a shape: (n_samples x timesteps x n_features)\n",
        "#In my example, my df_for_training_scaled has a shape (12823, 5)\n",
        "#12823 refers to the number of data points and 5 refers to the columns (multi-variables).\n",
        "for i in range(n_past, len(df_for_training_scaled) - n_future +1):\n",
        "    trainX.append(df_for_training_scaled[i - n_past:i, 0:df_for_training.shape[1]])\n",
        "    trainY.append(df_for_training_scaled[i + n_future - 1:i + n_future, 0])\n",
        "\n",
        "trainX, trainY = np.array(trainX), np.array(trainY)\n",
        "\n",
        "print('trainX shape == {}.'.format(trainX.shape))\n",
        "print('trainY shape == {}.'.format(trainY.shape))"
      ],
      "metadata": {
        "colab": {
          "base_uri": "https://localhost:8080/"
        },
        "id": "m7MVWrYWFpKW",
        "outputId": "fccfee37-c433-48b5-8a4b-c94df837f67d"
      },
      "execution_count": 30,
      "outputs": [
        {
          "output_type": "stream",
          "name": "stdout",
          "text": [
            "trainX shape == (1222, 14, 6).\n",
            "trainY shape == (1222, 1).\n"
          ]
        }
      ]
    },
    {
      "cell_type": "code",
      "source": [
        "\n",
        "#In my case, trainX has a shape (12809, 14, 5). \n",
        "#12809 because we are looking back 14 days (12823 - 14 = 12809). \n",
        "#Remember that we cannot look back 14 days until we get to the 15th day. \n",
        "#Also, trainY has a shape (12809, 1). Our model only predicts a single value, but \n",
        "#it needs multiple variables (5 in my example) to make this prediction. \n",
        "#This is why we can only predict a single day after our training, the day after where our data ends.\n",
        "#To predict more days in future, we need all the 5 variables which we do not have. \n",
        "#We need to predict all variables if we want to do that. \n",
        "\n",
        "# define the Autoencoder model\n",
        "\n",
        "model = Sequential()\n",
        "model.add(LSTM(64, activation='relu', input_shape=(trainX.shape[1], trainX.shape[2]), return_sequences=True))\n",
        "model.add(LSTM(32, activation='relu', return_sequences=False))\n",
        "model.add(Dropout(0.2))\n",
        "model.add(Dense(trainY.shape[1]))\n",
        "\n",
        "model.compile(optimizer='adam', loss='mse')\n",
        "model.summary()"
      ],
      "metadata": {
        "colab": {
          "base_uri": "https://localhost:8080/"
        },
        "id": "opQKNBwYFtZv",
        "outputId": "07276aa5-8bfe-4a3c-8716-14df44f96928"
      },
      "execution_count": 31,
      "outputs": [
        {
          "output_type": "stream",
          "name": "stdout",
          "text": [
            "Model: \"sequential\"\n",
            "_________________________________________________________________\n",
            " Layer (type)                Output Shape              Param #   \n",
            "=================================================================\n",
            " lstm (LSTM)                 (None, 14, 64)            18176     \n",
            "                                                                 \n",
            " lstm_1 (LSTM)               (None, 32)                12416     \n",
            "                                                                 \n",
            " dropout (Dropout)           (None, 32)                0         \n",
            "                                                                 \n",
            " dense (Dense)               (None, 1)                 33        \n",
            "                                                                 \n",
            "=================================================================\n",
            "Total params: 30,625\n",
            "Trainable params: 30,625\n",
            "Non-trainable params: 0\n",
            "_________________________________________________________________\n"
          ]
        }
      ]
    },
    {
      "cell_type": "code",
      "source": [
        "num_epochs = 50\n",
        "num_batches = 16\n",
        "\n",
        "# fit the model\n",
        "history = model.fit(trainX, trainY, epochs=num_epochs, batch_size=num_batches , validation_split=0.1, verbose=1)\n",
        "\n",
        "plt.plot(history.history['loss'], label='Training loss')\n",
        "plt.plot(history.history['val_loss'], label='Validation loss')\n",
        "plt.legend()\n"
      ],
      "metadata": {
        "colab": {
          "base_uri": "https://localhost:8080/",
          "height": 1000
        },
        "id": "lLKsNJSCSgis",
        "outputId": "6fd86363-3979-467b-a0ff-54828824d1fd"
      },
      "execution_count": 32,
      "outputs": [
        {
          "output_type": "stream",
          "name": "stdout",
          "text": [
            "Epoch 1/50\n",
            "69/69 [==============================] - 5s 30ms/step - loss: 0.1476 - val_loss: 0.0480\n",
            "Epoch 2/50\n",
            "69/69 [==============================] - 2s 29ms/step - loss: 0.0694 - val_loss: 0.0385\n",
            "Epoch 3/50\n",
            "69/69 [==============================] - 2s 33ms/step - loss: 0.0588 - val_loss: 0.0337\n",
            "Epoch 4/50\n",
            "69/69 [==============================] - 2s 32ms/step - loss: 0.0543 - val_loss: 0.0253\n",
            "Epoch 5/50\n",
            "69/69 [==============================] - 2s 33ms/step - loss: 0.0461 - val_loss: 0.0234\n",
            "Epoch 6/50\n",
            "69/69 [==============================] - 2s 32ms/step - loss: 0.0468 - val_loss: 0.0181\n",
            "Epoch 7/50\n",
            "69/69 [==============================] - 2s 31ms/step - loss: 0.0416 - val_loss: 0.0169\n",
            "Epoch 8/50\n",
            "69/69 [==============================] - 2s 28ms/step - loss: 0.0441 - val_loss: 0.0153\n",
            "Epoch 9/50\n",
            "69/69 [==============================] - 2s 31ms/step - loss: 0.0323 - val_loss: 0.0134\n",
            "Epoch 10/50\n",
            "69/69 [==============================] - 2s 34ms/step - loss: 0.0327 - val_loss: 0.0123\n",
            "Epoch 11/50\n",
            "69/69 [==============================] - 3s 37ms/step - loss: 0.0350 - val_loss: 0.0106\n",
            "Epoch 12/50\n",
            "69/69 [==============================] - 2s 35ms/step - loss: 0.0356 - val_loss: 0.0133\n",
            "Epoch 13/50\n",
            "69/69 [==============================] - 2s 32ms/step - loss: 0.0373 - val_loss: 0.0092\n",
            "Epoch 14/50\n",
            "69/69 [==============================] - 2s 31ms/step - loss: 0.0347 - val_loss: 0.0091\n",
            "Epoch 15/50\n",
            "69/69 [==============================] - 2s 28ms/step - loss: 0.0286 - val_loss: 0.0071\n",
            "Epoch 16/50\n",
            "69/69 [==============================] - 2s 33ms/step - loss: 0.0258 - val_loss: 0.0090\n",
            "Epoch 17/50\n",
            "69/69 [==============================] - 2s 31ms/step - loss: 0.0285 - val_loss: 0.0079\n",
            "Epoch 18/50\n",
            "69/69 [==============================] - 2s 23ms/step - loss: 0.0259 - val_loss: 0.0062\n",
            "Epoch 19/50\n",
            "69/69 [==============================] - 1s 17ms/step - loss: 0.0316 - val_loss: 0.0095\n",
            "Epoch 20/50\n",
            "69/69 [==============================] - 1s 17ms/step - loss: 0.0273 - val_loss: 0.0072\n",
            "Epoch 21/50\n",
            "69/69 [==============================] - 1s 17ms/step - loss: 0.0286 - val_loss: 0.0055\n",
            "Epoch 22/50\n",
            "69/69 [==============================] - 1s 17ms/step - loss: 0.0265 - val_loss: 0.0058\n",
            "Epoch 23/50\n",
            "69/69 [==============================] - 1s 17ms/step - loss: 0.0275 - val_loss: 0.0055\n",
            "Epoch 24/50\n",
            "69/69 [==============================] - 1s 17ms/step - loss: 0.0259 - val_loss: 0.0129\n",
            "Epoch 25/50\n",
            "69/69 [==============================] - 1s 17ms/step - loss: 0.0302 - val_loss: 0.0055\n",
            "Epoch 26/50\n",
            "69/69 [==============================] - 1s 17ms/step - loss: 0.0285 - val_loss: 0.0099\n",
            "Epoch 27/50\n",
            "69/69 [==============================] - 1s 17ms/step - loss: 0.0260 - val_loss: 0.0049\n",
            "Epoch 28/50\n",
            "69/69 [==============================] - 1s 16ms/step - loss: 0.0322 - val_loss: 0.0047\n",
            "Epoch 29/50\n",
            "69/69 [==============================] - 1s 16ms/step - loss: 0.0292 - val_loss: 0.0058\n",
            "Epoch 30/50\n",
            "69/69 [==============================] - 1s 17ms/step - loss: 0.0280 - val_loss: 0.0091\n",
            "Epoch 31/50\n",
            "69/69 [==============================] - 1s 16ms/step - loss: 0.0276 - val_loss: 0.0065\n",
            "Epoch 32/50\n",
            "69/69 [==============================] - 1s 17ms/step - loss: 0.0258 - val_loss: 0.0088\n",
            "Epoch 33/50\n",
            "69/69 [==============================] - 1s 17ms/step - loss: 0.0274 - val_loss: 0.0071\n",
            "Epoch 34/50\n",
            "69/69 [==============================] - 1s 17ms/step - loss: 0.0245 - val_loss: 0.0046\n",
            "Epoch 35/50\n",
            "69/69 [==============================] - 1s 17ms/step - loss: 0.0264 - val_loss: 0.0056\n",
            "Epoch 36/50\n",
            "69/69 [==============================] - 1s 16ms/step - loss: 0.0264 - val_loss: 0.0066\n",
            "Epoch 37/50\n",
            "69/69 [==============================] - 1s 17ms/step - loss: 0.0302 - val_loss: 0.0052\n",
            "Epoch 38/50\n",
            "69/69 [==============================] - 1s 16ms/step - loss: 0.0265 - val_loss: 0.0058\n",
            "Epoch 39/50\n",
            "69/69 [==============================] - 1s 16ms/step - loss: 0.0224 - val_loss: 0.0040\n",
            "Epoch 40/50\n",
            "69/69 [==============================] - 1s 17ms/step - loss: 0.0275 - val_loss: 0.0070\n",
            "Epoch 41/50\n",
            "69/69 [==============================] - 1s 16ms/step - loss: 0.0228 - val_loss: 0.0041\n",
            "Epoch 42/50\n",
            "69/69 [==============================] - 1s 16ms/step - loss: 0.0237 - val_loss: 0.0077\n",
            "Epoch 43/50\n",
            "69/69 [==============================] - 1s 17ms/step - loss: 0.0250 - val_loss: 0.0061\n",
            "Epoch 44/50\n",
            "69/69 [==============================] - 1s 17ms/step - loss: 0.0272 - val_loss: 0.0037\n",
            "Epoch 45/50\n",
            "69/69 [==============================] - 1s 16ms/step - loss: 0.0267 - val_loss: 0.0037\n",
            "Epoch 46/50\n",
            "69/69 [==============================] - 1s 17ms/step - loss: 0.0281 - val_loss: 0.0042\n",
            "Epoch 47/50\n",
            "69/69 [==============================] - 1s 16ms/step - loss: 0.0232 - val_loss: 0.0047\n",
            "Epoch 48/50\n",
            "69/69 [==============================] - 1s 16ms/step - loss: 0.0263 - val_loss: 0.0046\n",
            "Epoch 49/50\n",
            "69/69 [==============================] - 1s 17ms/step - loss: 0.0239 - val_loss: 0.0032\n",
            "Epoch 50/50\n",
            "69/69 [==============================] - 1s 17ms/step - loss: 0.0267 - val_loss: 0.0032\n"
          ]
        },
        {
          "output_type": "execute_result",
          "data": {
            "text/plain": [
              "<matplotlib.legend.Legend at 0x7fad19b3f0d0>"
            ]
          },
          "metadata": {},
          "execution_count": 32
        },
        {
          "output_type": "display_data",
          "data": {
            "text/plain": [
              "<Figure size 432x288 with 1 Axes>"
            ],
            "image/png": "[encoded data removed]"
          },
          "metadata": {
            "needs_background": "light"
          }
        }
      ]
    },
    {
      "cell_type": "code",
      "source": [
        "\n",
        "#Predicting...\n",
        "#Libraries that will help us extract only business days in the US.\n",
        "#Otherwise our dates would be wrong when we look back (or forward).  \n",
        "from pandas.tseries.holiday import USFederalHolidayCalendar\n",
        "from pandas.tseries.offsets import CustomBusinessDay\n",
        "us_bd = CustomBusinessDay(calendar=USFederalHolidayCalendar())\n",
        "#Remember that we can only predict one day in future as our model needs 5 variables\n",
        "#as inputs for prediction. We only have all 5 variables until the last day in our dataset.\n",
        "\n",
        "\n",
        "# n_past = 16\n",
        "# n_days_for_prediction=15  #let us predict past 15 days\n",
        "\n",
        "n_future = 90\n",
        "\n",
        "\n",
        "predict_period_dates = pd.date_range(list(train_dates)[-n_past], periods=n_future, freq=us_bd).tolist()\n",
        "print(predict_period_dates)\n",
        "\n",
        "#Make prediction\n",
        "prediction = model.predict(trainX[-n_future:]) #shape = (n, 1) where n is the n_days_for_prediction\n",
        "\n",
        "#Perform inverse transformation to rescale back to original range\n",
        "#Since we used 5 variables for transform, the inverse expects same dimensions\n",
        "#Therefore, let us copy our values 5 times and discard them after inverse transform\n",
        "prediction_copies = np.repeat(prediction, df_for_training.shape[1], axis=-1)\n",
        "y_pred_future = scaler.inverse_transform(prediction_copies)[:,0]\n"
      ],
      "metadata": {
        "colab": {
          "base_uri": "https://localhost:8080/"
        },
        "id": "04SBSuWkAYT9",
        "outputId": "ea35c918-a50e-405d-f1ff-3a791a04f443"
      },
      "execution_count": 33,
      "outputs": [
        {
          "output_type": "stream",
          "name": "stdout",
          "text": [
            "[Timestamp('2022-04-04 00:00:00', freq='C'), Timestamp('2022-04-05 00:00:00', freq='C'), Timestamp('2022-04-06 00:00:00', freq='C'), Timestamp('2022-04-07 00:00:00', freq='C'), Timestamp('2022-04-08 00:00:00', freq='C'), Timestamp('2022-04-11 00:00:00', freq='C'), Timestamp('2022-04-12 00:00:00', freq='C'), Timestamp('2022-04-13 00:00:00', freq='C'), Timestamp('2022-04-14 00:00:00', freq='C'), Timestamp('2022-04-15 00:00:00', freq='C'), Timestamp('2022-04-18 00:00:00', freq='C'), Timestamp('2022-04-19 00:00:00', freq='C'), Timestamp('2022-04-20 00:00:00', freq='C'), Timestamp('2022-04-21 00:00:00', freq='C'), Timestamp('2022-04-22 00:00:00', freq='C'), Timestamp('2022-04-25 00:00:00', freq='C'), Timestamp('2022-04-26 00:00:00', freq='C'), Timestamp('2022-04-27 00:00:00', freq='C'), Timestamp('2022-04-28 00:00:00', freq='C'), Timestamp('2022-04-29 00:00:00', freq='C'), Timestamp('2022-05-02 00:00:00', freq='C'), Timestamp('2022-05-03 00:00:00', freq='C'), Timestamp('2022-05-04 00:00:00', freq='C'), Timestamp('2022-05-05 00:00:00', freq='C'), Timestamp('2022-05-06 00:00:00', freq='C'), Timestamp('2022-05-09 00:00:00', freq='C'), Timestamp('2022-05-10 00:00:00', freq='C'), Timestamp('2022-05-11 00:00:00', freq='C'), Timestamp('2022-05-12 00:00:00', freq='C'), Timestamp('2022-05-13 00:00:00', freq='C'), Timestamp('2022-05-16 00:00:00', freq='C'), Timestamp('2022-05-17 00:00:00', freq='C'), Timestamp('2022-05-18 00:00:00', freq='C'), Timestamp('2022-05-19 00:00:00', freq='C'), Timestamp('2022-05-20 00:00:00', freq='C'), Timestamp('2022-05-23 00:00:00', freq='C'), Timestamp('2022-05-24 00:00:00', freq='C'), Timestamp('2022-05-25 00:00:00', freq='C'), Timestamp('2022-05-26 00:00:00', freq='C'), Timestamp('2022-05-27 00:00:00', freq='C'), Timestamp('2022-05-31 00:00:00', freq='C'), Timestamp('2022-06-01 00:00:00', freq='C'), Timestamp('2022-06-02 00:00:00', freq='C'), Timestamp('2022-06-03 00:00:00', freq='C'), Timestamp('2022-06-06 00:00:00', freq='C'), Timestamp('2022-06-07 00:00:00', freq='C'), Timestamp('2022-06-08 00:00:00', freq='C'), Timestamp('2022-06-09 00:00:00', freq='C'), Timestamp('2022-06-10 00:00:00', freq='C'), Timestamp('2022-06-13 00:00:00', freq='C'), Timestamp('2022-06-14 00:00:00', freq='C'), Timestamp('2022-06-15 00:00:00', freq='C'), Timestamp('2022-06-16 00:00:00', freq='C'), Timestamp('2022-06-17 00:00:00', freq='C'), Timestamp('2022-06-20 00:00:00', freq='C'), Timestamp('2022-06-21 00:00:00', freq='C'), Timestamp('2022-06-22 00:00:00', freq='C'), Timestamp('2022-06-23 00:00:00', freq='C'), Timestamp('2022-06-24 00:00:00', freq='C'), Timestamp('2022-06-27 00:00:00', freq='C'), Timestamp('2022-06-28 00:00:00', freq='C'), Timestamp('2022-06-29 00:00:00', freq='C'), Timestamp('2022-06-30 00:00:00', freq='C'), Timestamp('2022-07-01 00:00:00', freq='C'), Timestamp('2022-07-05 00:00:00', freq='C'), Timestamp('2022-07-06 00:00:00', freq='C'), Timestamp('2022-07-07 00:00:00', freq='C'), Timestamp('2022-07-08 00:00:00', freq='C'), Timestamp('2022-07-11 00:00:00', freq='C'), Timestamp('2022-07-12 00:00:00', freq='C'), Timestamp('2022-07-13 00:00:00', freq='C'), Timestamp('2022-07-14 00:00:00', freq='C'), Timestamp('2022-07-15 00:00:00', freq='C'), Timestamp('2022-07-18 00:00:00', freq='C'), Timestamp('2022-07-19 00:00:00', freq='C'), Timestamp('2022-07-20 00:00:00', freq='C'), Timestamp('2022-07-21 00:00:00', freq='C'), Timestamp('2022-07-22 00:00:00', freq='C'), Timestamp('2022-07-25 00:00:00', freq='C'), Timestamp('2022-07-26 00:00:00', freq='C'), Timestamp('2022-07-27 00:00:00', freq='C'), Timestamp('2022-07-28 00:00:00', freq='C'), Timestamp('2022-07-29 00:00:00', freq='C'), Timestamp('2022-08-01 00:00:00', freq='C'), Timestamp('2022-08-02 00:00:00', freq='C'), Timestamp('2022-08-03 00:00:00', freq='C'), Timestamp('2022-08-04 00:00:00', freq='C'), Timestamp('2022-08-05 00:00:00', freq='C'), Timestamp('2022-08-08 00:00:00', freq='C'), Timestamp('2022-08-09 00:00:00', freq='C')]\n"
          ]
        }
      ]
    },
    {
      "cell_type": "code",
      "source": [
        "#  Convert timestamp to date\n",
        "forecast_dates = []\n",
        "for time_i in predict_period_dates:\n",
        "    forecast_dates.append(time_i.date())"
      ],
      "metadata": {
        "id": "T7Y4HSCuGinC"
      },
      "execution_count": 34,
      "outputs": []
    },
    {
      "cell_type": "code",
      "source": [
        "y_pred_future.shape"
      ],
      "metadata": {
        "colab": {
          "base_uri": "https://localhost:8080/"
        },
        "id": "6Vl--CAmG_jk",
        "outputId": "9571c947-a16a-447f-8447-fc1681cda7e8"
      },
      "execution_count": 35,
      "outputs": [
        {
          "output_type": "execute_result",
          "data": {
            "text/plain": [
              "(90,)"
            ]
          },
          "metadata": {},
          "execution_count": 35
        }
      ]
    },
    {
      "cell_type": "code",
      "source": [
        "np.array(forecast_dates).shape"
      ],
      "metadata": {
        "colab": {
          "base_uri": "https://localhost:8080/"
        },
        "id": "cDyaYRrgGs4g",
        "outputId": "bd1fc94c-f910-4695-bb25-95b0a79bc067"
      },
      "execution_count": 36,
      "outputs": [
        {
          "output_type": "execute_result",
          "data": {
            "text/plain": [
              "(90,)"
            ]
          },
          "metadata": {},
          "execution_count": 36
        }
      ]
    },
    {
      "cell_type": "code",
      "source": [
        "df_forecast = pd.DataFrame({'Date':np.array(forecast_dates), 'Open':y_pred_future})\n",
        "df_forecast['Date']=pd.to_datetime(df_forecast['Date'])"
      ],
      "metadata": {
        "id": "JCyyaDpYGpoP"
      },
      "execution_count": 37,
      "outputs": []
    },
    {
      "cell_type": "code",
      "source": [
        "df.head()"
      ],
      "metadata": {
        "colab": {
          "base_uri": "https://localhost:8080/",
          "height": 206
        },
        "id": "8hEaxTZTUgu6",
        "outputId": "8c87a5a9-06f9-483d-b3c2-818211a5729a"
      },
      "execution_count": 38,
      "outputs": [
        {
          "output_type": "execute_result",
          "data": {
            "text/plain": [
              "        Date        Open        High         Low       Close   Adj Close  \\\n",
              "0 2017-04-25  155.943787  155.962540  153.787537  154.312531  125.239449   \n",
              "1 2017-04-26  155.193787  157.556290  153.525040  154.968781  125.772064   \n",
              "2 2017-04-27  155.625031  158.212540  154.312531  156.900040  127.339439   \n",
              "3 2017-04-28  157.068787  159.187546  155.625031  158.981293  129.028595   \n",
              "4 2017-05-02  159.000046  161.737534  157.218796  161.062546  130.717728   \n",
              "\n",
              "     Volume  \n",
              "0   7836211  \n",
              "1   9465781  \n",
              "2   8671901  \n",
              "3  10076829  \n",
              "4   5071785  "
            ],
            "text/html": [
              "\n",
              "  <div id=\"df-b0e18733-6891-4d11-89c4-6be419d745d5\">\n",
              "    <div class=\"colab-df-container\">\n",
              "      <div>\n",
              "<style scoped>\n",
              "    .dataframe tbody tr th:only-of-type {\n",
              "        vertical-align: middle;\n",
              "    }\n",
              "\n",
              "    .dataframe tbody tr th {\n",
              "        vertical-align: top;\n",
              "    }\n",
              "\n",
              "    .dataframe thead th {\n",
              "        text-align: right;\n",
              "    }\n",
              "</style>\n",
              "<table border=\"1\" class=\"dataframe\">\n",
              "  <thead>\n",
              "    <tr style=\"text-align: right;\">\n",
              "      <th></th>\n",
              "      <th>Date</th>\n",
              "      <th>Open</th>\n",
              "      <th>High</th>\n",
              "      <th>Low</th>\n",
              "      <th>Close</th>\n",
              "      <th>Adj Close</th>\n",
              "      <th>Volume</th>\n",
              "    </tr>\n",
              "  </thead>\n",
              "  <tbody>\n",
              "    <tr>\n",
              "      <th>0</th>\n",
              "      <td>2017-04-25</td>\n",
              "      <td>155.943787</td>\n",
              "      <td>155.962540</td>\n",
              "      <td>153.787537</td>\n",
              "      <td>154.312531</td>\n",
              "      <td>125.239449</td>\n",
              "      <td>7836211</td>\n",
              "    </tr>\n",
              "    <tr>\n",
              "      <th>1</th>\n",
              "      <td>2017-04-26</td>\n",
              "      <td>155.193787</td>\n",
              "      <td>157.556290</td>\n",
              "      <td>153.525040</td>\n",
              "      <td>154.968781</td>\n",
              "      <td>125.772064</td>\n",
              "      <td>9465781</td>\n",
              "    </tr>\n",
              "    <tr>\n",
              "      <th>2</th>\n",
              "      <td>2017-04-27</td>\n",
              "      <td>155.625031</td>\n",
              "      <td>158.212540</td>\n",
              "      <td>154.312531</td>\n",
              "      <td>156.900040</td>\n",
              "      <td>127.339439</td>\n",
              "      <td>8671901</td>\n",
              "    </tr>\n",
              "    <tr>\n",
              "      <th>3</th>\n",
              "      <td>2017-04-28</td>\n",
              "      <td>157.068787</td>\n",
              "      <td>159.187546</td>\n",
              "      <td>155.625031</td>\n",
              "      <td>158.981293</td>\n",
              "      <td>129.028595</td>\n",
              "      <td>10076829</td>\n",
              "    </tr>\n",
              "    <tr>\n",
              "      <th>4</th>\n",
              "      <td>2017-05-02</td>\n",
              "      <td>159.000046</td>\n",
              "      <td>161.737534</td>\n",
              "      <td>157.218796</td>\n",
              "      <td>161.062546</td>\n",
              "      <td>130.717728</td>\n",
              "      <td>5071785</td>\n",
              "    </tr>\n",
              "  </tbody>\n",
              "</table>\n",
              "</div>\n",
              "      <button class=\"colab-df-convert\" onclick=\"convertToInteractive('df-b0e18733-6891-4d11-89c4-6be419d745d5')\"\n",
              "              title=\"Convert this dataframe to an interactive table.\"\n",
              "              style=\"display:none;\">\n",
              "        \n",
              "  <svg xmlns=\"http://www.w3.org/2000/svg\" height=\"24px\"viewBox=\"0 0 24 24\"\n",
              "       width=\"24px\">\n",
              "    <path d=\"M0 0h24v24H0V0z\" fill=\"none\"/>\n",
              "    <path d=\"M18.56 5.44l.94 2.06.94-2.06 2.06-.94-2.06-.94-.94-2.06-.94 2.06-2.06.94zm-11 1L8.5 8.5l.94-2.06 2.06-.94-2.06-.94L8.5 2.5l-.94 2.06-2.06.94zm10 10l.94 2.06.94-2.06 2.06-.94-2.06-.94-.94-2.06-.94 2.06-2.06.94z\"/><path d=\"M17.41 7.96l-1.37-1.37c-.4-.4-.92-.59-1.43-.59-.52 0-1.04.2-1.43.59L10.3 9.45l-7.72 7.72c-.78.78-.78 2.05 0 2.83L4 21.41c.39.39.9.59 1.41.59.51 0 1.02-.2 1.41-.59l7.78-7.78 2.81-2.81c.8-.78.8-2.07 0-2.86zM5.41 20L4 18.59l7.72-7.72 1.47 1.35L5.41 20z\"/>\n",
              "  </svg>\n",
              "      </button>\n",
              "      \n",
              "  <style>\n",
              "    .colab-df-container {\n",
              "      display:flex;\n",
              "      flex-wrap:wrap;\n",
              "      gap: 12px;\n",
              "    }\n",
              "\n",
              "    .colab-df-convert {\n",
              "      background-color: #E8F0FE;\n",
              "      border: none;\n",
              "      border-radius: 50%;\n",
              "      cursor: pointer;\n",
              "      display: none;\n",
              "      fill: #1967D2;\n",
              "      height: 32px;\n",
              "      padding: 0 0 0 0;\n",
              "      width: 32px;\n",
              "    }\n",
              "\n",
              "    .colab-df-convert:hover {\n",
              "      background-color: #E2EBFA;\n",
              "      box-shadow: 0px 1px 2px rgba(60, 64, 67, 0.3), 0px 1px 3px 1px rgba(60, 64, 67, 0.15);\n",
              "      fill: #174EA6;\n",
              "    }\n",
              "\n",
              "    [theme=dark] .colab-df-convert {\n",
              "      background-color: #3B4455;\n",
              "      fill: #D2E3FC;\n",
              "    }\n",
              "\n",
              "    [theme=dark] .colab-df-convert:hover {\n",
              "      background-color: #434B5C;\n",
              "      box-shadow: 0px 1px 3px 1px rgba(0, 0, 0, 0.15);\n",
              "      filter: drop-shadow(0px 1px 2px rgba(0, 0, 0, 0.3));\n",
              "      fill: #FFFFFF;\n",
              "    }\n",
              "  </style>\n",
              "\n",
              "      <script>\n",
              "        const buttonEl =\n",
              "          document.querySelector('#df-b0e18733-6891-4d11-89c4-6be419d745d5 button.colab-df-convert');\n",
              "        buttonEl.style.display =\n",
              "          google.colab.kernel.accessAllowed ? 'block' : 'none';\n",
              "\n",
              "        async function convertToInteractive(key) {\n",
              "          const element = document.querySelector('#df-b0e18733-6891-4d11-89c4-6be419d745d5');\n",
              "          const dataTable =\n",
              "            await google.colab.kernel.invokeFunction('convertToInteractive',\n",
              "                                                     [key], {});\n",
              "          if (!dataTable) return;\n",
              "\n",
              "          const docLinkHtml = 'Like what you see? Visit the ' +\n",
              "            '<a target=\"_blank\" href=https://colab.research.google.com/notebooks/data_table.ipynb>data table notebook</a>'\n",
              "            + ' to learn more about interactive tables.';\n",
              "          element.innerHTML = '';\n",
              "          dataTable['output_type'] = 'display_data';\n",
              "          await google.colab.output.renderOutput(dataTable, element);\n",
              "          const docLink = document.createElement('div');\n",
              "          docLink.innerHTML = docLinkHtml;\n",
              "          element.appendChild(docLink);\n",
              "        }\n",
              "      </script>\n",
              "    </div>\n",
              "  </div>\n",
              "  "
            ]
          },
          "metadata": {},
          "execution_count": 38
        }
      ]
    },
    {
      "cell_type": "code",
      "execution_count": 49,
      "metadata": {
        "colab": {
          "base_uri": "https://localhost:8080/",
          "height": 490
        },
        "id": "PZ8Tdg4jQ8EY",
        "outputId": "2b952dde-b443-4c9c-a427-853b98bff88e"
      },
      "outputs": [
        {
          "output_type": "stream",
          "name": "stderr",
          "text": [
            "/usr/local/lib/python3.7/dist-packages/ipykernel_launcher.py:2: SettingWithCopyWarning: \n",
            "A value is trying to be set on a copy of a slice from a DataFrame.\n",
            "Try using .loc[row_indexer,col_indexer] = value instead\n",
            "\n",
            "See the caveats in the documentation: https://pandas.pydata.org/pandas-docs/stable/user_guide/indexing.html#returning-a-view-versus-a-copy\n",
            "  \n",
            "/usr/local/lib/python3.7/dist-packages/seaborn/_decorators.py:43: FutureWarning: Pass the following variables as keyword args: x, y. From version 0.12, the only valid positional argument will be `data`, and passing other arguments without an explicit keyword will result in an error or misinterpretation.\n",
            "  FutureWarning\n",
            "/usr/local/lib/python3.7/dist-packages/seaborn/_decorators.py:43: FutureWarning: Pass the following variables as keyword args: x, y. From version 0.12, the only valid positional argument will be `data`, and passing other arguments without an explicit keyword will result in an error or misinterpretation.\n",
            "  FutureWarning\n"
          ]
        },
        {
          "output_type": "execute_result",
          "data": {
            "text/plain": [
              "<matplotlib.axes._subplots.AxesSubplot at 0x7fad1d4806d0>"
            ]
          },
          "metadata": {},
          "execution_count": 49
        },
        {
          "output_type": "display_data",
          "data": {
            "text/plain": [
              "<Figure size 432x288 with 1 Axes>"
            ],
            "image/png": "[encoded data removed]"
          },
          "metadata": {
            "needs_background": "light"
          }
        }
      ],
      "source": [
        "original = df[['Date', 'Open']]\n",
        "original['Date']=pd.to_datetime(original['Date'])\n",
        "original = original.loc[original['Date'] >= '2021-9-1']\n",
        "\n",
        "sns.lineplot(original['Date'], original['Open'])\n",
        "sns.lineplot(df_forecast['Date'], df_forecast['Open'])"
      ]
    }
  ]
}