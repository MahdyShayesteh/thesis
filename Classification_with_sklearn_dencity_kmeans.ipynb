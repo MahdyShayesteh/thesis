{
  "cells": [
    {
      "cell_type": "markdown",
      "metadata": {
        "id": "view-in-github",
        "colab_type": "text"
      },
      "source": [
        "<a href=\"https://colab.research.google.com/github/mahhhdy/thesis/blob/main/Classification_with_sklearn_dencity_kmeans.ipynb\" target=\"_parent\"><img src=\"https://colab.research.google.com/assets/colab-badge.svg\" alt=\"Open In Colab\"/></a>"
      ]
    },
    {
      "cell_type": "markdown",
      "metadata": {
        "id": "KYJS8G728Wtl"
      },
      "source": [
        "\n",
        "this post has been used </br>\n",
        "https://github.com/NourozR/Stock-Price-Prediction-LSTM/blob/1829ad5c8b3ece7b0e9c16fd76cf2550142683b2/StockPricePrediction.py#L11"
      ]
    },
    {
      "cell_type": "code",
      "execution_count": 1,
      "metadata": {
        "id": "-UvOhWK64Fnj",
        "colab": {
          "base_uri": "https://localhost:8080/"
        },
        "outputId": "f5589e91-6951-4454-bbbd-210ea7b57173"
      },
      "outputs": [
        {
          "output_type": "stream",
          "name": "stdout",
          "text": [
            "Drive already mounted at /content/drive; to attempt to forcibly remount, call drive.mount(\"/content/drive\", force_remount=True).\n"
          ]
        }
      ],
      "source": [
        "import numpy as np\n",
        "import matplotlib.pyplot as plt\n",
        "import pandas as pd\n",
        "import math\n",
        "import tensorflow as tf\n",
        "from keras.models import Sequential\n",
        "from keras.layers import Dense , Activation, Dropout\n",
        "from keras.layers import LSTM , SimpleRNN\n",
        "from keras.layers import BatchNormalization\n",
        "from sklearn.metrics import mean_squared_error\n",
        "from google.colab import drive\n",
        "from google.colab import files\n",
        "# from keras.layers.normalization import batch_normalization\n",
        "\n",
        "from scipy.spatial.distance import euclidean\n",
        "from fastdtw import fastdtw\n",
        "\n",
        "np.random.seed(7)\n",
        "\n",
        "########## import dataset ##########\n",
        "drive.mount('/content/drive')\n",
        "path='/content/drive/MyDrive/DataSets/BTCPrediction/15XAUUSD.csv'\n",
        "# dataset = pd.read_csv(path,usecols=[1,2,3,4])\n",
        "dataset = pd.read_csv(path)\n"
      ]
    },
    {
      "cell_type": "code",
      "source": [
        "dataset = dataset.rename({'Time':'Date','|PD|':'PD'},axis=1)"
      ],
      "metadata": {
        "id": "0xHYtowVi0Ed"
      },
      "execution_count": 2,
      "outputs": []
    },
    {
      "cell_type": "code",
      "execution_count": 3,
      "metadata": {
        "id": "ZBG9pDSeXp08"
      },
      "outputs": [],
      "source": [
        "dataset = dataset.reindex(index = dataset.index[::-1])\n",
        "dataset = dataset.drop(columns=['Date','PD%','PD% / ATR'])"
      ]
    },
    {
      "cell_type": "code",
      "source": [
        "# dataset = dataset.head(30)"
      ],
      "metadata": {
        "id": "ugKPUa_aZaFG"
      },
      "execution_count": 4,
      "outputs": []
    },
    {
      "cell_type": "code",
      "execution_count": 5,
      "metadata": {
        "id": "f9k2UmjcXrcE",
        "colab": {
          "base_uri": "https://localhost:8080/"
        },
        "outputId": "14710ab4-0c09-431a-abdd-2fcf5839fbe3"
      },
      "outputs": [
        {
          "output_type": "execute_result",
          "data": {
            "text/plain": [
              "array([   1,    2,    3, ..., 1998, 1999, 2000])"
            ]
          },
          "metadata": {},
          "execution_count": 5
        }
      ],
      "source": [
        "obs = np.arange(1, len(dataset) + 1, 1)\n",
        "obs"
      ]
    },
    {
      "cell_type": "code",
      "source": [
        "dataset['Average'] = dataset[['Open','Close','Low','High']].mean(axis=1)\n",
        "# dataset"
      ],
      "metadata": {
        "id": "Gq-Z8d3aFeeV"
      },
      "execution_count": 6,
      "outputs": []
    },
    {
      "cell_type": "code",
      "source": [
        "dataset['State'] =( dataset['Close'] > dataset['Open']).astype(int)\n",
        "# dataset"
      ],
      "metadata": {
        "id": "1idd0XvWA1Bl"
      },
      "execution_count": 7,
      "outputs": []
    },
    {
      "cell_type": "code",
      "execution_count": 8,
      "metadata": {
        "id": "PVKZ1CGvXsPt"
      },
      "outputs": [],
      "source": [
        "# TAKING DIFFERENT INDICATORS FOR PREDICTION\n",
        "# OHLC_avg = dataset[['Average']].to_numpy()\n",
        "OHLC_avg = dataset.iloc[:,:dataset.shape[1]-1].to_numpy()\n",
        "# HLC_avg = dataset[['High', 'Low', 'Close']].mean(axis = 1)\n",
        "State = dataset[['State']].to_numpy()"
      ]
    },
    {
      "cell_type": "code",
      "execution_count": 9,
      "metadata": {
        "id": "6k37UGVjXtXH"
      },
      "outputs": [],
      "source": [
        "# plt.figure(figsize=(18,6))\n",
        "# plt.plot(obs, OHLC_avg, 'r', label = 'AveraOHLC_avgge')\n",
        "# plt.plot(obs, close_val, 'g', label = 'Closing price')\n",
        "# plt.legend(loc = 'upper right')\n",
        "# plt.show()"
      ]
    },
    {
      "cell_type": "code",
      "source": [
        "OHLC_avg.shape,State.shape"
      ],
      "metadata": {
        "colab": {
          "base_uri": "https://localhost:8080/"
        },
        "id": "gfQ608I2bz5C",
        "outputId": "bfe21cb8-698f-4e1e-d6a3-a52d812ca776"
      },
      "execution_count": 10,
      "outputs": [
        {
          "output_type": "execute_result",
          "data": {
            "text/plain": [
              "((2000, 7), (2000, 1))"
            ]
          },
          "metadata": {},
          "execution_count": 10
        }
      ]
    },
    {
      "cell_type": "code",
      "source": [
        "def new_dataset(dataset, target , step_size):\n",
        "\tdata_X, data_Y = [], []\n",
        "\tfor i in range(len(dataset)-step_size):\n",
        "\t\ta = dataset[i:(i+step_size), :]\n",
        "\t\tdata_X.append(a)\n",
        "\t\tdata_Y.append(target[i + step_size])\n",
        "\treturn np.array(data_X), np.array(data_Y)"
      ],
      "metadata": {
        "id": "Dr3dmXRHQy2d"
      },
      "execution_count": 11,
      "outputs": []
    },
    {
      "cell_type": "code",
      "source": [
        "X, Y = new_dataset(OHLC_avg, State , 1)\n",
        "X.shape , Y.shape"
      ],
      "metadata": {
        "colab": {
          "base_uri": "https://localhost:8080/"
        },
        "id": "XhxG9L6FL-P4",
        "outputId": "94fb186b-98f4-43e3-fe41-8d966e3a44d0"
      },
      "execution_count": 12,
      "outputs": [
        {
          "output_type": "execute_result",
          "data": {
            "text/plain": [
              "((1999, 1, 7), (1999, 1))"
            ]
          },
          "metadata": {},
          "execution_count": 12
        }
      ]
    },
    {
      "cell_type": "code",
      "source": [
        "from sklearn.preprocessing import MinMaxScaler"
      ],
      "metadata": {
        "id": "bD7xepG_dxMd"
      },
      "execution_count": 13,
      "outputs": []
    },
    {
      "cell_type": "code",
      "execution_count": 14,
      "metadata": {
        "id": "x8fV2a11XuS_"
      },
      "outputs": [],
      "source": [
        "# X = np.reshape(X , (len(X),1)) \n",
        "# scaler = MinMaxScaler(feature_range=(0, 1))\n",
        "# X = scaler.fit_transform(X)"
      ]
    },
    {
      "cell_type": "code",
      "execution_count": 15,
      "metadata": {
        "id": "cuXaUmoqXvUt"
      },
      "outputs": [],
      "source": [
        "len_train = int(len(X) * 0.8)\n",
        "len_test = len(X) - len_train\n",
        "\n",
        "trainX, testX = X[0:len_train,:], X[len_train:len(OHLC_avg),:]\n",
        "trainY, testY = Y[0:len_train],Y[len_train:len(OHLC_avg)]\n",
        "\n"
      ]
    },
    {
      "cell_type": "code",
      "source": [
        "trainX.shape , testX.shape  , '----' , trainY.shape , testY.shape "
      ],
      "metadata": {
        "colab": {
          "base_uri": "https://localhost:8080/"
        },
        "id": "j0YOB68MMPYv",
        "outputId": "336e20e0-9f7f-4441-fbd1-af818ba2c5c2"
      },
      "execution_count": 16,
      "outputs": [
        {
          "output_type": "execute_result",
          "data": {
            "text/plain": [
              "((1599, 1, 7), (400, 1, 7), '----', (1599, 1), (400, 1))"
            ]
          },
          "metadata": {},
          "execution_count": 16
        }
      ]
    },
    {
      "cell_type": "code",
      "execution_count": 17,
      "metadata": {
        "id": "pBxi-DY7XxOV",
        "colab": {
          "base_uri": "https://localhost:8080/"
        },
        "outputId": "eb35923b-673f-4246-98c2-1c66335a4af4"
      },
      "outputs": [
        {
          "output_type": "execute_result",
          "data": {
            "text/plain": [
              "((1599, 1, 7), (400, 1, 7))"
            ]
          },
          "metadata": {},
          "execution_count": 17
        }
      ],
      "source": [
        "# trainX = np.reshape(trainX, (trainX.shape[0], 1, trainX.shape[1]))\n",
        "# trainX = trainX.reshape(trainX.shape[0], 1, trainX.shape[1])\n",
        "# testX = np.reshape(testX, (testX.shape[0], 1, testX.shape[1]))\n",
        "# testX = testX.reshape(testX.shape[0], 1, testX.shape[1])\n",
        "\n",
        "step_size = 1\n",
        "\n",
        "trainX.shape , testX.shape"
      ]
    },
    {
      "cell_type": "code",
      "source": [
        "from sklearn.neural_network import MLPClassifie\n",
        "clf = MLPClassifier(random_state=1, max_iter=300).fit(trainX.reshape(-1,7), trainY)"
      ],
      "metadata": {
        "colab": {
          "base_uri": "https://localhost:8080/"
        },
        "id": "St6oaqSumDkm",
        "outputId": "17b6bc5e-b868-40a8-c65d-d979677bd313"
      },
      "execution_count": 24,
      "outputs": [
        {
          "output_type": "stream",
          "name": "stderr",
          "text": [
            "/usr/local/lib/python3.7/dist-packages/sklearn/neural_network/_multilayer_perceptron.py:1109: DataConversionWarning: A column-vector y was passed when a 1d array was expected. Please change the shape of y to (n_samples, ), for example using ravel().\n",
            "  y = column_or_1d(y, warn=True)\n"
          ]
        }
      ]
    },
    {
      "cell_type": "code",
      "source": [
        "clf.predict_proba(trainX.reshape(-1,7))"
      ],
      "metadata": {
        "colab": {
          "base_uri": "https://localhost:8080/"
        },
        "id": "ahZNngsSnut-",
        "outputId": "c112208e-d816-4789-f049-327d14e11419"
      },
      "execution_count": 25,
      "outputs": [
        {
          "output_type": "execute_result",
          "data": {
            "text/plain": [
              "array([[4.73374189e-07, 9.99999527e-01],\n",
              "       [4.87511638e-07, 9.99999512e-01],\n",
              "       [4.45878407e-07, 9.99999554e-01],\n",
              "       ...,\n",
              "       [5.04177491e-07, 9.99999496e-01],\n",
              "       [3.00624645e-07, 9.99999699e-01],\n",
              "       [1.19047543e-06, 9.99998810e-01]])"
            ]
          },
          "metadata": {},
          "execution_count": 25
        }
      ]
    },
    {
      "cell_type": "code",
      "source": [
        "clf.predict(testX.reshape(-1,7))"
      ],
      "metadata": {
        "colab": {
          "base_uri": "https://localhost:8080/"
        },
        "id": "Q7ZDSoOKntvF",
        "outputId": "97fe6bef-1dcb-49b7-fd4e-1ec268f0d241"
      },
      "execution_count": 26,
      "outputs": [
        {
          "output_type": "execute_result",
          "data": {
            "text/plain": [
              "array([1, 1, 1, 1, 1, 1, 1, 1, 1, 1, 1, 1, 1, 1, 1, 1, 1, 1, 1, 1, 1, 1,\n",
              "       1, 1, 1, 1, 1, 1, 1, 1, 1, 1, 1, 1, 1, 1, 1, 1, 1, 1, 1, 1, 1, 1,\n",
              "       1, 1, 1, 1, 1, 1, 1, 1, 1, 1, 1, 1, 1, 1, 1, 1, 1, 1, 1, 1, 1, 1,\n",
              "       1, 1, 1, 1, 1, 1, 1, 1, 1, 1, 1, 1, 1, 1, 1, 1, 1, 1, 1, 1, 1, 1,\n",
              "       1, 1, 1, 1, 1, 1, 1, 1, 1, 1, 1, 1, 1, 1, 1, 1, 1, 1, 1, 1, 1, 1,\n",
              "       1, 1, 1, 1, 1, 1, 1, 1, 1, 1, 1, 1, 1, 1, 1, 1, 1, 1, 1, 1, 1, 1,\n",
              "       1, 1, 1, 1, 1, 1, 1, 1, 1, 1, 1, 1, 1, 1, 1, 1, 1, 1, 1, 1, 1, 1,\n",
              "       1, 1, 1, 1, 1, 1, 1, 1, 1, 1, 1, 1, 1, 1, 1, 1, 1, 1, 1, 1, 1, 1,\n",
              "       1, 1, 1, 1, 1, 1, 1, 1, 1, 1, 1, 1, 1, 1, 1, 1, 1, 1, 1, 1, 1, 1,\n",
              "       1, 1, 1, 1, 1, 1, 1, 1, 1, 1, 1, 1, 1, 1, 1, 1, 1, 1, 1, 1, 1, 1,\n",
              "       1, 1, 1, 1, 1, 1, 1, 1, 1, 1, 1, 1, 1, 1, 1, 1, 1, 1, 1, 1, 1, 1,\n",
              "       1, 1, 1, 1, 1, 1, 1, 1, 1, 1, 1, 1, 1, 1, 1, 1, 1, 1, 1, 1, 1, 1,\n",
              "       1, 1, 1, 1, 1, 1, 1, 1, 1, 1, 1, 1, 1, 1, 1, 1, 1, 1, 1, 1, 1, 1,\n",
              "       1, 1, 1, 1, 1, 1, 1, 1, 1, 1, 1, 1, 1, 1, 1, 1, 1, 1, 1, 1, 1, 1,\n",
              "       1, 1, 1, 1, 1, 1, 1, 1, 1, 1, 1, 1, 1, 1, 1, 1, 1, 1, 1, 1, 1, 1,\n",
              "       1, 1, 1, 1, 1, 1, 1, 1, 1, 1, 1, 1, 1, 1, 1, 1, 1, 1, 1, 1, 1, 1,\n",
              "       1, 1, 1, 1, 1, 1, 1, 1, 1, 1, 1, 1, 1, 1, 1, 1, 1, 1, 1, 1, 1, 1,\n",
              "       1, 1, 1, 1, 1, 1, 1, 1, 1, 1, 1, 1, 1, 1, 1, 1, 1, 1, 1, 1, 1, 1,\n",
              "       1, 1, 1, 1])"
            ]
          },
          "metadata": {},
          "execution_count": 26
        }
      ]
    },
    {
      "cell_type": "code",
      "source": [
        "clf.score(testX.reshape(-1,7), testY)"
      ],
      "metadata": {
        "colab": {
          "base_uri": "https://localhost:8080/"
        },
        "id": "4y3UnX0MnrxX",
        "outputId": "26b6f20a-0a7d-43dc-879e-4307da6e3993"
      },
      "execution_count": 27,
      "outputs": [
        {
          "output_type": "execute_result",
          "data": {
            "text/plain": [
              "0.485"
            ]
          },
          "metadata": {},
          "execution_count": 27
        }
      ]
    },
    {
      "cell_type": "code",
      "execution_count": null,
      "metadata": {
        "id": "q1nd7B6vXydI"
      },
      "outputs": [],
      "source": [
        "# batchSize=1\n",
        "\n",
        "# # LSTM MODEL\n",
        "# model = Sequential()\n",
        "# # model.add(LSTM(32, input_shape=(trainX[0].shape), return_sequences = True))\n",
        "# # model.add(LSTM(16))\n",
        "# # model.add(Dense(1))\n",
        "\n",
        "# model.add(Dense(units = 10,activation=\"tanh\"))\n",
        "# model.add(Dense(units = 1))\n",
        "# model.add(Activation('sigmoid'))\n",
        "# model.compile(optimizer = 'rmsprop', loss = 'binary_crossentropy' , metrics=[\"accuracy\"])\n",
        "# model.fit(trainX.reshape(-1,7), trainY, epochs = 100, batch_size = batchSize, validation_split = 0.2)"
      ]
    },
    {
      "cell_type": "code",
      "source": [
        "trainX.shape , trainY.shape , testX.shape , testY.shape"
      ],
      "metadata": {
        "id": "CNXqF4poHxzM"
      },
      "execution_count": null,
      "outputs": []
    },
    {
      "cell_type": "code",
      "execution_count": null,
      "metadata": {
        "id": "Ck9v1E8DXzlt"
      },
      "outputs": [],
      "source": [
        "# batchSize=1\n",
        "\n",
        "# model = Sequential()\n",
        "# model.add(BatchNormalization(input_shape = trainX[0].shape ))\n",
        "# model.add(LSTM(units = 1))\n",
        "# # model.add(Dropout(0.2))\n",
        "# # model.add(LSTM(units = 50, return_sequences = True))\n",
        "# # model.add(Dropout(0.2))\n",
        "# # model.add(LSTM(units = 50, return_sequences = True))\n",
        "# # model.add(Dropout(0.2))\n",
        "# # model.add(LSTM(units = 5))\n",
        "# # model.add(Dropout(0.2))\n",
        "# model.add(Dense(units = 10,activation=\"tanh\"))\n",
        "# model.add(Dense(units = 1))\n",
        "# model.add(Activation('sigmoid'))\n",
        "# model.compile(optimizer = 'rmsprop', loss = 'binary_crossentropy' , metrics=[\"accuracy\"])\n",
        "# model.fit(trainX, trainY, epochs = 100, batch_size = batchSize, validation_split = 0.2)"
      ]
    },
    {
      "cell_type": "code",
      "source": [
        ""
      ],
      "metadata": {
        "id": "AK648R4kR33H"
      },
      "execution_count": null,
      "outputs": []
    },
    {
      "cell_type": "code",
      "execution_count": null,
      "metadata": {
        "id": "C4XyR_5GX00F"
      },
      "outputs": [],
      "source": [
        "trainPredict = model.predict(trainX)\n",
        "testPredict = model.predict(testX)"
      ]
    },
    {
      "cell_type": "code",
      "source": [
        "trainPredict.shape , trainY.shape"
      ],
      "metadata": {
        "id": "2kmSuu5_YWkd"
      },
      "execution_count": null,
      "outputs": []
    },
    {
      "cell_type": "code",
      "source": [
        "trainY[:5] ,  trainPredict[:5]"
      ],
      "metadata": {
        "id": "qKQcQXOrzewG"
      },
      "execution_count": null,
      "outputs": []
    },
    {
      "cell_type": "code",
      "execution_count": null,
      "metadata": {
        "id": "qjxDbJI8X1w0"
      },
      "outputs": [],
      "source": [
        "# DE-NORMALIZING FOR PLOTTING\n",
        "\n",
        "# trainPredict = scaler.inverse_transform(trainPredict)\n",
        "# trainY = scaler.inverse_transform([trainY])\n",
        "\n",
        "# testPredict = scaler.inverse_transform(testPredict)\n",
        "# testY = scaler.inverse_transform([testY])"
      ]
    },
    {
      "cell_type": "code",
      "execution_count": null,
      "metadata": {
        "id": "I5tRJCwVX332"
      },
      "outputs": [],
      "source": [
        "# TRAINING RMSE\n",
        "trainScore = math.sqrt(mean_squared_error(trainY[0], trainPredict[:,0]))\n",
        "print('Train RMSE: %.2f' % (trainScore))"
      ]
    },
    {
      "cell_type": "code",
      "source": [
        "\n",
        "\n",
        "# df = pd.DataFrame([trainY[0], columns = ['Name'])"
      ],
      "metadata": {
        "id": "xLSBdjkIHmz7"
      },
      "execution_count": null,
      "outputs": []
    },
    {
      "cell_type": "code",
      "execution_count": null,
      "metadata": {
        "id": "bsSK2EZtX4uF"
      },
      "outputs": [],
      "source": [
        "# TEST RMSE\n",
        "testScore = math.sqrt(mean_squared_error(testY[0], testPredict[:,0]))\n",
        "print('Test RMSE: %.2f' % (testScore))"
      ]
    },
    {
      "cell_type": "code",
      "execution_count": null,
      "metadata": {
        "id": "SKzhiNlMX5v9"
      },
      "outputs": [],
      "source": [
        "# CREATING SIMILAR DATASET TO PLOT TRAINING PREDICTIONS\n",
        "trainPredictPlot = np.empty_like(OHLC_avg)\n",
        "trainPredictPlot[:, :] = np.nan\n",
        "trainPredictPlot[step_size:len(trainPredict)+step_size, :] = trainPredict"
      ]
    },
    {
      "cell_type": "code",
      "execution_count": null,
      "metadata": {
        "id": "ufOutxHHX7cV"
      },
      "outputs": [],
      "source": [
        "# CREATING SIMILAR DATASSET TO PLOT TEST PREDICTIONS\n",
        "testPredictPlot = np.empty_like(OHLC_avg)\n",
        "testPredictPlot[:, :] = np.nan\n",
        "testPredictPlot[len(trainPredict)+(step_size*2)+1:len(OHLC_avg)-1, :] = testPredict"
      ]
    },
    {
      "cell_type": "code",
      "source": [
        "trainPredict.shape , testPredict.shape"
      ],
      "metadata": {
        "id": "AEi755i7xQ4w"
      },
      "execution_count": null,
      "outputs": []
    },
    {
      "cell_type": "code",
      "execution_count": null,
      "metadata": {
        "id": "yMhKZIGlX878"
      },
      "outputs": [],
      "source": [
        "# DE-NORMALIZING MAIN DATASET \n",
        "OHLC_avg = scaler.inverse_transform(OHLC_avg)"
      ]
    },
    {
      "cell_type": "code",
      "execution_count": null,
      "metadata": {
        "id": "m0HWhbTiX9pV"
      },
      "outputs": [],
      "source": [
        "# PLOT OF MAIN OHLC VALUES, TRAIN PREDICTIONS AND TEST PREDICTIONS\n",
        "plt.figure(figsize=(24, 10))\n",
        "plt.plot(OHLC_avg, 'g', label = 'original dataset')\n",
        "plt.plot(trainPredictPlot, 'r', label = 'training set')\n",
        "plt.plot(testPredictPlot, 'b', label = 'predicted stock price/test set')\n",
        "plt.legend(loc = 'upper left')\n",
        "plt.xlabel('Time in Days')\n",
        "plt.ylabel('OHLC Value of Apple Stocks')\n",
        "plt.show()"
      ]
    },
    {
      "cell_type": "code",
      "execution_count": null,
      "metadata": {
        "id": "2pcw9mHfV52O"
      },
      "outputs": [],
      "source": [
        "# PREDICT FUTURE VALUES\n",
        "last_val = testPredict[-1]\n",
        "last_val_scaled = last_val/last_val\n",
        "next_val = model.predict(np.reshape(last_val_scaled, (1,1,1)))\n",
        "# print \"Last Day Value:\", np.asscalar(last_val)\n",
        "# print \"Next Day Value:\", np.asscalar(last_val*next_val)\n",
        "# print np.append(last_val, next_val)\n",
        "\n",
        "print(\"Last Day Value:\", last_val)\n",
        "print(\"Next Day Value:\", last_val*next_val)\n",
        "# print(np.append(last_val, next_val)"
      ]
    },
    {
      "cell_type": "code",
      "source": [
        "df2 = pd.DataFrame()"
      ],
      "metadata": {
        "id": "tf8u9rlT5wIT"
      },
      "execution_count": null,
      "outputs": []
    },
    {
      "cell_type": "code",
      "source": [
        "trainY = trainY.T\n",
        "testY = testY.T"
      ],
      "metadata": {
        "id": "kS1ZKJg1fZOI"
      },
      "execution_count": null,
      "outputs": []
    },
    {
      "cell_type": "code",
      "source": [
        "perdictCol = np.vstack((trainPredict , testPredict))  \n",
        "dataCol = np.vstack((trainY , testY))  \n",
        "\n",
        "perdictCol  = perdictCol.reshape(-1)\n",
        "dataCol  = dataCol.reshape(-1)\n",
        "\n",
        "perdictCol.shape , dataCol.shape"
      ],
      "metadata": {
        "id": "p1Suzm0iBaY0"
      },
      "execution_count": null,
      "outputs": []
    },
    {
      "cell_type": "code",
      "source": [
        "my_array = np.array([perdictCol,dataCol]).T"
      ],
      "metadata": {
        "id": "hwgt65ASVJeo"
      },
      "execution_count": null,
      "outputs": []
    },
    {
      "cell_type": "code",
      "source": [
        "df2 = pd.DataFrame(my_array, columns = ['perdictCol','dataCol'])\n",
        "df2['diff'] = df2['perdictCol'] - df2['dataCol']"
      ],
      "metadata": {
        "id": "tBIiOkjuSuTi"
      },
      "execution_count": null,
      "outputs": []
    },
    {
      "cell_type": "code",
      "source": [
        "df2.tail()"
      ],
      "metadata": {
        "id": "E91u2gF5aCqa"
      },
      "execution_count": null,
      "outputs": []
    },
    {
      "cell_type": "code",
      "source": [
        "(df2['diff']>2).sum() + (df2['diff'] < -2).sum() "
      ],
      "metadata": {
        "id": "cMrwgItsaD_Q"
      },
      "execution_count": null,
      "outputs": []
    },
    {
      "cell_type": "code",
      "source": [
        "distance, warp_path = fastdtw(df2['perdictCol'],df2['dataCol'], dist=euclidean)"
      ],
      "metadata": {
        "id": "wNDdyEUoL6Gn"
      },
      "execution_count": null,
      "outputs": []
    },
    {
      "cell_type": "code",
      "source": [
        "distance"
      ],
      "metadata": {
        "id": "SOjA34rBMDiP"
      },
      "execution_count": null,
      "outputs": []
    },
    {
      "cell_type": "markdown",
      "source": [
        "DTW Plot"
      ],
      "metadata": {
        "id": "3Zp4piwydmdm"
      }
    },
    {
      "cell_type": "code",
      "source": [
        "# fig, ax = plt.subplots(figsize=(16, 12))\n",
        "\n",
        "# # Remove the border and axes ticks\n",
        "# fig.patch.set_visible(False)\n",
        "# ax.axis('off')\n",
        "\n",
        "# for [map_x, map_y] in warp_path:\n",
        "#     ax.plot([map_x, map_y], [df2['perdictCol'][map_x], df2['dataCol'][map_y]], '-k')\n",
        "\n",
        "# ax.plot(df2['perdictCol'], color='blue', marker='o', markersize=10, linewidth=5)\n",
        "# ax.plot(df2['dataCol'], color='red', marker='o', markersize=10, linewidth=5)\n",
        "# ax.tick_params(axis=\"both\", which=\"major\", labelsize=18)\n",
        "\n",
        "# # fig.savefig(\"ex2_dtw_distance.png\", **savefig_options)"
      ],
      "metadata": {
        "id": "y0KwceayMJx1"
      },
      "execution_count": null,
      "outputs": []
    },
    {
      "cell_type": "markdown",
      "source": [
        "# KMeans on OHLC_avg for clusetering"
      ],
      "metadata": {
        "id": "y9PT9sHFgLxa"
      }
    },
    {
      "cell_type": "code",
      "source": [
        "from sklearn.cluster import KMeans"
      ],
      "metadata": {
        "id": "y_k2iFwRgTkv"
      },
      "execution_count": null,
      "outputs": []
    },
    {
      "cell_type": "code",
      "source": [
        "kmeans = KMeans(4)\n",
        "kmeans.fit(OHLC_avg)"
      ],
      "metadata": {
        "id": "R4YxGwfsgY6C"
      },
      "execution_count": null,
      "outputs": []
    },
    {
      "cell_type": "code",
      "source": [
        "identified_clusters = kmeans.fit_predict(OHLC_avg)\n",
        "identified_clusters"
      ],
      "metadata": {
        "id": "CqKuW3ylgY1p"
      },
      "execution_count": null,
      "outputs": []
    },
    {
      "cell_type": "code",
      "source": [
        "(identified_clusters==0).sum()"
      ],
      "metadata": {
        "id": "71QrMdKlkWJP"
      },
      "execution_count": null,
      "outputs": []
    },
    {
      "cell_type": "code",
      "source": [
        "OHLC_avg.shape"
      ],
      "metadata": {
        "id": "MLI2oAXXlJnJ"
      },
      "execution_count": null,
      "outputs": []
    },
    {
      "cell_type": "markdown",
      "source": [
        "# sklearn density\n"
      ],
      "metadata": {
        "id": "byX6qtfttMJr"
      }
    },
    {
      "cell_type": "code",
      "source": [
        "OHLC_avg = OHLC_avg.flatten()\n",
        "OHLC_avg.shape"
      ],
      "metadata": {
        "id": "QRGe1nHcvXEa"
      },
      "execution_count": null,
      "outputs": []
    },
    {
      "cell_type": "code",
      "source": [
        "from sklearn.neighbors import KernelDensity"
      ],
      "metadata": {
        "id": "MJDL0Gv6JaYJ"
      },
      "execution_count": null,
      "outputs": []
    },
    {
      "cell_type": "code",
      "source": [
        "y_d = np.linspace(OHLC_avg.min(), OHLC_avg.max(), 2000)"
      ],
      "metadata": {
        "id": "dOK39D-yw4WQ"
      },
      "execution_count": null,
      "outputs": []
    },
    {
      "cell_type": "code",
      "source": [
        "# instantiate and fit the KDE model\n",
        "kde = KernelDensity(bandwidth=1.0, kernel='gaussian')\n",
        "kde.fit([OHLC_avg])\n",
        "\n",
        "# score_samples returns the log of the probability density\n",
        "logprob = kde.score_samples([OHLC_avg])\n",
        "\n",
        "plt.fill_between(y_d, np.exp(logprob), alpha=0.5)\n",
        "plt.plot(np.full_like(OHLC_avg, -0.01), OHLC_avg , '|k', markeredgewidth=1)\n",
        "plt.ylim(OHLC_avg.min(), OHLC_avg.max())\n"
      ],
      "metadata": {
        "id": "oI5rCIt3tPhp"
      },
      "execution_count": null,
      "outputs": []
    },
    {
      "cell_type": "code",
      "source": [
        "x_d = np.linspace(OHLC_avg.min(), OHLC_avg.max(), 2000)"
      ],
      "metadata": {
        "id": "KkHp9MZjL8fJ"
      },
      "execution_count": null,
      "outputs": []
    },
    {
      "cell_type": "code",
      "source": [
        "# instantiate and fit the KDE model\n",
        "kde = KernelDensity(bandwidth=1.0, kernel='gaussian')\n",
        "kde.fit([OHLC_avg])\n",
        "\n",
        "# score_samples returns the log of the probability density\n",
        "logprob = kde.score_samples([OHLC_avg])\n",
        "\n",
        "plt.fill_between(x_d,np.exp(logprob) , alpha=0.5)\n",
        "plt.plot(OHLC_avg, np.full_like(OHLC_avg, -0.01), '|k', markeredgewidth=1)\n",
        "plt.hist(OHLC_avg, bins=60)\n",
        "plt.xlim(OHLC_avg.min(), OHLC_avg.max())"
      ],
      "metadata": {
        "id": "VKRNAAJv1RW4"
      },
      "execution_count": null,
      "outputs": []
    },
    {
      "cell_type": "code",
      "source": [
        "# def make_data(N, f=0.3, rseed=1):\n",
        "#     rand = np.random.RandomState(rseed)\n",
        "#     x = rand.randn(N)\n",
        "#     x[int(f * N):] += 5\n",
        "#     return x\n",
        "\n",
        "x = OHLC_avg"
      ],
      "metadata": {
        "id": "iJtOQCNKQoDv"
      },
      "execution_count": null,
      "outputs": []
    },
    {
      "cell_type": "code",
      "source": [
        "from scipy.stats import norm\n",
        "x_d = np.linspace(OHLC_avg.min(), OHLC_avg.max(), 2000)\n",
        "x_ticks = np.around(np.linspace(OHLC_avg.min(), OHLC_avg.max(), 20),4)"
      ],
      "metadata": {
        "id": "3ysnq7uUQ26m"
      },
      "execution_count": null,
      "outputs": []
    },
    {
      "cell_type": "code",
      "source": [
        "x_ticks"
      ],
      "metadata": {
        "id": "bMZMdbXurvtA"
      },
      "execution_count": null,
      "outputs": []
    },
    {
      "cell_type": "code",
      "source": [
        "from matplotlib.ticker import FormatStrFormatter\n"
      ],
      "metadata": {
        "id": "ACBADz11tJHH"
      },
      "execution_count": null,
      "outputs": []
    },
    {
      "cell_type": "code",
      "source": [
        "from sklearn.neighbors import KernelDensity\n",
        "\n",
        "kde = KernelDensity(bandwidth=1.0, kernel='gaussian')\n",
        "kde.fit(x[:, None])\n",
        "\n",
        "logprob = kde.score_samples(x_d[:, None])\n",
        "\n",
        "plt.figure(figsize=(25,6))\n",
        "plt.fill_between(x_d, np.exp(logprob), alpha=0.5)\n",
        "plt.plot(x, np.full_like(x, -0.01), '|k', markeredgewidth=1)\n",
        "# plt.ylim(-0.02, 0.22)\n",
        "\n",
        "plt.xticks(x_ticks)\n",
        "plt.xticks(rotation=90)\n"
      ],
      "metadata": {
        "id": "2uxAWmpdQrCA"
      },
      "execution_count": null,
      "outputs": []
    },
    {
      "cell_type": "code",
      "source": [
        ""
      ],
      "metadata": {
        "id": "I7tOecyFGMAb"
      },
      "execution_count": null,
      "outputs": []
    }
  ],
  "metadata": {
    "colab": {
      "collapsed_sections": [],
      "name": "Classification with sklearn dencity - kmeans.ipynb",
      "provenance": [],
      "mount_file_id": "1L5CjxHfwOske5lCUC-MWW9A-_HluwdFw",
      "authorship_tag": "ABX9TyMwdfSxGoq9a/zhbCffmDNS",
      "include_colab_link": true
    },
    "kernelspec": {
      "display_name": "Python 3",
      "name": "python3"
    },
    "language_info": {
      "name": "python"
    }
  },
  "nbformat": 4,
  "nbformat_minor": 0
}