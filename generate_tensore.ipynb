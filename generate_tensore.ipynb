{
  "cells": [
    {
      "cell_type": "markdown",
      "metadata": {
        "id": "view-in-github",
        "colab_type": "text"
      },
      "source": [
        "<a href=\"https://colab.research.google.com/github/mahhhdy/thesis/blob/main/generate_tensore.ipynb\" target=\"_parent\"><img src=\"https://colab.research.google.com/assets/colab-badge.svg\" alt=\"Open In Colab\"/></a>"
      ]
    },
    {
      "cell_type": "code",
      "execution_count": null,
      "metadata": {
        "id": "4nJmJlq9OrXt"
      },
      "outputs": [],
      "source": [
        "# url = 'https://anaconda.org/conda-forge/libta-lib/0.4.0/download/linux-64/libta-lib-0.4.0-h516909a_0.tar.bz2'\n",
        "# !curl -L $url | tar xj -C /usr/lib/x86_64-linux-gnu/ lib --strip-components=1\n",
        "# url = 'https://anaconda.org/conda-forge/ta-lib/0.4.19/download/linux-64/ta-lib-0.4.19-py37ha21ca33_2.tar.bz2'\n",
        "# !curl -L $url | tar xj -C /usr/local/lib/python3.7/dist-packages/ lib/python3.7/site-packages/talib --strip-components=3\n",
        "import pandas as pd\n",
        "import numpy as np\n",
        "import matplotlib.pyplot as plt"
      ]
    },
    {
      "cell_type": "code",
      "execution_count": null,
      "metadata": {
        "id": "kdW9-ocC6_3o"
      },
      "outputs": [],
      "source": [
        "df = pd.DataFrame(np.random.randint(0,100,size=(5,2)),columns=list('AB'))\n",
        "df2 = pd.DataFrame(np.random.randint(0,100,size=(5,2)),columns=list('AB'))\n",
        "df3 = pd.DataFrame(np.random.randint(0,100,size=(5,2)),columns=list('CD'))"
      ]
    },
    {
      "cell_type": "code",
      "execution_count": null,
      "metadata": {
        "colab": {
          "base_uri": "https://localhost:8080/"
        },
        "id": "uZXUCZGJ9s3Y",
        "outputId": "6ce036a6-5182-430c-9f5d-36ad40e1447f"
      },
      "outputs": [
        {
          "output_type": "execute_result",
          "data": {
            "text/plain": [
              "((5, 2), (5, 2), (5, 2))"
            ]
          },
          "metadata": {},
          "execution_count": 5
        }
      ],
      "source": [
        "df.shape , df2.shape , df3.shape"
      ]
    },
    {
      "cell_type": "code",
      "execution_count": null,
      "metadata": {
        "id": "3z4eFi-Y97aP"
      },
      "outputs": [],
      "source": [
        "df = df.to_numpy()\n",
        "df2 = df2.to_numpy()\n",
        "df3 = df3.to_numpy()"
      ]
    },
    {
      "cell_type": "code",
      "source": [
        "# df.reshape(50,4,5)\n",
        "df = df.reshape(5, 2, 1)\n",
        "df2 = df2.reshape(5, 2, 1)\n",
        "df3 = df3.reshape(5, 2, 1)\n",
        "df.shape , df2.shape , df3.shape"
      ],
      "metadata": {
        "colab": {
          "base_uri": "https://localhost:8080/"
        },
        "id": "rWnLzRByBdVt",
        "outputId": "a3a59d14-0784-46b8-df07-dcf952e319ff"
      },
      "execution_count": null,
      "outputs": [
        {
          "output_type": "execute_result",
          "data": {
            "text/plain": [
              "((5, 2, 1), (5, 2, 1), (5, 2, 1))"
            ]
          },
          "metadata": {},
          "execution_count": 7
        }
      ]
    },
    {
      "cell_type": "code",
      "source": [
        "dfc = np.concatenate((df,df2,df3),axis=2)\n",
        "dfc.shape"
      ],
      "metadata": {
        "id": "5ggpqDfyW3F_",
        "colab": {
          "base_uri": "https://localhost:8080/"
        },
        "outputId": "a97e39e7-d7f5-4952-aa8b-5fb167a99e5f"
      },
      "execution_count": null,
      "outputs": [
        {
          "output_type": "execute_result",
          "data": {
            "text/plain": [
              "(5, 2, 3)"
            ]
          },
          "metadata": {},
          "execution_count": 8
        }
      ]
    },
    {
      "cell_type": "code",
      "source": [
        "dfc"
      ],
      "metadata": {
        "colab": {
          "base_uri": "https://localhost:8080/"
        },
        "id": "BHosYr75Xk_n",
        "outputId": "5633af56-30ef-4071-9b2e-1d2a991633ae"
      },
      "execution_count": null,
      "outputs": [
        {
          "output_type": "execute_result",
          "data": {
            "text/plain": [
              "array([[[ 9, 45, 11],\n",
              "        [ 2, 16, 85]],\n",
              "\n",
              "       [[23, 48, 62],\n",
              "        [64,  4, 63]],\n",
              "\n",
              "       [[70,  6, 66],\n",
              "        [46, 78, 48]],\n",
              "\n",
              "       [[ 3, 41, 49],\n",
              "        [ 4, 13, 54]],\n",
              "\n",
              "       [[ 1, 16, 51],\n",
              "        [28, 53, 83]]])"
            ]
          },
          "metadata": {},
          "execution_count": 9
        }
      ]
    }
  ],
  "metadata": {
    "colab": {
      "collapsed_sections": [],
      "name": "generate tensore.ipynb",
      "provenance": [],
      "authorship_tag": "ABX9TyOTqmrXcBR2YQFC5urAImhZ",
      "include_colab_link": true
    },
    "kernelspec": {
      "display_name": "Python 3",
      "name": "python3"
    },
    "language_info": {
      "name": "python"
    }
  },
  "nbformat": 4,
  "nbformat_minor": 0
}