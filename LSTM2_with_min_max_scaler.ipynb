{
  "nbformat": 4,
  "nbformat_minor": 0,
  "metadata": {
    "colab": {
      "name": "LSTM2-with-min max scaler.ipynb",
      "provenance": [],
      "collapsed_sections": [],
      "authorship_tag": "ABX9TyM8cmDKI59vMusfoyui8+0G",
      "include_colab_link": true
    },
    "kernelspec": {
      "name": "python3",
      "display_name": "Python 3"
    },
    "language_info": {
      "name": "python"
    }
  },
  "cells": [
    {
      "cell_type": "markdown",
      "metadata": {
        "id": "view-in-github",
        "colab_type": "text"
      },
      "source": [
        "<a href=\"https://colab.research.google.com/github/mahhhdy/thesis/blob/main/LSTM2_with_min_max_scaler.ipynb\" target=\"_parent\"><img src=\"https://colab.research.google.com/assets/colab-badge.svg\" alt=\"Open In Colab\"/></a>"
      ]
    },
    {
      "cell_type": "markdown",
      "source": [
        "lstm network by minmax scaler</br>\n",
        "this post has been used </br>\n",
        "https://towardsdatascience.com/bitcoin-price-prediction-using-lstm-9eb0938c22bd"
      ],
      "metadata": {
        "id": "TCzZWuQOFd4G"
      }
    },
    {
      "cell_type": "code",
      "execution_count": null,
      "metadata": {
        "colab": {
          "base_uri": "https://localhost:8080/"
        },
        "id": "-UvOhWK64Fnj",
        "outputId": "0f6b6053-34f1-4480-8923-fb20aab1e68a"
      },
      "outputs": [
        {
          "output_type": "stream",
          "name": "stdout",
          "text": [
            "Drive already mounted at /content/drive; to attempt to forcibly remount, call drive.mount(\"/content/drive\", force_remount=True).\n"
          ]
        }
      ],
      "source": [
        "import numpy as np\n",
        "import matplotlib.pyplot as plt\n",
        "import pandas as pd\n",
        "import math\n",
        "from keras.models import Sequential\n",
        "from keras.layers import Dense , LSTM\n",
        "from keras.layers import BatchNormalization\n",
        "from sklearn.metrics import mean_squared_error\n",
        "from google.colab import drive\n",
        "from sklearn.preprocessing import MinMaxScaler\n",
        "min_maxscaler = MinMaxScaler()\n",
        "\n",
        "drive.mount('/content/drive')\n",
        "path='/content/drive/MyDrive/DataSets/BTCPrediction/BitcoinData.csv'\n",
        "\n",
        "df = pd.read_csv(path)\n",
        "np.random.seed(7)"
      ]
    },
    {
      "cell_type": "code",
      "source": [
        "df = df[::-1].reset_index(drop=True)\n",
        "df.head()"
      ],
      "metadata": {
        "colab": {
          "base_uri": "https://localhost:8080/",
          "height": 206
        },
        "id": "-bWzeXzCFwf-",
        "outputId": "7625e58f-cd77-4705-a6e6-88ddf8a382b5"
      },
      "execution_count": null,
      "outputs": [
        {
          "output_type": "execute_result",
          "data": {
            "text/plain": [
              "           Date Price Open High  Low    Vol. Change %\n",
              "0  Jan 04, 2011   0.3  0.3  0.3  0.3   1.88K    0.00%\n",
              "1  Jan 05, 2011   0.3  0.3  0.3  0.3   0.36K    0.00%\n",
              "2  Jan 06, 2011   0.3  0.3  0.3  0.3   3.46K    0.00%\n",
              "3  Jan 07, 2011   0.3  0.3  0.3  0.3  42.60K    0.00%\n",
              "4  Jan 08, 2011   0.3  0.3  0.3  0.3   1.63K    0.00%"
            ],
            "text/html": [
              "\n",
              "  <div id=\"df-627ee00c-97d2-4145-955d-912d8d0aa419\">\n",
              "    <div class=\"colab-df-container\">\n",
              "      <div>\n",
              "<style scoped>\n",
              "    .dataframe tbody tr th:only-of-type {\n",
              "        vertical-align: middle;\n",
              "    }\n",
              "\n",
              "    .dataframe tbody tr th {\n",
              "        vertical-align: top;\n",
              "    }\n",
              "\n",
              "    .dataframe thead th {\n",
              "        text-align: right;\n",
              "    }\n",
              "</style>\n",
              "<table border=\"1\" class=\"dataframe\">\n",
              "  <thead>\n",
              "    <tr style=\"text-align: right;\">\n",
              "      <th></th>\n",
              "      <th>Date</th>\n",
              "      <th>Price</th>\n",
              "      <th>Open</th>\n",
              "      <th>High</th>\n",
              "      <th>Low</th>\n",
              "      <th>Vol.</th>\n",
              "      <th>Change %</th>\n",
              "    </tr>\n",
              "  </thead>\n",
              "  <tbody>\n",
              "    <tr>\n",
              "      <th>0</th>\n",
              "      <td>Jan 04, 2011</td>\n",
              "      <td>0.3</td>\n",
              "      <td>0.3</td>\n",
              "      <td>0.3</td>\n",
              "      <td>0.3</td>\n",
              "      <td>1.88K</td>\n",
              "      <td>0.00%</td>\n",
              "    </tr>\n",
              "    <tr>\n",
              "      <th>1</th>\n",
              "      <td>Jan 05, 2011</td>\n",
              "      <td>0.3</td>\n",
              "      <td>0.3</td>\n",
              "      <td>0.3</td>\n",
              "      <td>0.3</td>\n",
              "      <td>0.36K</td>\n",
              "      <td>0.00%</td>\n",
              "    </tr>\n",
              "    <tr>\n",
              "      <th>2</th>\n",
              "      <td>Jan 06, 2011</td>\n",
              "      <td>0.3</td>\n",
              "      <td>0.3</td>\n",
              "      <td>0.3</td>\n",
              "      <td>0.3</td>\n",
              "      <td>3.46K</td>\n",
              "      <td>0.00%</td>\n",
              "    </tr>\n",
              "    <tr>\n",
              "      <th>3</th>\n",
              "      <td>Jan 07, 2011</td>\n",
              "      <td>0.3</td>\n",
              "      <td>0.3</td>\n",
              "      <td>0.3</td>\n",
              "      <td>0.3</td>\n",
              "      <td>42.60K</td>\n",
              "      <td>0.00%</td>\n",
              "    </tr>\n",
              "    <tr>\n",
              "      <th>4</th>\n",
              "      <td>Jan 08, 2011</td>\n",
              "      <td>0.3</td>\n",
              "      <td>0.3</td>\n",
              "      <td>0.3</td>\n",
              "      <td>0.3</td>\n",
              "      <td>1.63K</td>\n",
              "      <td>0.00%</td>\n",
              "    </tr>\n",
              "  </tbody>\n",
              "</table>\n",
              "</div>\n",
              "      <button class=\"colab-df-convert\" onclick=\"convertToInteractive('df-627ee00c-97d2-4145-955d-912d8d0aa419')\"\n",
              "              title=\"Convert this dataframe to an interactive table.\"\n",
              "              style=\"display:none;\">\n",
              "        \n",
              "  <svg xmlns=\"http://www.w3.org/2000/svg\" height=\"24px\"viewBox=\"0 0 24 24\"\n",
              "       width=\"24px\">\n",
              "    <path d=\"M0 0h24v24H0V0z\" fill=\"none\"/>\n",
              "    <path d=\"M18.56 5.44l.94 2.06.94-2.06 2.06-.94-2.06-.94-.94-2.06-.94 2.06-2.06.94zm-11 1L8.5 8.5l.94-2.06 2.06-.94-2.06-.94L8.5 2.5l-.94 2.06-2.06.94zm10 10l.94 2.06.94-2.06 2.06-.94-2.06-.94-.94-2.06-.94 2.06-2.06.94z\"/><path d=\"M17.41 7.96l-1.37-1.37c-.4-.4-.92-.59-1.43-.59-.52 0-1.04.2-1.43.59L10.3 9.45l-7.72 7.72c-.78.78-.78 2.05 0 2.83L4 21.41c.39.39.9.59 1.41.59.51 0 1.02-.2 1.41-.59l7.78-7.78 2.81-2.81c.8-.78.8-2.07 0-2.86zM5.41 20L4 18.59l7.72-7.72 1.47 1.35L5.41 20z\"/>\n",
              "  </svg>\n",
              "      </button>\n",
              "      \n",
              "  <style>\n",
              "    .colab-df-container {\n",
              "      display:flex;\n",
              "      flex-wrap:wrap;\n",
              "      gap: 12px;\n",
              "    }\n",
              "\n",
              "    .colab-df-convert {\n",
              "      background-color: #E8F0FE;\n",
              "      border: none;\n",
              "      border-radius: 50%;\n",
              "      cursor: pointer;\n",
              "      display: none;\n",
              "      fill: #1967D2;\n",
              "      height: 32px;\n",
              "      padding: 0 0 0 0;\n",
              "      width: 32px;\n",
              "    }\n",
              "\n",
              "    .colab-df-convert:hover {\n",
              "      background-color: #E2EBFA;\n",
              "      box-shadow: 0px 1px 2px rgba(60, 64, 67, 0.3), 0px 1px 3px 1px rgba(60, 64, 67, 0.15);\n",
              "      fill: #174EA6;\n",
              "    }\n",
              "\n",
              "    [theme=dark] .colab-df-convert {\n",
              "      background-color: #3B4455;\n",
              "      fill: #D2E3FC;\n",
              "    }\n",
              "\n",
              "    [theme=dark] .colab-df-convert:hover {\n",
              "      background-color: #434B5C;\n",
              "      box-shadow: 0px 1px 3px 1px rgba(0, 0, 0, 0.15);\n",
              "      filter: drop-shadow(0px 1px 2px rgba(0, 0, 0, 0.3));\n",
              "      fill: #FFFFFF;\n",
              "    }\n",
              "  </style>\n",
              "\n",
              "      <script>\n",
              "        const buttonEl =\n",
              "          document.querySelector('#df-627ee00c-97d2-4145-955d-912d8d0aa419 button.colab-df-convert');\n",
              "        buttonEl.style.display =\n",
              "          google.colab.kernel.accessAllowed ? 'block' : 'none';\n",
              "\n",
              "        async function convertToInteractive(key) {\n",
              "          const element = document.querySelector('#df-627ee00c-97d2-4145-955d-912d8d0aa419');\n",
              "          const dataTable =\n",
              "            await google.colab.kernel.invokeFunction('convertToInteractive',\n",
              "                                                     [key], {});\n",
              "          if (!dataTable) return;\n",
              "\n",
              "          const docLinkHtml = 'Like what you see? Visit the ' +\n",
              "            '<a target=\"_blank\" href=https://colab.research.google.com/notebooks/data_table.ipynb>data table notebook</a>'\n",
              "            + ' to learn more about interactive tables.';\n",
              "          element.innerHTML = '';\n",
              "          dataTable['output_type'] = 'display_data';\n",
              "          await google.colab.output.renderOutput(dataTable, element);\n",
              "          const docLink = document.createElement('div');\n",
              "          docLink.innerHTML = docLinkHtml;\n",
              "          element.appendChild(docLink);\n",
              "        }\n",
              "      </script>\n",
              "    </div>\n",
              "  </div>\n",
              "  "
            ]
          },
          "metadata": {},
          "execution_count": 34
        }
      ]
    },
    {
      "cell_type": "code",
      "source": [
        "df.drop(['Date'], 1, inplace=True)\n",
        "# df['Date'] = pd.to_datetime(df['Date'])"
      ],
      "metadata": {
        "colab": {
          "base_uri": "https://localhost:8080/"
        },
        "id": "BleM-CwB4SC1",
        "outputId": "c5f6ca49-af2f-459a-bcec-3aead4ec0550"
      },
      "execution_count": null,
      "outputs": [
        {
          "output_type": "stream",
          "name": "stderr",
          "text": [
            "/usr/local/lib/python3.7/dist-packages/ipykernel_launcher.py:1: FutureWarning: In a future version of pandas all arguments of DataFrame.drop except for the argument 'labels' will be keyword-only\n",
            "  \"\"\"Entry point for launching an IPython kernel.\n"
          ]
        }
      ]
    },
    {
      "cell_type": "code",
      "source": [
        "df['Change %'] = df['Change %'].str.slice(0, -1)\n",
        "df['Vol.'] = df['Vol.'].str.slice(0, -1)\n",
        "\n",
        "for x in ['Price','Open','High','Low']:\n",
        "  if(df.dtypes[x]==np.object):\n",
        "    df[x] = df[x].str.replace(',','')\n",
        "    df[x] = df[x].astype(np.float64)\n",
        "\n",
        "df['Vol.'] = pd.to_numeric(df['Vol.'], downcast=\"float\")\n",
        "df['Change %'] = pd.to_numeric(df['Change %'], downcast=\"float\")"
      ],
      "metadata": {
        "colab": {
          "base_uri": "https://localhost:8080/"
        },
        "id": "jQLCzql6CroL",
        "outputId": "be66157b-e34c-485d-d9dc-68b880ef7b83"
      },
      "execution_count": null,
      "outputs": [
        {
          "output_type": "stream",
          "name": "stderr",
          "text": [
            "/usr/local/lib/python3.7/dist-packages/ipykernel_launcher.py:5: DeprecationWarning: `np.object` is a deprecated alias for the builtin `object`. To silence this warning, use `object` by itself. Doing this will not modify any behavior and is safe. \n",
            "Deprecated in NumPy 1.20; for more details and guidance: https://numpy.org/devdocs/release/1.20.0-notes.html#deprecations\n",
            "  \"\"\"\n"
          ]
        }
      ]
    },
    {
      "cell_type": "code",
      "source": [
        "df.head() , df.shape"
      ],
      "metadata": {
        "colab": {
          "base_uri": "https://localhost:8080/"
        },
        "id": "2gasNL68EdfZ",
        "outputId": "0f173504-0228-4ef1-d680-325a24383fae"
      },
      "execution_count": null,
      "outputs": [
        {
          "output_type": "execute_result",
          "data": {
            "text/plain": [
              "(   Price  Open  High  Low       Vol.  Change %\n",
              " 0    0.3   0.3   0.3  0.3   1.880000       0.0\n",
              " 1    0.3   0.3   0.3  0.3   0.360000       0.0\n",
              " 2    0.3   0.3   0.3  0.3   3.460000       0.0\n",
              " 3    0.3   0.3   0.3  0.3  42.599998       0.0\n",
              " 4    0.3   0.3   0.3  0.3   1.630000       0.0, (3989, 6))"
            ]
          },
          "metadata": {},
          "execution_count": 37
        }
      ]
    },
    {
      "cell_type": "code",
      "source": [
        "# df = df.to_numpy()\n",
        "# df"
      ],
      "metadata": {
        "id": "5_pMsOgXp8TC"
      },
      "execution_count": null,
      "outputs": []
    },
    {
      "cell_type": "code",
      "source": [
        "prediction_days = round(df.shape[0] * 0.7)\n",
        "\n",
        "df_train= df[:len(df)-prediction_days]\n",
        "df_test= df[len(df)-prediction_days:]\n",
        "\n",
        "# X_train.shape , y_train.shape , X_test.shape , y_test.shape\n",
        "df_train.shape , df_test.shape "
      ],
      "metadata": {
        "colab": {
          "base_uri": "https://localhost:8080/"
        },
        "id": "C5OEEcOUCZ3B",
        "outputId": "a7e04142-81eb-493b-853a-2e8cb069b834"
      },
      "execution_count": null,
      "outputs": [
        {
          "output_type": "execute_result",
          "data": {
            "text/plain": [
              "((1197, 6), (2792, 6))"
            ]
          },
          "metadata": {},
          "execution_count": 39
        }
      ]
    },
    {
      "cell_type": "markdown",
      "source": [
        "ask from alireza --\n",
        "sotone aval ro ham baraye amozesh estefade konam ?"
      ],
      "metadata": {
        "id": "T9ftN_x4MNeL"
      }
    },
    {
      "cell_type": "code",
      "source": [
        "training_set = df_train.values\n",
        "training_set = min_maxscaler.fit_transform(training_set)\n",
        "\n",
        "x_train = training_set[0:len(training_set)]\n",
        "y_train = training_set[:,0:1]\n",
        "\n",
        "# x_train.shape , y_train.shape , x_test.shape , y_test.shape"
      ],
      "metadata": {
        "id": "eKwpubJdCgl6"
      },
      "execution_count": null,
      "outputs": []
    },
    {
      "cell_type": "code",
      "source": [
        "test_set = df_test.values\n",
        "test_set = min_maxscaler.fit_transform(test_set)\n",
        "\n",
        "x_test = test_set[0:len(test_set)]\n",
        "y_test = test_set[:,0:1]"
      ],
      "metadata": {
        "id": "Ik1R1d-pF_wk"
      },
      "execution_count": null,
      "outputs": []
    },
    {
      "cell_type": "code",
      "source": [
        "x_train= x_train.reshape(x_train.shape[0],x_train.shape[1],1)\n",
        "x_test= x_test.reshape(x_test.shape[0],x_test.shape[1],1)\n",
        "\n",
        "x_train.shape , y_train.shape , x_test.shape , y_test.shape"
      ],
      "metadata": {
        "colab": {
          "base_uri": "https://localhost:8080/"
        },
        "id": "KMDV5gW9F8zV",
        "outputId": "9aad3746-1d99-449e-8605-acf67ced2b7a"
      },
      "execution_count": null,
      "outputs": [
        {
          "output_type": "execute_result",
          "data": {
            "text/plain": [
              "((1197, 6, 1), (1197, 1), (2792, 6, 1), (2792, 1))"
            ]
          },
          "metadata": {},
          "execution_count": 42
        }
      ]
    },
    {
      "cell_type": "code",
      "source": [
        "num_units = 4\n",
        "activation_function = 'sigmoid'\n",
        "optimizer = 'adam'\n",
        "loss_function = 'mean_squared_error'\n",
        "batch_size = 5\n",
        "num_epochs = 50\n",
        "\n",
        "# Initialize the RNN\n",
        "model = Sequential()\n",
        "\n",
        "model.add(BatchNormalization())\n",
        "\n",
        "# Adding the input layer and the LSTM layer\n",
        "model.add(LSTM(units = num_units, activation = activation_function, input_shape=(None, 1)))\n",
        "\n",
        "# Adding the output layer\n",
        "model.add(Dense(units = 1))\n",
        "\n",
        "# Compiling the RNN\n",
        "model.compile(optimizer = optimizer, loss = loss_function)\n",
        "\n",
        "# Using the training set to train the model\n",
        "# model.fit(x_train, y_train, batch_size = batch_size, epochs = num_epochs)\n",
        "model.fit(x_train, y_train, validation_data=(x_train,y_train) , batch_size = batch_size, epochs = num_epochs , verbose=1)"
      ],
      "metadata": {
        "colab": {
          "base_uri": "https://localhost:8080/"
        },
        "id": "Iuvs43uRGkvb",
        "outputId": "60790d27-2a2f-46b9-a4fd-767989c4593b"
      },
      "execution_count": null,
      "outputs": [
        {
          "output_type": "stream",
          "name": "stdout",
          "text": [
            "Epoch 1/50\n",
            "240/240 [==============================] - 3s 8ms/step - loss: nan - val_loss: nan\n",
            "Epoch 2/50\n",
            "240/240 [==============================] - 1s 6ms/step - loss: nan - val_loss: nan\n",
            "Epoch 3/50\n",
            "240/240 [==============================] - 1s 6ms/step - loss: nan - val_loss: nan\n",
            "Epoch 4/50\n",
            "240/240 [==============================] - 1s 6ms/step - loss: nan - val_loss: nan\n",
            "Epoch 5/50\n",
            "240/240 [==============================] - 1s 6ms/step - loss: nan - val_loss: nan\n",
            "Epoch 6/50\n",
            "240/240 [==============================] - 1s 6ms/step - loss: nan - val_loss: nan\n",
            "Epoch 7/50\n",
            "240/240 [==============================] - 2s 7ms/step - loss: nan - val_loss: nan\n",
            "Epoch 8/50\n",
            "240/240 [==============================] - 2s 7ms/step - loss: nan - val_loss: nan\n",
            "Epoch 9/50\n",
            "240/240 [==============================] - 2s 7ms/step - loss: nan - val_loss: nan\n",
            "Epoch 10/50\n",
            "240/240 [==============================] - 2s 7ms/step - loss: nan - val_loss: nan\n",
            "Epoch 11/50\n",
            "240/240 [==============================] - 1s 6ms/step - loss: nan - val_loss: nan\n",
            "Epoch 12/50\n",
            "240/240 [==============================] - 1s 6ms/step - loss: nan - val_loss: nan\n",
            "Epoch 13/50\n",
            "240/240 [==============================] - 1s 6ms/step - loss: nan - val_loss: nan\n",
            "Epoch 14/50\n",
            "240/240 [==============================] - 1s 6ms/step - loss: nan - val_loss: nan\n",
            "Epoch 15/50\n",
            "240/240 [==============================] - 1s 6ms/step - loss: nan - val_loss: nan\n",
            "Epoch 16/50\n",
            "240/240 [==============================] - 2s 7ms/step - loss: nan - val_loss: nan\n",
            "Epoch 17/50\n",
            "240/240 [==============================] - 1s 6ms/step - loss: nan - val_loss: nan\n",
            "Epoch 18/50\n",
            "240/240 [==============================] - 2s 7ms/step - loss: nan - val_loss: nan\n",
            "Epoch 19/50\n",
            "240/240 [==============================] - 1s 6ms/step - loss: nan - val_loss: nan\n",
            "Epoch 20/50\n",
            "240/240 [==============================] - 2s 7ms/step - loss: nan - val_loss: nan\n",
            "Epoch 21/50\n",
            "240/240 [==============================] - 1s 5ms/step - loss: nan - val_loss: nan\n",
            "Epoch 22/50\n",
            "240/240 [==============================] - 1s 5ms/step - loss: nan - val_loss: nan\n",
            "Epoch 23/50\n",
            "240/240 [==============================] - 2s 7ms/step - loss: nan - val_loss: nan\n",
            "Epoch 24/50\n",
            "240/240 [==============================] - 2s 7ms/step - loss: nan - val_loss: nan\n",
            "Epoch 25/50\n",
            "240/240 [==============================] - 2s 7ms/step - loss: nan - val_loss: nan\n",
            "Epoch 26/50\n",
            "240/240 [==============================] - 2s 7ms/step - loss: nan - val_loss: nan\n",
            "Epoch 27/50\n",
            "240/240 [==============================] - 2s 7ms/step - loss: nan - val_loss: nan\n",
            "Epoch 28/50\n",
            "240/240 [==============================] - 2s 7ms/step - loss: nan - val_loss: nan\n",
            "Epoch 29/50\n",
            "240/240 [==============================] - 2s 7ms/step - loss: nan - val_loss: nan\n",
            "Epoch 30/50\n",
            "240/240 [==============================] - 2s 7ms/step - loss: nan - val_loss: nan\n",
            "Epoch 31/50\n",
            "240/240 [==============================] - 1s 6ms/step - loss: nan - val_loss: nan\n",
            "Epoch 32/50\n",
            "240/240 [==============================] - 1s 6ms/step - loss: nan - val_loss: nan\n",
            "Epoch 33/50\n",
            "240/240 [==============================] - 1s 6ms/step - loss: nan - val_loss: nan\n",
            "Epoch 34/50\n",
            "240/240 [==============================] - 2s 7ms/step - loss: nan - val_loss: nan\n",
            "Epoch 35/50\n",
            "240/240 [==============================] - 2s 7ms/step - loss: nan - val_loss: nan\n",
            "Epoch 36/50\n",
            "240/240 [==============================] - 2s 7ms/step - loss: nan - val_loss: nan\n",
            "Epoch 37/50\n",
            "240/240 [==============================] - 1s 6ms/step - loss: nan - val_loss: nan\n",
            "Epoch 38/50\n",
            "240/240 [==============================] - 2s 9ms/step - loss: nan - val_loss: nan\n",
            "Epoch 39/50\n",
            "240/240 [==============================] - 1s 5ms/step - loss: nan - val_loss: nan\n",
            "Epoch 40/50\n",
            "240/240 [==============================] - 2s 7ms/step - loss: nan - val_loss: nan\n",
            "Epoch 41/50\n",
            "240/240 [==============================] - 2s 7ms/step - loss: nan - val_loss: nan\n",
            "Epoch 42/50\n",
            "240/240 [==============================] - 2s 7ms/step - loss: nan - val_loss: nan\n",
            "Epoch 43/50\n",
            "240/240 [==============================] - 2s 10ms/step - loss: nan - val_loss: nan\n",
            "Epoch 44/50\n",
            "240/240 [==============================] - 2s 7ms/step - loss: nan - val_loss: nan\n",
            "Epoch 45/50\n",
            "240/240 [==============================] - 1s 6ms/step - loss: nan - val_loss: nan\n",
            "Epoch 46/50\n",
            "240/240 [==============================] - 2s 7ms/step - loss: nan - val_loss: nan\n",
            "Epoch 47/50\n",
            "240/240 [==============================] - 1s 6ms/step - loss: nan - val_loss: nan\n",
            "Epoch 48/50\n",
            "240/240 [==============================] - 2s 7ms/step - loss: nan - val_loss: nan\n",
            "Epoch 49/50\n",
            "240/240 [==============================] - 2s 7ms/step - loss: nan - val_loss: nan\n",
            "Epoch 50/50\n",
            "240/240 [==============================] - 1s 6ms/step - loss: nan - val_loss: nan\n"
          ]
        },
        {
          "output_type": "execute_result",
          "data": {
            "text/plain": [
              "<keras.callbacks.History at 0x7fdbcc3e6510>"
            ]
          },
          "metadata": {},
          "execution_count": 43
        }
      ]
    },
    {
      "cell_type": "code",
      "source": [
        "model.summary()"
      ],
      "metadata": {
        "id": "mI7T7XSbdbNF",
        "colab": {
          "base_uri": "https://localhost:8080/"
        },
        "outputId": "710d56b2-f336-4d70-9849-4c51850eeeb1"
      },
      "execution_count": null,
      "outputs": [
        {
          "output_type": "stream",
          "name": "stdout",
          "text": [
            "Model: \"sequential_1\"\n",
            "_________________________________________________________________\n",
            " Layer (type)                Output Shape              Param #   \n",
            "=================================================================\n",
            " batch_normalization_1 (Batc  (None, 6, 1)             4         \n",
            " hNormalization)                                                 \n",
            "                                                                 \n",
            " lstm_1 (LSTM)               (None, 4)                 96        \n",
            "                                                                 \n",
            " dense_1 (Dense)             (None, 1)                 5         \n",
            "                                                                 \n",
            "=================================================================\n",
            "Total params: 105\n",
            "Trainable params: 103\n",
            "Non-trainable params: 2\n",
            "_________________________________________________________________\n"
          ]
        }
      ]
    },
    {
      "cell_type": "code",
      "source": [
        "test_set = df_test\n",
        "len(test_set)\n",
        "\n",
        "# inputs = np.reshape(test_set, (len(test_set), 1))\n",
        "# inputs = min_max_scaler.transform(inputs)\n",
        "\n",
        "# inputs= test_set.reshape(test_set.shape[0],test_set.shape[1],1)\n",
        "\n",
        "\n",
        "# inputs = test_set.reshape((len(test_set), 1, 1))\n",
        "\n",
        "predicted_price = model.predict(x_test)\n",
        "\n",
        "# I have to ask from Alireza\n",
        "# predicted_price = min_maxscaler.inverse_transform(predicted_price)"
      ],
      "metadata": {
        "id": "yBHz3rpWToDV"
      },
      "execution_count": null,
      "outputs": []
    },
    {
      "cell_type": "code",
      "source": [
        "plt.figure(figsize=(15, 7), dpi=80, facecolor = 'w', edgecolor = 'k')\n",
        "\n",
        "plt.plot(x_test[:, 0], color='red', label='Real BTC Price')\n",
        "plt.plot(predicted_price[:, 0], color = 'blue', label = 'Predicted BTC Price')\n",
        "\n",
        "plt.title('BTC Price Prediction', fontsize = 10)\n",
        "plt.xlabel('Time', fontsize=10)\n",
        "plt.ylabel('BTC Price(USD)', fontsize = 10)\n",
        "plt.legend(loc = 'best')\n",
        "plt.show()"
      ],
      "metadata": {
        "id": "WwbpFwSzkyJn",
        "colab": {
          "base_uri": "https://localhost:8080/",
          "height": 502
        },
        "outputId": "c71ac96a-24a9-4af4-f59a-0495e514234c"
      },
      "execution_count": null,
      "outputs": [
        {
          "output_type": "display_data",
          "data": {
            "text/plain": [
              "<Figure size 1200x560 with 1 Axes>"
            ],
            "image/png": "[encoded data removed]"
          },
          "metadata": {}
        }
      ]
    }
  ]
}