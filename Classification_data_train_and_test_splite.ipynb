{
  "cells": [
    {
      "cell_type": "markdown",
      "metadata": {
        "id": "view-in-github",
        "colab_type": "text"
      },
      "source": [
        "<a href=\"https://colab.research.google.com/github/mahhhdy/thesis/blob/main/Classification_data_train_and_test_splite.ipynb\" target=\"_parent\"><img src=\"https://colab.research.google.com/assets/colab-badge.svg\" alt=\"Open In Colab\"/></a>"
      ]
    },
    {
      "cell_type": "markdown",
      "metadata": {
        "id": "KYJS8G728Wtl"
      },
      "source": [
        "\n",
        "this post has been used </br>\n",
        "https://github.com/NourozR/Stock-Price-Prediction-LSTM/blob/1829ad5c8b3ece7b0e9c16fd76cf2550142683b2/StockPricePrediction.py#L11"
      ]
    },
    {
      "cell_type": "code",
      "execution_count": 33,
      "metadata": {
        "id": "-UvOhWK64Fnj",
        "colab": {
          "base_uri": "https://localhost:8080/"
        },
        "outputId": "8b16171c-2a67-4c41-8123-e14b2116983f"
      },
      "outputs": [
        {
          "output_type": "stream",
          "name": "stdout",
          "text": [
            "Drive already mounted at /content/drive; to attempt to forcibly remount, call drive.mount(\"/content/drive\", force_remount=True).\n"
          ]
        }
      ],
      "source": [
        "import numpy as np\n",
        "import matplotlib.pyplot as plt\n",
        "import pandas as pd\n",
        "import math\n",
        "from keras.models import Sequential\n",
        "from keras.layers import Dense , Activation, Dropout\n",
        "from keras.layers import LSTM , SimpleRNN\n",
        "from keras.layers import BatchNormalization\n",
        "from sklearn.metrics import mean_squared_error\n",
        "from google.colab import drive\n",
        "from google.colab import files\n",
        "# from keras.layers.normalization import batch_normalization\n",
        "\n",
        "from scipy.spatial.distance import euclidean\n",
        "from fastdtw import fastdtw\n",
        "\n",
        "np.random.seed(7)\n",
        "\n",
        "########## import dataset ##########\n",
        "drive.mount('/content/drive')\n",
        "path='/content/drive/MyDrive/DataSets/BTCPrediction/15XAUUSD.csv'\n",
        "# dataset = pd.read_csv(path,usecols=[1,2,3,4])\n",
        "dataset = pd.read_csv(path)\n"
      ]
    },
    {
      "cell_type": "code",
      "source": [
        "dataset = dataset.rename({'Time':'Date','|PD|':'PD'},axis=1)"
      ],
      "metadata": {
        "id": "0xHYtowVi0Ed"
      },
      "execution_count": 34,
      "outputs": []
    },
    {
      "cell_type": "code",
      "execution_count": 35,
      "metadata": {
        "id": "ZBG9pDSeXp08"
      },
      "outputs": [],
      "source": [
        "dataset = dataset.reindex(index = dataset.index[::-1])"
      ]
    },
    {
      "cell_type": "code",
      "source": [
        "dataset = dataset.head(20)"
      ],
      "metadata": {
        "id": "ugKPUa_aZaFG"
      },
      "execution_count": 36,
      "outputs": []
    },
    {
      "cell_type": "code",
      "execution_count": 37,
      "metadata": {
        "id": "f9k2UmjcXrcE",
        "colab": {
          "base_uri": "https://localhost:8080/"
        },
        "outputId": "97a98a76-5961-4882-fc2b-093fb0493d66"
      },
      "outputs": [
        {
          "output_type": "execute_result",
          "data": {
            "text/plain": [
              "array([ 1,  2,  3,  4,  5,  6,  7,  8,  9, 10, 11, 12, 13, 14, 15, 16, 17,\n",
              "       18, 19, 20])"
            ]
          },
          "metadata": {},
          "execution_count": 37
        }
      ],
      "source": [
        "obs = np.arange(1, len(dataset) + 1, 1)\n",
        "obs"
      ]
    },
    {
      "cell_type": "code",
      "source": [
        "dataset['Average'] = dataset[['Open','Close','Low','High']].mean(axis=1)\n",
        "# dataset"
      ],
      "metadata": {
        "id": "Gq-Z8d3aFeeV"
      },
      "execution_count": 38,
      "outputs": []
    },
    {
      "cell_type": "code",
      "source": [
        "dataset['State'] =( dataset['Close'] > dataset['Open']).astype(int)\n",
        "dataset"
      ],
      "metadata": {
        "colab": {
          "base_uri": "https://localhost:8080/",
          "height": 676
        },
        "id": "1idd0XvWA1Bl",
        "outputId": "efab1d06-21c0-48e7-8062-7651d6976de4"
      },
      "execution_count": 39,
      "outputs": [
        {
          "output_type": "execute_result",
          "data": {
            "text/plain": [
              "                 Date     Open     High      Low    Close    PD       PD%  \\\n",
              "1999   4/13/2022 7:00  1969.85  1969.89  1968.79  1969.83  0.02  0.001015   \n",
              "1998   4/13/2022 7:15  1969.83  1970.20  1968.71  1969.82  0.01  0.000508   \n",
              "1997   4/13/2022 7:30  1969.82  1970.53  1969.43  1969.59  0.23  0.011676   \n",
              "1996   4/13/2022 7:45  1969.62  1969.63  1967.69  1968.26  1.36  0.069049   \n",
              "1995   4/13/2022 8:00  1968.26  1969.20  1967.60  1969.19  0.93 -0.047250   \n",
              "1994   4/13/2022 8:15  1969.17  1969.73  1968.40  1969.40  0.23 -0.011680   \n",
              "1993   4/13/2022 8:30  1969.39  1973.41  1969.30  1973.23  3.84 -0.194984   \n",
              "1992   4/13/2022 8:45  1973.23  1973.50  1971.53  1972.07  1.16  0.058787   \n",
              "1991   4/13/2022 9:00  1972.01  1972.01  1969.42  1969.76  2.25  0.114097   \n",
              "1990   4/13/2022 9:15  1969.78  1971.10  1967.20  1967.63  2.15  0.109149   \n",
              "1989   4/13/2022 9:30  1967.66  1969.19  1966.42  1968.92  1.26 -0.064035   \n",
              "1988   4/13/2022 9:45  1968.90  1969.93  1968.23  1968.69  0.21  0.010666   \n",
              "1987  4/13/2022 10:00  1968.68  1968.92  1966.01  1966.64  2.04  0.103623   \n",
              "1986  4/13/2022 10:15  1966.64  1967.37  1965.63  1966.79  0.15 -0.007627   \n",
              "1985  4/13/2022 10:30  1966.80  1970.05  1965.88  1969.67  2.87 -0.145922   \n",
              "1984  4/13/2022 10:45  1969.65  1972.76  1969.54  1971.14  1.49 -0.075648   \n",
              "1983  4/13/2022 11:00  1971.12  1972.80  1969.92  1972.45  1.33 -0.067474   \n",
              "1982  4/13/2022 11:15  1972.44  1975.29  1972.34  1974.68  2.24 -0.113565   \n",
              "1981  4/13/2022 11:30  1974.67  1975.68  1973.60  1974.39  0.28  0.014180   \n",
              "1980  4/13/2022 11:45  1974.33  1974.65  1973.04  1973.80  0.53  0.026845   \n",
              "\n",
              "           ATR  PD% / ATR    Average  State  \n",
              "1999  1.678750   0.000605  1969.5900      0  \n",
              "1998  1.681250   0.000302  1969.6400      0  \n",
              "1997  1.685417   0.006928  1969.8425      0  \n",
              "1996  1.730833   0.039893  1968.8000      0  \n",
              "1995  1.723333  -0.027418  1968.5625      1  \n",
              "1994  1.760833  -0.006633  1969.1750      1  \n",
              "1993  1.885000  -0.103440  1971.3325      1  \n",
              "1992  1.935000   0.030381  1972.5825      0  \n",
              "1991  1.908750   0.059776  1970.8000      0  \n",
              "1990  1.973750   0.055300  1968.9275      0  \n",
              "1989  2.030417  -0.031538  1968.0475      1  \n",
              "1988  2.044583   0.005217  1968.9375      0  \n",
              "1987  2.061667   0.050262  1967.5625      0  \n",
              "1986  2.047917  -0.003724  1966.6075      1  \n",
              "1985  2.077083  -0.070253  1968.1000      1  \n",
              "1984  2.108333  -0.035880  1970.7725      1  \n",
              "1983  2.156250  -0.031292  1971.5725      1  \n",
              "1982  2.207500  -0.051445  1973.6875      1  \n",
              "1981  2.245000   0.006316  1974.5850      0  \n",
              "1980  2.254167   0.011909  1973.9550      0  "
            ],
            "text/html": [
              "\n",
              "  <div id=\"df-bc5bf17c-24a6-4619-9778-c9967eff667e\">\n",
              "    <div class=\"colab-df-container\">\n",
              "      <div>\n",
              "<style scoped>\n",
              "    .dataframe tbody tr th:only-of-type {\n",
              "        vertical-align: middle;\n",
              "    }\n",
              "\n",
              "    .dataframe tbody tr th {\n",
              "        vertical-align: top;\n",
              "    }\n",
              "\n",
              "    .dataframe thead th {\n",
              "        text-align: right;\n",
              "    }\n",
              "</style>\n",
              "<table border=\"1\" class=\"dataframe\">\n",
              "  <thead>\n",
              "    <tr style=\"text-align: right;\">\n",
              "      <th></th>\n",
              "      <th>Date</th>\n",
              "      <th>Open</th>\n",
              "      <th>High</th>\n",
              "      <th>Low</th>\n",
              "      <th>Close</th>\n",
              "      <th>PD</th>\n",
              "      <th>PD%</th>\n",
              "      <th>ATR</th>\n",
              "      <th>PD% / ATR</th>\n",
              "      <th>Average</th>\n",
              "      <th>State</th>\n",
              "    </tr>\n",
              "  </thead>\n",
              "  <tbody>\n",
              "    <tr>\n",
              "      <th>1999</th>\n",
              "      <td>4/13/2022 7:00</td>\n",
              "      <td>1969.85</td>\n",
              "      <td>1969.89</td>\n",
              "      <td>1968.79</td>\n",
              "      <td>1969.83</td>\n",
              "      <td>0.02</td>\n",
              "      <td>0.001015</td>\n",
              "      <td>1.678750</td>\n",
              "      <td>0.000605</td>\n",
              "      <td>1969.5900</td>\n",
              "      <td>0</td>\n",
              "    </tr>\n",
              "    <tr>\n",
              "      <th>1998</th>\n",
              "      <td>4/13/2022 7:15</td>\n",
              "      <td>1969.83</td>\n",
              "      <td>1970.20</td>\n",
              "      <td>1968.71</td>\n",
              "      <td>1969.82</td>\n",
              "      <td>0.01</td>\n",
              "      <td>0.000508</td>\n",
              "      <td>1.681250</td>\n",
              "      <td>0.000302</td>\n",
              "      <td>1969.6400</td>\n",
              "      <td>0</td>\n",
              "    </tr>\n",
              "    <tr>\n",
              "      <th>1997</th>\n",
              "      <td>4/13/2022 7:30</td>\n",
              "      <td>1969.82</td>\n",
              "      <td>1970.53</td>\n",
              "      <td>1969.43</td>\n",
              "      <td>1969.59</td>\n",
              "      <td>0.23</td>\n",
              "      <td>0.011676</td>\n",
              "      <td>1.685417</td>\n",
              "      <td>0.006928</td>\n",
              "      <td>1969.8425</td>\n",
              "      <td>0</td>\n",
              "    </tr>\n",
              "    <tr>\n",
              "      <th>1996</th>\n",
              "      <td>4/13/2022 7:45</td>\n",
              "      <td>1969.62</td>\n",
              "      <td>1969.63</td>\n",
              "      <td>1967.69</td>\n",
              "      <td>1968.26</td>\n",
              "      <td>1.36</td>\n",
              "      <td>0.069049</td>\n",
              "      <td>1.730833</td>\n",
              "      <td>0.039893</td>\n",
              "      <td>1968.8000</td>\n",
              "      <td>0</td>\n",
              "    </tr>\n",
              "    <tr>\n",
              "      <th>1995</th>\n",
              "      <td>4/13/2022 8:00</td>\n",
              "      <td>1968.26</td>\n",
              "      <td>1969.20</td>\n",
              "      <td>1967.60</td>\n",
              "      <td>1969.19</td>\n",
              "      <td>0.93</td>\n",
              "      <td>-0.047250</td>\n",
              "      <td>1.723333</td>\n",
              "      <td>-0.027418</td>\n",
              "      <td>1968.5625</td>\n",
              "      <td>1</td>\n",
              "    </tr>\n",
              "    <tr>\n",
              "      <th>1994</th>\n",
              "      <td>4/13/2022 8:15</td>\n",
              "      <td>1969.17</td>\n",
              "      <td>1969.73</td>\n",
              "      <td>1968.40</td>\n",
              "      <td>1969.40</td>\n",
              "      <td>0.23</td>\n",
              "      <td>-0.011680</td>\n",
              "      <td>1.760833</td>\n",
              "      <td>-0.006633</td>\n",
              "      <td>1969.1750</td>\n",
              "      <td>1</td>\n",
              "    </tr>\n",
              "    <tr>\n",
              "      <th>1993</th>\n",
              "      <td>4/13/2022 8:30</td>\n",
              "      <td>1969.39</td>\n",
              "      <td>1973.41</td>\n",
              "      <td>1969.30</td>\n",
              "      <td>1973.23</td>\n",
              "      <td>3.84</td>\n",
              "      <td>-0.194984</td>\n",
              "      <td>1.885000</td>\n",
              "      <td>-0.103440</td>\n",
              "      <td>1971.3325</td>\n",
              "      <td>1</td>\n",
              "    </tr>\n",
              "    <tr>\n",
              "      <th>1992</th>\n",
              "      <td>4/13/2022 8:45</td>\n",
              "      <td>1973.23</td>\n",
              "      <td>1973.50</td>\n",
              "      <td>1971.53</td>\n",
              "      <td>1972.07</td>\n",
              "      <td>1.16</td>\n",
              "      <td>0.058787</td>\n",
              "      <td>1.935000</td>\n",
              "      <td>0.030381</td>\n",
              "      <td>1972.5825</td>\n",
              "      <td>0</td>\n",
              "    </tr>\n",
              "    <tr>\n",
              "      <th>1991</th>\n",
              "      <td>4/13/2022 9:00</td>\n",
              "      <td>1972.01</td>\n",
              "      <td>1972.01</td>\n",
              "      <td>1969.42</td>\n",
              "      <td>1969.76</td>\n",
              "      <td>2.25</td>\n",
              "      <td>0.114097</td>\n",
              "      <td>1.908750</td>\n",
              "      <td>0.059776</td>\n",
              "      <td>1970.8000</td>\n",
              "      <td>0</td>\n",
              "    </tr>\n",
              "    <tr>\n",
              "      <th>1990</th>\n",
              "      <td>4/13/2022 9:15</td>\n",
              "      <td>1969.78</td>\n",
              "      <td>1971.10</td>\n",
              "      <td>1967.20</td>\n",
              "      <td>1967.63</td>\n",
              "      <td>2.15</td>\n",
              "      <td>0.109149</td>\n",
              "      <td>1.973750</td>\n",
              "      <td>0.055300</td>\n",
              "      <td>1968.9275</td>\n",
              "      <td>0</td>\n",
              "    </tr>\n",
              "    <tr>\n",
              "      <th>1989</th>\n",
              "      <td>4/13/2022 9:30</td>\n",
              "      <td>1967.66</td>\n",
              "      <td>1969.19</td>\n",
              "      <td>1966.42</td>\n",
              "      <td>1968.92</td>\n",
              "      <td>1.26</td>\n",
              "      <td>-0.064035</td>\n",
              "      <td>2.030417</td>\n",
              "      <td>-0.031538</td>\n",
              "      <td>1968.0475</td>\n",
              "      <td>1</td>\n",
              "    </tr>\n",
              "    <tr>\n",
              "      <th>1988</th>\n",
              "      <td>4/13/2022 9:45</td>\n",
              "      <td>1968.90</td>\n",
              "      <td>1969.93</td>\n",
              "      <td>1968.23</td>\n",
              "      <td>1968.69</td>\n",
              "      <td>0.21</td>\n",
              "      <td>0.010666</td>\n",
              "      <td>2.044583</td>\n",
              "      <td>0.005217</td>\n",
              "      <td>1968.9375</td>\n",
              "      <td>0</td>\n",
              "    </tr>\n",
              "    <tr>\n",
              "      <th>1987</th>\n",
              "      <td>4/13/2022 10:00</td>\n",
              "      <td>1968.68</td>\n",
              "      <td>1968.92</td>\n",
              "      <td>1966.01</td>\n",
              "      <td>1966.64</td>\n",
              "      <td>2.04</td>\n",
              "      <td>0.103623</td>\n",
              "      <td>2.061667</td>\n",
              "      <td>0.050262</td>\n",
              "      <td>1967.5625</td>\n",
              "      <td>0</td>\n",
              "    </tr>\n",
              "    <tr>\n",
              "      <th>1986</th>\n",
              "      <td>4/13/2022 10:15</td>\n",
              "      <td>1966.64</td>\n",
              "      <td>1967.37</td>\n",
              "      <td>1965.63</td>\n",
              "      <td>1966.79</td>\n",
              "      <td>0.15</td>\n",
              "      <td>-0.007627</td>\n",
              "      <td>2.047917</td>\n",
              "      <td>-0.003724</td>\n",
              "      <td>1966.6075</td>\n",
              "      <td>1</td>\n",
              "    </tr>\n",
              "    <tr>\n",
              "      <th>1985</th>\n",
              "      <td>4/13/2022 10:30</td>\n",
              "      <td>1966.80</td>\n",
              "      <td>1970.05</td>\n",
              "      <td>1965.88</td>\n",
              "      <td>1969.67</td>\n",
              "      <td>2.87</td>\n",
              "      <td>-0.145922</td>\n",
              "      <td>2.077083</td>\n",
              "      <td>-0.070253</td>\n",
              "      <td>1968.1000</td>\n",
              "      <td>1</td>\n",
              "    </tr>\n",
              "    <tr>\n",
              "      <th>1984</th>\n",
              "      <td>4/13/2022 10:45</td>\n",
              "      <td>1969.65</td>\n",
              "      <td>1972.76</td>\n",
              "      <td>1969.54</td>\n",
              "      <td>1971.14</td>\n",
              "      <td>1.49</td>\n",
              "      <td>-0.075648</td>\n",
              "      <td>2.108333</td>\n",
              "      <td>-0.035880</td>\n",
              "      <td>1970.7725</td>\n",
              "      <td>1</td>\n",
              "    </tr>\n",
              "    <tr>\n",
              "      <th>1983</th>\n",
              "      <td>4/13/2022 11:00</td>\n",
              "      <td>1971.12</td>\n",
              "      <td>1972.80</td>\n",
              "      <td>1969.92</td>\n",
              "      <td>1972.45</td>\n",
              "      <td>1.33</td>\n",
              "      <td>-0.067474</td>\n",
              "      <td>2.156250</td>\n",
              "      <td>-0.031292</td>\n",
              "      <td>1971.5725</td>\n",
              "      <td>1</td>\n",
              "    </tr>\n",
              "    <tr>\n",
              "      <th>1982</th>\n",
              "      <td>4/13/2022 11:15</td>\n",
              "      <td>1972.44</td>\n",
              "      <td>1975.29</td>\n",
              "      <td>1972.34</td>\n",
              "      <td>1974.68</td>\n",
              "      <td>2.24</td>\n",
              "      <td>-0.113565</td>\n",
              "      <td>2.207500</td>\n",
              "      <td>-0.051445</td>\n",
              "      <td>1973.6875</td>\n",
              "      <td>1</td>\n",
              "    </tr>\n",
              "    <tr>\n",
              "      <th>1981</th>\n",
              "      <td>4/13/2022 11:30</td>\n",
              "      <td>1974.67</td>\n",
              "      <td>1975.68</td>\n",
              "      <td>1973.60</td>\n",
              "      <td>1974.39</td>\n",
              "      <td>0.28</td>\n",
              "      <td>0.014180</td>\n",
              "      <td>2.245000</td>\n",
              "      <td>0.006316</td>\n",
              "      <td>1974.5850</td>\n",
              "      <td>0</td>\n",
              "    </tr>\n",
              "    <tr>\n",
              "      <th>1980</th>\n",
              "      <td>4/13/2022 11:45</td>\n",
              "      <td>1974.33</td>\n",
              "      <td>1974.65</td>\n",
              "      <td>1973.04</td>\n",
              "      <td>1973.80</td>\n",
              "      <td>0.53</td>\n",
              "      <td>0.026845</td>\n",
              "      <td>2.254167</td>\n",
              "      <td>0.011909</td>\n",
              "      <td>1973.9550</td>\n",
              "      <td>0</td>\n",
              "    </tr>\n",
              "  </tbody>\n",
              "</table>\n",
              "</div>\n",
              "      <button class=\"colab-df-convert\" onclick=\"convertToInteractive('df-bc5bf17c-24a6-4619-9778-c9967eff667e')\"\n",
              "              title=\"Convert this dataframe to an interactive table.\"\n",
              "              style=\"display:none;\">\n",
              "        \n",
              "  <svg xmlns=\"http://www.w3.org/2000/svg\" height=\"24px\"viewBox=\"0 0 24 24\"\n",
              "       width=\"24px\">\n",
              "    <path d=\"M0 0h24v24H0V0z\" fill=\"none\"/>\n",
              "    <path d=\"M18.56 5.44l.94 2.06.94-2.06 2.06-.94-2.06-.94-.94-2.06-.94 2.06-2.06.94zm-11 1L8.5 8.5l.94-2.06 2.06-.94-2.06-.94L8.5 2.5l-.94 2.06-2.06.94zm10 10l.94 2.06.94-2.06 2.06-.94-2.06-.94-.94-2.06-.94 2.06-2.06.94z\"/><path d=\"M17.41 7.96l-1.37-1.37c-.4-.4-.92-.59-1.43-.59-.52 0-1.04.2-1.43.59L10.3 9.45l-7.72 7.72c-.78.78-.78 2.05 0 2.83L4 21.41c.39.39.9.59 1.41.59.51 0 1.02-.2 1.41-.59l7.78-7.78 2.81-2.81c.8-.78.8-2.07 0-2.86zM5.41 20L4 18.59l7.72-7.72 1.47 1.35L5.41 20z\"/>\n",
              "  </svg>\n",
              "      </button>\n",
              "      \n",
              "  <style>\n",
              "    .colab-df-container {\n",
              "      display:flex;\n",
              "      flex-wrap:wrap;\n",
              "      gap: 12px;\n",
              "    }\n",
              "\n",
              "    .colab-df-convert {\n",
              "      background-color: #E8F0FE;\n",
              "      border: none;\n",
              "      border-radius: 50%;\n",
              "      cursor: pointer;\n",
              "      display: none;\n",
              "      fill: #1967D2;\n",
              "      height: 32px;\n",
              "      padding: 0 0 0 0;\n",
              "      width: 32px;\n",
              "    }\n",
              "\n",
              "    .colab-df-convert:hover {\n",
              "      background-color: #E2EBFA;\n",
              "      box-shadow: 0px 1px 2px rgba(60, 64, 67, 0.3), 0px 1px 3px 1px rgba(60, 64, 67, 0.15);\n",
              "      fill: #174EA6;\n",
              "    }\n",
              "\n",
              "    [theme=dark] .colab-df-convert {\n",
              "      background-color: #3B4455;\n",
              "      fill: #D2E3FC;\n",
              "    }\n",
              "\n",
              "    [theme=dark] .colab-df-convert:hover {\n",
              "      background-color: #434B5C;\n",
              "      box-shadow: 0px 1px 3px 1px rgba(0, 0, 0, 0.15);\n",
              "      filter: drop-shadow(0px 1px 2px rgba(0, 0, 0, 0.3));\n",
              "      fill: #FFFFFF;\n",
              "    }\n",
              "  </style>\n",
              "\n",
              "      <script>\n",
              "        const buttonEl =\n",
              "          document.querySelector('#df-bc5bf17c-24a6-4619-9778-c9967eff667e button.colab-df-convert');\n",
              "        buttonEl.style.display =\n",
              "          google.colab.kernel.accessAllowed ? 'block' : 'none';\n",
              "\n",
              "        async function convertToInteractive(key) {\n",
              "          const element = document.querySelector('#df-bc5bf17c-24a6-4619-9778-c9967eff667e');\n",
              "          const dataTable =\n",
              "            await google.colab.kernel.invokeFunction('convertToInteractive',\n",
              "                                                     [key], {});\n",
              "          if (!dataTable) return;\n",
              "\n",
              "          const docLinkHtml = 'Like what you see? Visit the ' +\n",
              "            '<a target=\"_blank\" href=https://colab.research.google.com/notebooks/data_table.ipynb>data table notebook</a>'\n",
              "            + ' to learn more about interactive tables.';\n",
              "          element.innerHTML = '';\n",
              "          dataTable['output_type'] = 'display_data';\n",
              "          await google.colab.output.renderOutput(dataTable, element);\n",
              "          const docLink = document.createElement('div');\n",
              "          docLink.innerHTML = docLinkHtml;\n",
              "          element.appendChild(docLink);\n",
              "        }\n",
              "      </script>\n",
              "    </div>\n",
              "  </div>\n",
              "  "
            ]
          },
          "metadata": {},
          "execution_count": 39
        }
      ]
    },
    {
      "cell_type": "code",
      "execution_count": 40,
      "metadata": {
        "id": "PVKZ1CGvXsPt"
      },
      "outputs": [],
      "source": [
        "# TAKING DIFFERENT INDICATORS FOR PREDICTION\n",
        "OHLC_avg = dataset[['Average']].to_numpy()\n",
        "# HLC_avg = dataset[['High', 'Low', 'Close']].mean(axis = 1)\n",
        "close_val = dataset[['State']].to_numpy()"
      ]
    },
    {
      "cell_type": "code",
      "source": [
        "def new_dataset(dataset, target , step_size):\n",
        "\tdata_X, data_Y = [], []\n",
        "\tfor i in range(len(dataset)-step_size):\n",
        "\t\ta = dataset[i:(i+step_size), 0]\n",
        "\t\tdata_X.append(a)\n",
        "\t\tdata_Y.append(target[i + step_size])\n",
        "\treturn np.array(data_X), np.array(data_Y)"
      ],
      "metadata": {
        "id": "ExLAMxXKu5J2"
      },
      "execution_count": 54,
      "outputs": []
    },
    {
      "cell_type": "code",
      "execution_count": 64,
      "metadata": {
        "id": "jTTqmdoMXwVt"
      },
      "outputs": [],
      "source": [
        "X, Y = new_dataset(OHLC_avg, close_val , 1)"
      ]
    },
    {
      "cell_type": "code",
      "source": [
        "X.shape , Y.shape"
      ],
      "metadata": {
        "colab": {
          "base_uri": "https://localhost:8080/"
        },
        "id": "Cjml6OGw6AUf",
        "outputId": "a327e5e0-14ff-4cd1-920e-77cef406a19a"
      },
      "execution_count": 65,
      "outputs": [
        {
          "output_type": "execute_result",
          "data": {
            "text/plain": [
              "((19, 1), (19, 1))"
            ]
          },
          "metadata": {},
          "execution_count": 65
        }
      ]
    },
    {
      "cell_type": "code",
      "source": [
        "X"
      ],
      "metadata": {
        "colab": {
          "base_uri": "https://localhost:8080/"
        },
        "id": "QGKFTLhT8k9P",
        "outputId": "5b4e2b97-a07e-4f9f-f361-8c492836acb5"
      },
      "execution_count": 66,
      "outputs": [
        {
          "output_type": "execute_result",
          "data": {
            "text/plain": [
              "array([[1969.59  ],\n",
              "       [1969.64  ],\n",
              "       [1969.8425],\n",
              "       [1968.8   ],\n",
              "       [1968.5625],\n",
              "       [1969.175 ],\n",
              "       [1971.3325],\n",
              "       [1972.5825],\n",
              "       [1970.8   ],\n",
              "       [1968.9275],\n",
              "       [1968.0475],\n",
              "       [1968.9375],\n",
              "       [1967.5625],\n",
              "       [1966.6075],\n",
              "       [1968.1   ],\n",
              "       [1970.7725],\n",
              "       [1971.5725],\n",
              "       [1973.6875],\n",
              "       [1974.585 ]])"
            ]
          },
          "metadata": {},
          "execution_count": 66
        }
      ]
    },
    {
      "cell_type": "code",
      "source": [
        "Y"
      ],
      "metadata": {
        "colab": {
          "base_uri": "https://localhost:8080/"
        },
        "id": "fWpqFXwm8NhW",
        "outputId": "2ff3ac05-85b2-400f-e53d-01b1b6e0de44"
      },
      "execution_count": 67,
      "outputs": [
        {
          "output_type": "execute_result",
          "data": {
            "text/plain": [
              "array([[0],\n",
              "       [0],\n",
              "       [0],\n",
              "       [1],\n",
              "       [1],\n",
              "       [1],\n",
              "       [0],\n",
              "       [0],\n",
              "       [0],\n",
              "       [1],\n",
              "       [0],\n",
              "       [0],\n",
              "       [1],\n",
              "       [1],\n",
              "       [1],\n",
              "       [1],\n",
              "       [1],\n",
              "       [0],\n",
              "       [0]])"
            ]
          },
          "metadata": {},
          "execution_count": 67
        }
      ]
    },
    {
      "cell_type": "code",
      "execution_count": 68,
      "metadata": {
        "id": "cuXaUmoqXvUt"
      },
      "outputs": [],
      "source": [
        "len_train = int(len(X) * 0.8)\n",
        "len_test = len(X) - len_train\n",
        "\n",
        "trainX, testX = X[0:len_train,:], X[len_train:len(OHLC_avg),:]\n",
        "\n",
        "trainY, testY = Y[0:len_train],Y[len_train:len(OHLC_avg)]"
      ]
    },
    {
      "cell_type": "code",
      "source": [
        "trainX , len(trainX)"
      ],
      "metadata": {
        "colab": {
          "base_uri": "https://localhost:8080/"
        },
        "id": "XBB9whK4ZBVE",
        "outputId": "f881774f-e692-4ca9-973c-2cc7ede539dd"
      },
      "execution_count": 69,
      "outputs": [
        {
          "output_type": "execute_result",
          "data": {
            "text/plain": [
              "(array([[1969.59  ],\n",
              "        [1969.64  ],\n",
              "        [1969.8425],\n",
              "        [1968.8   ],\n",
              "        [1968.5625],\n",
              "        [1969.175 ],\n",
              "        [1971.3325],\n",
              "        [1972.5825],\n",
              "        [1970.8   ],\n",
              "        [1968.9275],\n",
              "        [1968.0475],\n",
              "        [1968.9375],\n",
              "        [1967.5625],\n",
              "        [1966.6075],\n",
              "        [1968.1   ]]), 15)"
            ]
          },
          "metadata": {},
          "execution_count": 69
        }
      ]
    },
    {
      "cell_type": "code",
      "source": [
        "trainY , len(trainY)"
      ],
      "metadata": {
        "colab": {
          "base_uri": "https://localhost:8080/"
        },
        "id": "n_l15_B6ZBSo",
        "outputId": "83f4caf3-711a-40cb-aeb7-65601682c5ab"
      },
      "execution_count": 70,
      "outputs": [
        {
          "output_type": "execute_result",
          "data": {
            "text/plain": [
              "(array([[0],\n",
              "        [0],\n",
              "        [0],\n",
              "        [1],\n",
              "        [1],\n",
              "        [1],\n",
              "        [0],\n",
              "        [0],\n",
              "        [0],\n",
              "        [1],\n",
              "        [0],\n",
              "        [0],\n",
              "        [1],\n",
              "        [1],\n",
              "        [1]]), 15)"
            ]
          },
          "metadata": {},
          "execution_count": 70
        }
      ]
    },
    {
      "cell_type": "code",
      "source": [
        "testX"
      ],
      "metadata": {
        "colab": {
          "base_uri": "https://localhost:8080/"
        },
        "id": "9wHnvR1xZCo4",
        "outputId": "3fa91802-09b3-4fde-852c-7ab51d00c8cc"
      },
      "execution_count": 71,
      "outputs": [
        {
          "output_type": "execute_result",
          "data": {
            "text/plain": [
              "array([[1970.7725],\n",
              "       [1971.5725],\n",
              "       [1973.6875],\n",
              "       [1974.585 ]])"
            ]
          },
          "metadata": {},
          "execution_count": 71
        }
      ]
    },
    {
      "cell_type": "code",
      "source": [
        "testY , len(trainY)"
      ],
      "metadata": {
        "colab": {
          "base_uri": "https://localhost:8080/"
        },
        "id": "8oA8JN08ZCmJ",
        "outputId": "6ea80ca7-21b2-4265-9ef7-461e330ac3b1"
      },
      "execution_count": 72,
      "outputs": [
        {
          "output_type": "execute_result",
          "data": {
            "text/plain": [
              "(array([[1],\n",
              "        [1],\n",
              "        [0],\n",
              "        [0]]), 15)"
            ]
          },
          "metadata": {},
          "execution_count": 72
        }
      ]
    },
    {
      "cell_type": "code",
      "source": [
        ""
      ],
      "metadata": {
        "id": "xdQY-Nur9OAq"
      },
      "execution_count": 72,
      "outputs": []
    }
  ],
  "metadata": {
    "colab": {
      "collapsed_sections": [],
      "name": "Classification -data-train and test splite.ipynb",
      "provenance": [],
      "mount_file_id": "1L5CjxHfwOske5lCUC-MWW9A-_HluwdFw",
      "authorship_tag": "ABX9TyNMJ24P8a/yoCoD74u2pQFr",
      "include_colab_link": true
    },
    "kernelspec": {
      "display_name": "Python 3",
      "name": "python3"
    },
    "language_info": {
      "name": "python"
    }
  },
  "nbformat": 4,
  "nbformat_minor": 0
}