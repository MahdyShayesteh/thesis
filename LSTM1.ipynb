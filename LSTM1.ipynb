{
  "nbformat": 4,
  "nbformat_minor": 0,
  "metadata": {
    "colab": {
      "name": "LSTM1.ipynb",
      "provenance": [],
      "collapsed_sections": [],
      "authorship_tag": "ABX9TyOIfvA/vWc95bXdvo3p0avt",
      "include_colab_link": true
    },
    "kernelspec": {
      "name": "python3",
      "display_name": "Python 3"
    },
    "language_info": {
      "name": "python"
    }
  },
  "cells": [
    {
      "cell_type": "markdown",
      "metadata": {
        "id": "view-in-github",
        "colab_type": "text"
      },
      "source": [
        "<a href=\"https://colab.research.google.com/github/mahhhdy/thesis/blob/main/LSTM1.ipynb\" target=\"_parent\"><img src=\"https://colab.research.google.com/assets/colab-badge.svg\" alt=\"Open In Colab\"/></a>"
      ]
    },
    {
      "cell_type": "markdown",
      "source": [
        "lstm network without minmax scaler </br>\n",
        "this post has been used </br>\n",
        "https://towardsdatascience.com/bitcoin-price-prediction-using-lstm-9eb0938c22bd"
      ],
      "metadata": {
        "id": "KYJS8G728Wtl"
      }
    },
    {
      "cell_type": "code",
      "execution_count": null,
      "metadata": {
        "colab": {
          "base_uri": "https://localhost:8080/"
        },
        "id": "-UvOhWK64Fnj",
        "outputId": "e1a9934f-72ea-4d65-ea65-22711dc048b8"
      },
      "outputs": [
        {
          "output_type": "stream",
          "name": "stdout",
          "text": [
            "Drive already mounted at /content/drive; to attempt to forcibly remount, call drive.mount(\"/content/drive\", force_remount=True).\n"
          ]
        }
      ],
      "source": [
        "import numpy as np\n",
        "import matplotlib.pyplot as plt\n",
        "import pandas as pd\n",
        "import math\n",
        "from keras.models import Sequential\n",
        "from keras.layers import Dense , LSTM\n",
        "from keras.layers import BatchNormalization\n",
        "from sklearn.metrics import mean_squared_error\n",
        "from google.colab import drive\n",
        "from keras.layers.normalization import batch_normalization\n",
        "\n",
        "drive.mount('/content/drive')\n",
        "path='/content/drive/MyDrive/DataSets/BTCPrediction/BitcoinData.csv'\n",
        "\n",
        "df = pd.read_csv(path)\n",
        "np.random.seed(7)"
      ]
    },
    {
      "cell_type": "code",
      "source": [
        "df.head()"
      ],
      "metadata": {
        "colab": {
          "base_uri": "https://localhost:8080/",
          "height": 206
        },
        "id": "-bWzeXzCFwf-",
        "outputId": "556cdbac-191f-457e-e95e-ec9b9ed2dd8d"
      },
      "execution_count": null,
      "outputs": [
        {
          "output_type": "execute_result",
          "data": {
            "text/plain": [
              "           Date     Price      Open      High       Low     Vol. Change %\n",
              "0  Dec 05, 2021  49,102.2  49,196.4  49,677.6  48,350.0  169.41K   -0.19%\n",
              "1  Dec 04, 2021  49,195.2  53,620.7  53,847.2  42,587.8  168.00K   -8.27%\n",
              "2  Dec 03, 2021  53,631.5  56,495.2  57,543.6  52,008.9   89.20K   -5.07%\n",
              "3  Dec 02, 2021  56,496.0  57,207.8  57,377.5  55,807.9   54.94K   -1.25%\n",
              "4  Dec 01, 2021  57,210.3  56,891.7  59,064.3  56,496.5   66.75K    0.58%"
            ],
            "text/html": [
              "\n",
              "  <div id=\"df-e3e948b1-1c88-4340-a7f0-b0eb70333879\">\n",
              "    <div class=\"colab-df-container\">\n",
              "      <div>\n",
              "<style scoped>\n",
              "    .dataframe tbody tr th:only-of-type {\n",
              "        vertical-align: middle;\n",
              "    }\n",
              "\n",
              "    .dataframe tbody tr th {\n",
              "        vertical-align: top;\n",
              "    }\n",
              "\n",
              "    .dataframe thead th {\n",
              "        text-align: right;\n",
              "    }\n",
              "</style>\n",
              "<table border=\"1\" class=\"dataframe\">\n",
              "  <thead>\n",
              "    <tr style=\"text-align: right;\">\n",
              "      <th></th>\n",
              "      <th>Date</th>\n",
              "      <th>Price</th>\n",
              "      <th>Open</th>\n",
              "      <th>High</th>\n",
              "      <th>Low</th>\n",
              "      <th>Vol.</th>\n",
              "      <th>Change %</th>\n",
              "    </tr>\n",
              "  </thead>\n",
              "  <tbody>\n",
              "    <tr>\n",
              "      <th>0</th>\n",
              "      <td>Dec 05, 2021</td>\n",
              "      <td>49,102.2</td>\n",
              "      <td>49,196.4</td>\n",
              "      <td>49,677.6</td>\n",
              "      <td>48,350.0</td>\n",
              "      <td>169.41K</td>\n",
              "      <td>-0.19%</td>\n",
              "    </tr>\n",
              "    <tr>\n",
              "      <th>1</th>\n",
              "      <td>Dec 04, 2021</td>\n",
              "      <td>49,195.2</td>\n",
              "      <td>53,620.7</td>\n",
              "      <td>53,847.2</td>\n",
              "      <td>42,587.8</td>\n",
              "      <td>168.00K</td>\n",
              "      <td>-8.27%</td>\n",
              "    </tr>\n",
              "    <tr>\n",
              "      <th>2</th>\n",
              "      <td>Dec 03, 2021</td>\n",
              "      <td>53,631.5</td>\n",
              "      <td>56,495.2</td>\n",
              "      <td>57,543.6</td>\n",
              "      <td>52,008.9</td>\n",
              "      <td>89.20K</td>\n",
              "      <td>-5.07%</td>\n",
              "    </tr>\n",
              "    <tr>\n",
              "      <th>3</th>\n",
              "      <td>Dec 02, 2021</td>\n",
              "      <td>56,496.0</td>\n",
              "      <td>57,207.8</td>\n",
              "      <td>57,377.5</td>\n",
              "      <td>55,807.9</td>\n",
              "      <td>54.94K</td>\n",
              "      <td>-1.25%</td>\n",
              "    </tr>\n",
              "    <tr>\n",
              "      <th>4</th>\n",
              "      <td>Dec 01, 2021</td>\n",
              "      <td>57,210.3</td>\n",
              "      <td>56,891.7</td>\n",
              "      <td>59,064.3</td>\n",
              "      <td>56,496.5</td>\n",
              "      <td>66.75K</td>\n",
              "      <td>0.58%</td>\n",
              "    </tr>\n",
              "  </tbody>\n",
              "</table>\n",
              "</div>\n",
              "      <button class=\"colab-df-convert\" onclick=\"convertToInteractive('df-e3e948b1-1c88-4340-a7f0-b0eb70333879')\"\n",
              "              title=\"Convert this dataframe to an interactive table.\"\n",
              "              style=\"display:none;\">\n",
              "        \n",
              "  <svg xmlns=\"http://www.w3.org/2000/svg\" height=\"24px\"viewBox=\"0 0 24 24\"\n",
              "       width=\"24px\">\n",
              "    <path d=\"M0 0h24v24H0V0z\" fill=\"none\"/>\n",
              "    <path d=\"M18.56 5.44l.94 2.06.94-2.06 2.06-.94-2.06-.94-.94-2.06-.94 2.06-2.06.94zm-11 1L8.5 8.5l.94-2.06 2.06-.94-2.06-.94L8.5 2.5l-.94 2.06-2.06.94zm10 10l.94 2.06.94-2.06 2.06-.94-2.06-.94-.94-2.06-.94 2.06-2.06.94z\"/><path d=\"M17.41 7.96l-1.37-1.37c-.4-.4-.92-.59-1.43-.59-.52 0-1.04.2-1.43.59L10.3 9.45l-7.72 7.72c-.78.78-.78 2.05 0 2.83L4 21.41c.39.39.9.59 1.41.59.51 0 1.02-.2 1.41-.59l7.78-7.78 2.81-2.81c.8-.78.8-2.07 0-2.86zM5.41 20L4 18.59l7.72-7.72 1.47 1.35L5.41 20z\"/>\n",
              "  </svg>\n",
              "      </button>\n",
              "      \n",
              "  <style>\n",
              "    .colab-df-container {\n",
              "      display:flex;\n",
              "      flex-wrap:wrap;\n",
              "      gap: 12px;\n",
              "    }\n",
              "\n",
              "    .colab-df-convert {\n",
              "      background-color: #E8F0FE;\n",
              "      border: none;\n",
              "      border-radius: 50%;\n",
              "      cursor: pointer;\n",
              "      display: none;\n",
              "      fill: #1967D2;\n",
              "      height: 32px;\n",
              "      padding: 0 0 0 0;\n",
              "      width: 32px;\n",
              "    }\n",
              "\n",
              "    .colab-df-convert:hover {\n",
              "      background-color: #E2EBFA;\n",
              "      box-shadow: 0px 1px 2px rgba(60, 64, 67, 0.3), 0px 1px 3px 1px rgba(60, 64, 67, 0.15);\n",
              "      fill: #174EA6;\n",
              "    }\n",
              "\n",
              "    [theme=dark] .colab-df-convert {\n",
              "      background-color: #3B4455;\n",
              "      fill: #D2E3FC;\n",
              "    }\n",
              "\n",
              "    [theme=dark] .colab-df-convert:hover {\n",
              "      background-color: #434B5C;\n",
              "      box-shadow: 0px 1px 3px 1px rgba(0, 0, 0, 0.15);\n",
              "      filter: drop-shadow(0px 1px 2px rgba(0, 0, 0, 0.3));\n",
              "      fill: #FFFFFF;\n",
              "    }\n",
              "  </style>\n",
              "\n",
              "      <script>\n",
              "        const buttonEl =\n",
              "          document.querySelector('#df-e3e948b1-1c88-4340-a7f0-b0eb70333879 button.colab-df-convert');\n",
              "        buttonEl.style.display =\n",
              "          google.colab.kernel.accessAllowed ? 'block' : 'none';\n",
              "\n",
              "        async function convertToInteractive(key) {\n",
              "          const element = document.querySelector('#df-e3e948b1-1c88-4340-a7f0-b0eb70333879');\n",
              "          const dataTable =\n",
              "            await google.colab.kernel.invokeFunction('convertToInteractive',\n",
              "                                                     [key], {});\n",
              "          if (!dataTable) return;\n",
              "\n",
              "          const docLinkHtml = 'Like what you see? Visit the ' +\n",
              "            '<a target=\"_blank\" href=https://colab.research.google.com/notebooks/data_table.ipynb>data table notebook</a>'\n",
              "            + ' to learn more about interactive tables.';\n",
              "          element.innerHTML = '';\n",
              "          dataTable['output_type'] = 'display_data';\n",
              "          await google.colab.output.renderOutput(dataTable, element);\n",
              "          const docLink = document.createElement('div');\n",
              "          docLink.innerHTML = docLinkHtml;\n",
              "          element.appendChild(docLink);\n",
              "        }\n",
              "      </script>\n",
              "    </div>\n",
              "  </div>\n",
              "  "
            ]
          },
          "metadata": {},
          "execution_count": 3
        }
      ]
    },
    {
      "cell_type": "code",
      "source": [
        "df.drop(['Date'], 1, inplace=True)\n",
        "# df['Date'] = pd.to_datetime(df['Date'])"
      ],
      "metadata": {
        "colab": {
          "base_uri": "https://localhost:8080/"
        },
        "id": "BleM-CwB4SC1",
        "outputId": "5f0dfa1e-9bf5-42a2-9d28-6da77ab6f6e3"
      },
      "execution_count": null,
      "outputs": [
        {
          "output_type": "stream",
          "name": "stderr",
          "text": [
            "/usr/local/lib/python3.7/dist-packages/ipykernel_launcher.py:1: FutureWarning: In a future version of pandas all arguments of DataFrame.drop except for the argument 'labels' will be keyword-only\n",
            "  \"\"\"Entry point for launching an IPython kernel.\n"
          ]
        }
      ]
    },
    {
      "cell_type": "code",
      "source": [
        "df['Change %'] = df['Change %'].str.slice(0, -1)\n",
        "df['Vol.'] = df['Vol.'].str.slice(0, -1)\n",
        "\n",
        "for x in ['Price','Open','High','Low']:\n",
        "  if(df.dtypes[x]==np.object):\n",
        "    df[x] = df[x].str.replace(',','')\n",
        "    df[x] = df[x].astype(np.float64)\n",
        "\n",
        "df['Vol.'] = pd.to_numeric(df['Vol.'], downcast=\"float\")\n",
        "df['Change %'] = pd.to_numeric(df['Change %'], downcast=\"float\")"
      ],
      "metadata": {
        "colab": {
          "base_uri": "https://localhost:8080/"
        },
        "id": "jQLCzql6CroL",
        "outputId": "74742f09-c32d-4986-af39-eccef8b99ad4"
      },
      "execution_count": null,
      "outputs": [
        {
          "output_type": "stream",
          "name": "stderr",
          "text": [
            "/usr/local/lib/python3.7/dist-packages/ipykernel_launcher.py:5: DeprecationWarning: `np.object` is a deprecated alias for the builtin `object`. To silence this warning, use `object` by itself. Doing this will not modify any behavior and is safe. \n",
            "Deprecated in NumPy 1.20; for more details and guidance: https://numpy.org/devdocs/release/1.20.0-notes.html#deprecations\n",
            "  \"\"\"\n"
          ]
        }
      ]
    },
    {
      "cell_type": "code",
      "source": [
        "df.head() , df.shape"
      ],
      "metadata": {
        "colab": {
          "base_uri": "https://localhost:8080/"
        },
        "id": "2gasNL68EdfZ",
        "outputId": "b5b9df99-9dd1-47ee-c594-d53151935b1b"
      },
      "execution_count": null,
      "outputs": [
        {
          "output_type": "execute_result",
          "data": {
            "text/plain": [
              "(     Price     Open     High      Low        Vol.  Change %\n",
              " 0  49102.2  49196.4  49677.6  48350.0  169.410004     -0.19\n",
              " 1  49195.2  53620.7  53847.2  42587.8  168.000000     -8.27\n",
              " 2  53631.5  56495.2  57543.6  52008.9   89.199997     -5.07\n",
              " 3  56496.0  57207.8  57377.5  55807.9   54.939999     -1.25\n",
              " 4  57210.3  56891.7  59064.3  56496.5   66.750000      0.58, (3989, 6))"
            ]
          },
          "metadata": {},
          "execution_count": 6
        }
      ]
    },
    {
      "cell_type": "code",
      "source": [
        "df = df.to_numpy()\n",
        "df"
      ],
      "metadata": {
        "colab": {
          "base_uri": "https://localhost:8080/"
        },
        "id": "5_pMsOgXp8TC",
        "outputId": "7d303bc2-9704-448a-f74a-5ef0a897bad7"
      },
      "execution_count": null,
      "outputs": [
        {
          "output_type": "execute_result",
          "data": {
            "text/plain": [
              "array([[ 4.91022000e+04,  4.91964000e+04,  4.96776000e+04,\n",
              "         4.83500000e+04,  1.69410004e+02, -1.89999998e-01],\n",
              "       [ 4.91952000e+04,  5.36207000e+04,  5.38472000e+04,\n",
              "         4.25878000e+04,  1.68000000e+02, -8.27000046e+00],\n",
              "       [ 5.36315000e+04,  5.64952000e+04,  5.75436000e+04,\n",
              "         5.20089000e+04,  8.91999969e+01, -5.07000017e+00],\n",
              "       ...,\n",
              "       [ 3.00000000e-01,  3.00000000e-01,  3.00000000e-01,\n",
              "         3.00000000e-01,  3.46000004e+00,  0.00000000e+00],\n",
              "       [ 3.00000000e-01,  3.00000000e-01,  3.00000000e-01,\n",
              "         3.00000000e-01,  3.60000014e-01,  0.00000000e+00],\n",
              "       [ 3.00000000e-01,  3.00000000e-01,  3.00000000e-01,\n",
              "         3.00000000e-01,  1.88000000e+00,  0.00000000e+00]])"
            ]
          },
          "metadata": {},
          "execution_count": 7
        }
      ]
    },
    {
      "cell_type": "code",
      "source": [
        "prediction_days = round(df.shape[0] * 0.7)\n",
        "\n",
        "df_train= df[:len(df)-prediction_days]\n",
        "df_test= df[len(df)-prediction_days:]\n",
        "\n",
        "# X_train.shape , y_train.shape , X_test.shape , y_test.shape\n",
        "df_train.shape , df_test.shape "
      ],
      "metadata": {
        "colab": {
          "base_uri": "https://localhost:8080/"
        },
        "id": "C5OEEcOUCZ3B",
        "outputId": "256b2bec-06b6-4fa1-d63e-d502a560649d"
      },
      "execution_count": null,
      "outputs": [
        {
          "output_type": "execute_result",
          "data": {
            "text/plain": [
              "((1197, 6), (2792, 6))"
            ]
          },
          "metadata": {},
          "execution_count": 8
        }
      ]
    },
    {
      "cell_type": "markdown",
      "source": [
        "ask from alireza --\n",
        "sotone aval ro ham baraye amozesh estefade konam ?"
      ],
      "metadata": {
        "id": "T9ftN_x4MNeL"
      }
    },
    {
      "cell_type": "code",
      "source": [
        "x_train = df_train[0:len(df_train)]\n",
        "y_train = df_train[:,0:1]\n",
        "\n",
        "x_test = df_test[0:len(df_test)]\n",
        "y_test = df_test[:,0:1]\n",
        "\n",
        "x_train.shape , y_train.shape , x_test.shape , y_test.shape\n",
        "\n",
        "# # # x_train = np.reshape(x_train, (len(x_train), 1, 1))\n",
        "x_train= x_train.reshape(x_train.shape[0],x_train.shape[1],1)\n",
        "x_test= x_test.reshape(x_test.shape[0],x_test.shape[1],1)\n",
        "\n",
        "x_train.shape , y_train.shape , x_test.shape , y_test.shape"
      ],
      "metadata": {
        "colab": {
          "base_uri": "https://localhost:8080/"
        },
        "id": "eKwpubJdCgl6",
        "outputId": "be9b44cb-d646-4821-b5d3-fc5250c56575"
      },
      "execution_count": null,
      "outputs": [
        {
          "output_type": "execute_result",
          "data": {
            "text/plain": [
              "((1197, 6, 1), (1197, 1), (2792, 6, 1), (2792, 1))"
            ]
          },
          "metadata": {},
          "execution_count": 9
        }
      ]
    },
    {
      "cell_type": "code",
      "source": [
        "num_units = 4\n",
        "activation_function = 'sigmoid'\n",
        "optimizer = 'adam'\n",
        "loss_function = 'mean_squared_error'\n",
        "batch_size = 5\n",
        "num_epochs = 50\n",
        "\n",
        "# Initialize the RNN\n",
        "model = Sequential()\n",
        "\n",
        "model.add(BatchNormalization())\n",
        "\n",
        "# Adding the input layer and the LSTM layer\n",
        "model.add(LSTM(units = num_units, activation = activation_function, input_shape=(None, 1)))\n",
        "\n",
        "# Adding the output layer\n",
        "model.add(Dense(units = 1))\n",
        "\n",
        "# Compiling the RNN\n",
        "model.compile(optimizer = optimizer, loss = loss_function)\n",
        "\n",
        "# Using the training set to train the model\n",
        "# model.fit(x_train, y_train, batch_size = batch_size, epochs = num_epochs)\n",
        "model.fit(x_train, y_train, validation_data=(x_train,y_train) , batch_size = batch_size, epochs = num_epochs , verbose=1)"
      ],
      "metadata": {
        "colab": {
          "base_uri": "https://localhost:8080/"
        },
        "id": "Iuvs43uRGkvb",
        "outputId": "5bd7b847-1965-4cce-de33-38fadacfcf11"
      },
      "execution_count": null,
      "outputs": [
        {
          "output_type": "stream",
          "name": "stdout",
          "text": [
            "Epoch 1/50\n",
            "240/240 [==============================] - 3s 6ms/step - loss: 728840640.0000 - val_loss: 728823872.0000\n",
            "Epoch 2/50\n",
            "240/240 [==============================] - 2s 6ms/step - loss: 728808576.0000 - val_loss: 728794304.0000\n",
            "Epoch 3/50\n",
            "240/240 [==============================] - 1s 5ms/step - loss: 728778560.0000 - val_loss: 728760256.0000\n",
            "Epoch 4/50\n",
            "240/240 [==============================] - 2s 6ms/step - loss: 728738880.0000 - val_loss: 728719744.0000\n",
            "Epoch 5/50\n",
            "240/240 [==============================] - 2s 6ms/step - loss: 728702016.0000 - val_loss: 728686272.0000\n",
            "Epoch 6/50\n",
            "240/240 [==============================] - 2s 8ms/step - loss: 728670720.0000 - val_loss: 728655360.0000\n",
            "Epoch 7/50\n",
            "240/240 [==============================] - 1s 5ms/step - loss: 728638784.0000 - val_loss: 728619648.0000\n",
            "Epoch 8/50\n",
            "240/240 [==============================] - 1s 5ms/step - loss: 728593920.0000 - val_loss: 728568448.0000\n",
            "Epoch 9/50\n",
            "240/240 [==============================] - 2s 6ms/step - loss: 728543360.0000 - val_loss: 728520576.0000\n",
            "Epoch 10/50\n",
            "240/240 [==============================] - 2s 7ms/step - loss: 728500096.0000 - val_loss: 728480192.0000\n",
            "Epoch 11/50\n",
            "240/240 [==============================] - 1s 5ms/step - loss: 728460608.0000 - val_loss: 728441536.0000\n",
            "Epoch 12/50\n",
            "240/240 [==============================] - 1s 5ms/step - loss: 728422592.0000 - val_loss: 728403328.0000\n",
            "Epoch 13/50\n",
            "240/240 [==============================] - 1s 5ms/step - loss: 728385280.0000 - val_loss: 728366976.0000\n",
            "Epoch 14/50\n",
            "240/240 [==============================] - 2s 7ms/step - loss: 728348608.0000 - val_loss: 728330688.0000\n",
            "Epoch 15/50\n",
            "240/240 [==============================] - 2s 7ms/step - loss: 728312704.0000 - val_loss: 728294528.0000\n",
            "Epoch 16/50\n",
            "240/240 [==============================] - 2s 7ms/step - loss: 728276992.0000 - val_loss: 728259136.0000\n",
            "Epoch 17/50\n",
            "240/240 [==============================] - 2s 7ms/step - loss: 728241728.0000 - val_loss: 728223744.0000\n",
            "Epoch 18/50\n",
            "240/240 [==============================] - 1s 5ms/step - loss: 728206208.0000 - val_loss: 728188288.0000\n",
            "Epoch 19/50\n",
            "240/240 [==============================] - 1s 5ms/step - loss: 728171008.0000 - val_loss: 728153920.0000\n",
            "Epoch 20/50\n",
            "240/240 [==============================] - 2s 6ms/step - loss: 728136064.0000 - val_loss: 728118720.0000\n",
            "Epoch 21/50\n",
            "240/240 [==============================] - 1s 5ms/step - loss: 728101312.0000 - val_loss: 728083648.0000\n",
            "Epoch 22/50\n",
            "240/240 [==============================] - 2s 6ms/step - loss: 728066304.0000 - val_loss: 728048384.0000\n",
            "Epoch 23/50\n",
            "240/240 [==============================] - 1s 5ms/step - loss: 728031232.0000 - val_loss: 728013760.0000\n",
            "Epoch 24/50\n",
            "240/240 [==============================] - 2s 6ms/step - loss: 727996672.0000 - val_loss: 727978944.0000\n",
            "Epoch 25/50\n",
            "240/240 [==============================] - 1s 5ms/step - loss: 727961792.0000 - val_loss: 727944192.0000\n",
            "Epoch 26/50\n",
            "240/240 [==============================] - 2s 7ms/step - loss: 727927168.0000 - val_loss: 727909760.0000\n",
            "Epoch 27/50\n",
            "240/240 [==============================] - 2s 8ms/step - loss: 727892096.0000 - val_loss: 727874944.0000\n",
            "Epoch 28/50\n",
            "240/240 [==============================] - 1s 5ms/step - loss: 727857664.0000 - val_loss: 727840128.0000\n",
            "Epoch 29/50\n",
            "240/240 [==============================] - 1s 6ms/step - loss: 727823168.0000 - val_loss: 727805504.0000\n",
            "Epoch 30/50\n",
            "240/240 [==============================] - 2s 6ms/step - loss: 727788224.0000 - val_loss: 727770752.0000\n",
            "Epoch 31/50\n",
            "240/240 [==============================] - 1s 5ms/step - loss: 727753216.0000 - val_loss: 727736384.0000\n",
            "Epoch 32/50\n",
            "240/240 [==============================] - 2s 6ms/step - loss: 727718720.0000 - val_loss: 727701248.0000\n",
            "Epoch 33/50\n",
            "240/240 [==============================] - 1s 5ms/step - loss: 727683840.0000 - val_loss: 727661504.0000\n",
            "Epoch 34/50\n",
            "240/240 [==============================] - 1s 5ms/step - loss: 727608128.0000 - val_loss: 727569664.0000\n",
            "Epoch 35/50\n",
            "240/240 [==============================] - 1s 5ms/step - loss: 727543040.0000 - val_loss: 727517184.0000\n",
            "Epoch 36/50\n",
            "240/240 [==============================] - 1s 5ms/step - loss: 727492992.0000 - val_loss: 727468544.0000\n",
            "Epoch 37/50\n",
            "240/240 [==============================] - 3s 12ms/step - loss: 727445632.0000 - val_loss: 727422336.0000\n",
            "Epoch 38/50\n",
            "240/240 [==============================] - 2s 9ms/step - loss: 727399680.0000 - val_loss: 727377152.0000\n",
            "Epoch 39/50\n",
            "240/240 [==============================] - 1s 5ms/step - loss: 727354688.0000 - val_loss: 727331968.0000\n",
            "Epoch 40/50\n",
            "240/240 [==============================] - 2s 6ms/step - loss: 727310208.0000 - val_loss: 727287936.0000\n",
            "Epoch 41/50\n",
            "240/240 [==============================] - 1s 5ms/step - loss: 727265664.0000 - val_loss: 727243328.0000\n",
            "Epoch 42/50\n",
            "240/240 [==============================] - 1s 5ms/step - loss: 727221952.0000 - val_loss: 727199360.0000\n",
            "Epoch 43/50\n",
            "240/240 [==============================] - 1s 6ms/step - loss: 727178176.0000 - val_loss: 727155392.0000\n",
            "Epoch 44/50\n",
            "240/240 [==============================] - 1s 5ms/step - loss: 727133760.0000 - val_loss: 727112000.0000\n",
            "Epoch 45/50\n",
            "240/240 [==============================] - 1s 5ms/step - loss: 727090176.0000 - val_loss: 727068288.0000\n",
            "Epoch 46/50\n",
            "240/240 [==============================] - 1s 5ms/step - loss: 727046592.0000 - val_loss: 727024320.0000\n",
            "Epoch 47/50\n",
            "240/240 [==============================] - 2s 6ms/step - loss: 727002944.0000 - val_loss: 726980864.0000\n",
            "Epoch 48/50\n",
            "240/240 [==============================] - 1s 5ms/step - loss: 726959104.0000 - val_loss: 726936960.0000\n",
            "Epoch 49/50\n",
            "240/240 [==============================] - 1s 5ms/step - loss: 726915840.0000 - val_loss: 726894144.0000\n",
            "Epoch 50/50\n",
            "240/240 [==============================] - 2s 6ms/step - loss: 726872192.0000 - val_loss: 726850688.0000\n"
          ]
        },
        {
          "output_type": "execute_result",
          "data": {
            "text/plain": [
              "<keras.callbacks.History at 0x7f70b9e04810>"
            ]
          },
          "metadata": {},
          "execution_count": 10
        }
      ]
    },
    {
      "cell_type": "code",
      "source": [
        "model.summary()"
      ],
      "metadata": {
        "id": "mI7T7XSbdbNF",
        "colab": {
          "base_uri": "https://localhost:8080/"
        },
        "outputId": "1602afd8-9b26-4d53-b708-68750e7a6f35"
      },
      "execution_count": null,
      "outputs": [
        {
          "output_type": "stream",
          "name": "stdout",
          "text": [
            "Model: \"sequential\"\n",
            "_________________________________________________________________\n",
            " Layer (type)                Output Shape              Param #   \n",
            "=================================================================\n",
            " batch_normalization (BatchN  (None, 6, 1)             4         \n",
            " ormalization)                                                   \n",
            "                                                                 \n",
            " lstm (LSTM)                 (None, 4)                 96        \n",
            "                                                                 \n",
            " dense (Dense)               (None, 1)                 5         \n",
            "                                                                 \n",
            "=================================================================\n",
            "Total params: 105\n",
            "Trainable params: 103\n",
            "Non-trainable params: 2\n",
            "_________________________________________________________________\n"
          ]
        }
      ]
    },
    {
      "cell_type": "code",
      "source": [
        "test_set = df_test\n",
        "len(test_set)\n",
        "\n",
        "# inputs = np.reshape(test_set, (len(test_set), 1))\n",
        "# inputs = min_max_scaler.transform(inputs)\n",
        "\n",
        "inputs= test_set.reshape(test_set.shape[0],test_set.shape[1],1)\n",
        "\n",
        "\n",
        "# inputs = test_set.reshape((len(test_set), 1, 1))\n",
        "\n",
        "predicted_price = model.predict(inputs)\n",
        "\n",
        "# I have to ask from Alireza\n",
        "# predicted_price = min_max_scaler.inverse_transform(predicted_price)"
      ],
      "metadata": {
        "id": "yBHz3rpWToDV"
      },
      "execution_count": null,
      "outputs": []
    },
    {
      "cell_type": "code",
      "source": [
        "plt.figure(figsize=(15, 7), dpi=80, facecolor = 'w', edgecolor = 'k')\n",
        "\n",
        "plt.plot(test_set[:, 0], color='red', label='Real BTC Price')\n",
        "plt.plot(predicted_price[:, 0], color = 'blue', label = 'Predicted BTC Price')\n",
        "\n",
        "plt.title('BTC Price Prediction', fontsize = 10)\n",
        "plt.xlabel('Time', fontsize=10)\n",
        "plt.ylabel('BTC Price(USD)', fontsize = 10)\n",
        "plt.legend(loc = 'best')\n",
        "plt.show()"
      ],
      "metadata": {
        "id": "WwbpFwSzkyJn",
        "colab": {
          "base_uri": "https://localhost:8080/",
          "height": 502
        },
        "outputId": "ba12ed87-d194-4c57-a50b-b04afa3e6d67"
      },
      "execution_count": null,
      "outputs": [
        {
          "output_type": "display_data",
          "data": {
            "text/plain": [
              "<Figure size 1200x560 with 1 Axes>"
            ],
            "image/png": "[encoded data removed]"
          },
          "metadata": {}
        }
      ]
    }
  ]
}